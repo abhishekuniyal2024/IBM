{
 "cells": [
  {
   "cell_type": "markdown",
   "id": "ec18f3fe-fbc7-4d0d-8865-d335deb11773",
   "metadata": {},
   "source": [
    "22 JULY. IBM Python for AI"
   ]
  },
  {
   "cell_type": "code",
   "execution_count": 1,
   "id": "ba86c790-935d-4985-8afa-2f724bad4ec1",
   "metadata": {
    "collapsed": true,
    "jupyter": {
     "outputs_hidden": true,
     "source_hidden": true
    }
   },
   "outputs": [
    {
     "name": "stdout",
     "output_type": "stream",
     "text": [
      "hey\n"
     ]
    }
   ],
   "source": [
    "print(\"hey\")"
   ]
  },
  {
   "cell_type": "code",
   "execution_count": 5,
   "id": "58c355d5-6da5-47b2-9f6d-2fcc652065bd",
   "metadata": {
    "collapsed": true,
    "jupyter": {
     "outputs_hidden": true,
     "source_hidden": true
    }
   },
   "outputs": [
    {
     "name": "stdout",
     "output_type": "stream",
     "text": [
      "3.11.7 | packaged by Anaconda, Inc. | (main, Dec 15 2023, 18:05:47) [MSC v.1916 64 bit (AMD64)]\n"
     ]
    }
   ],
   "source": [
    "# Check the Python Version\n",
    "import sys\n",
    "print(sys.version)    #this line will print the python version"
   ]
  },
  {
   "cell_type": "code",
   "execution_count": 21,
   "id": "7cddfad1-292d-42fc-82be-433b6297f9b4",
   "metadata": {
    "collapsed": true,
    "jupyter": {
     "outputs_hidden": true,
     "source_hidden": true
    }
   },
   "outputs": [
    {
     "name": "stdout",
     "output_type": "stream",
     "text": [
      "<class 'str'>\n",
      "<class 'int'>\n",
      "<class 'float'>\n",
      "<class 'bool'>\n"
     ]
    }
   ],
   "source": [
    "# types in PYthon\n",
    "a=\"abishek\"\n",
    "b=2\n",
    "c=3.5\n",
    "d=5>2\n",
    "\n",
    "print(type(a))\n",
    "print(type(b))\n",
    "print(type(c))\n",
    "print(type(d))"
   ]
  },
  {
   "cell_type": "code",
   "execution_count": 29,
   "id": "071b1b39-f540-4326-8497-53d827fee0c7",
   "metadata": {
    "collapsed": true,
    "jupyter": {
     "outputs_hidden": true,
     "source_hidden": true
    }
   },
   "outputs": [
    {
     "name": "stdout",
     "output_type": "stream",
     "text": [
      "<class 'float'>\n",
      "<class 'int'>\n",
      "<class 'str'>\n",
      "<class 'bool'>\n",
      "<class 'int'>\n"
     ]
    }
   ],
   "source": [
    "# Typecasting -  changing data type\n",
    "n=3.0\n",
    "print(type(n))\n",
    "\n",
    "b=int(n)\n",
    "print(type(b))\n",
    "\n",
    "c=str(n)\n",
    "print(type(c))\n",
    "\n",
    "d=True\n",
    "print(type(d))\n",
    "e=int(d)\n",
    "print(type(e))"
   ]
  },
  {
   "cell_type": "code",
   "execution_count": 32,
   "id": "c34c9113-c46c-4eb5-8cd0-d456de854407",
   "metadata": {
    "collapsed": true,
    "jupyter": {
     "outputs_hidden": true,
     "source_hidden": true
    }
   },
   "outputs": [
    {
     "name": "stdout",
     "output_type": "stream",
     "text": [
      "10\n",
      "5.0\n",
      "5.0\n"
     ]
    }
   ],
   "source": [
    "# Expression \n",
    "# Write an expression to add 30 and 20 and subtract 40\n",
    "print(30+20-40)\n",
    "# Write an expression to subtract 5 from 55 and divide the result by 10\n",
    "print((55-5)/10)\n",
    "# Write an expression to multiply 6 with 10 and divide the result by 12\n",
    "print((6*10)/12)"
   ]
  },
  {
   "cell_type": "markdown",
   "id": "4a1aec23-ec2b-470b-8726-284921cff418",
   "metadata": {},
   "source": [
    "USER INPUT"
   ]
  },
  {
   "cell_type": "code",
   "execution_count": 53,
   "id": "23185254-4b76-42ad-92f9-8daddf91fbdd",
   "metadata": {
    "collapsed": true,
    "jupyter": {
     "outputs_hidden": true,
     "source_hidden": true
    }
   },
   "outputs": [
    {
     "name": "stdin",
     "output_type": "stream",
     "text": [
      "enter your name:  abhi\n"
     ]
    },
    {
     "name": "stdout",
     "output_type": "stream",
     "text": [
      "good morning abhi\n"
     ]
    }
   ],
   "source": [
    "name=input(\"enter your name: \")\n",
    "print(f\"good morning {name}\")"
   ]
  },
  {
   "cell_type": "code",
   "execution_count": null,
   "id": "ca074160-df3b-41de-b3ad-3bd2c201046c",
   "metadata": {
    "collapsed": true,
    "jupyter": {
     "outputs_hidden": true,
     "source_hidden": true
    }
   },
   "outputs": [],
   "source": [
    "# take 2 value from user in a single line \n",
    "a, b = map(int, input(\"Enter two numbers separated by space: \").split())\n",
    "print(a + b)"
   ]
  },
  {
   "cell_type": "code",
   "execution_count": null,
   "id": "c0e7a25a-b2bb-4dca-9733-06ee2fb67bc6",
   "metadata": {
    "collapsed": true,
    "jupyter": {
     "outputs_hidden": true,
     "source_hidden": true
    }
   },
   "outputs": [],
   "source": [
    "# take 2 value from user in a single line. we will use comma instead of space here now\n",
    "a, b = map(int, input(\"Enter two numbers separated by comma: \").split(\",\"))\n",
    "print(a + b)\n"
   ]
  },
  {
   "cell_type": "markdown",
   "id": "0ad5e35b-a577-4193-abdc-bef01f945175",
   "metadata": {},
   "source": [
    "STRING"
   ]
  },
  {
   "cell_type": "code",
   "execution_count": 7,
   "id": "9c297020-b3d7-497c-87fb-f1bc5041f103",
   "metadata": {
    "collapsed": true,
    "jupyter": {
     "outputs_hidden": true,
     "source_hidden": true
    }
   },
   "outputs": [
    {
     "name": "stdout",
     "output_type": "stream",
     "text": [
      "abhishek welcome\n",
      "hello abhishek welcome\n",
      "my name is abhishek and i live in india\n",
      "my name is abhishek and my country is india\n",
      "My name is abhishek and I stay in india.\n"
     ]
    }
   ],
   "source": [
    "# STRING\n",
    "name=\"abhishek\"\n",
    "country=\"india\"\n",
    "print(name + \" welcome\")\n",
    "print(\"hello\",name + \" welcome\")\n",
    "print(f\"my name is {name} and i live in {country}\")\n",
    "print(\"my name is\",name + \" and my country is\",country)\n",
    "print(\"My name is {} and I stay in {}.\".format(name, country))"
   ]
  },
  {
   "cell_type": "code",
   "execution_count": 29,
   "id": "9031de4e-e595-443d-8236-0a671a866fc6",
   "metadata": {
    "collapsed": true,
    "jupyter": {
     "outputs_hidden": true,
     "source_hidden": true
    }
   },
   "outputs": [
    {
     "name": "stdout",
     "output_type": "stream",
     "text": [
      "my name is abhishek. \n",
      " I live in india\n",
      "--------------------------------------------------------------\n",
      "my name is abhishek \\n. i live in india\n",
      "--------------------------------------------------------------\n",
      "Raw String: C:\\new_folder\\file.txt\n"
     ]
    }
   ],
   "source": [
    "# Raw String. for handling textual data, especially when dealing with escape characters\n",
    "str= \"my name is abhishek. \\n I live in india\"\n",
    "print(str)\n",
    "print(\"--------------------------------------------------------------\")\n",
    "\n",
    "# \\n is not interpreted as a newline character, but rather as two separate characters, ‘’ and ‘n’\n",
    "raw_str=r\"my name is abhishek \\n. i live in india\"    #\n",
    "print(raw_str)\n",
    "print(\"--------------------------------------------------------------\")\n",
    "\n",
    "# another example, which is more realstic. without raw string, it will take \\n as next line.\n",
    "raw_string = r\"C:\\new_folder\\file.txt\"\n",
    "print(\"Raw String:\", raw_string)"
   ]
  },
  {
   "cell_type": "code",
   "execution_count": 59,
   "id": "e87a9ec0-1790-48b8-ad0b-ef1baaedab75",
   "metadata": {
    "collapsed": true,
    "jupyter": {
     "outputs_hidden": true,
     "source_hidden": true
    }
   },
   "outputs": [
    {
     "name": "stdout",
     "output_type": "stream",
     "text": [
      "hey i am \n",
      "abhishek\n",
      "--------------------------------------------\n",
      "hey i am \tabhishek\n",
      "--------------------------------------------\n",
      "hey i amabhishelk\n",
      "--------------------------------------------\n",
      "hey i am \\ abhishek\n",
      "--------------------------------------------\n",
      "hey i am \\ abhishek\n"
     ]
    }
   ],
   "source": [
    "# escape sequence\n",
    "\n",
    "# \\n new line escape. enter new line\n",
    "print(\"hey i am \\nabhishek\")\n",
    "print(\"--------------------------------------------\")\n",
    "\n",
    "# \\t tab escape. it work as tab key, give space\n",
    "print(\"hey i am \\tabhishek\")\n",
    "print(\"--------------------------------------------\")\n",
    "\n",
    "# \\b backspace. it works as backspace key, revmove space\n",
    "print(\"hey i am \\babhishelk\")\n",
    "print(\"--------------------------------------------\")\n",
    "\n",
    "# Include back slash in string\n",
    "print(\"hey i am \\\\ abhishek\")\n",
    "print(\"--------------------------------------------\")\n",
    "\n",
    "# r will tell python that string will be display as raw string\n",
    "print(r\"hey i am \\ abhishek\")"
   ]
  },
  {
   "cell_type": "code",
   "execution_count": 43,
   "id": "6673c489-1469-42dd-ab45-e9b66cd18d2b",
   "metadata": {
    "collapsed": true,
    "jupyter": {
     "outputs_hidden": true,
     "source_hidden": true
    }
   },
   "outputs": [
    {
     "name": "stdout",
     "output_type": "stream",
     "text": [
      "hi, world\n"
     ]
    }
   ],
   "source": [
    "# how to use strip string. to remove space from beginning and end both side\n",
    "a=\" hi, world \"\n",
    "print(a.strip())"
   ]
  },
  {
   "cell_type": "code",
   "execution_count": 47,
   "id": "aa4274a3-c39b-4307-82c3-d330ed41703a",
   "metadata": {
    "collapsed": true,
    "jupyter": {
     "outputs_hidden": true,
     "source_hidden": true
    }
   },
   "outputs": [
    {
     "name": "stdout",
     "output_type": "stream",
     "text": [
      "hi world\n"
     ]
    }
   ],
   "source": [
    "# how to use replace string method(). most important\n",
    "b=\"hello world\"\n",
    "print(b.replace(\"hello\",\"hi\"))"
   ]
  },
  {
   "cell_type": "code",
   "execution_count": 45,
   "id": "4597797f-14a8-4522-9ae4-ceb565444567",
   "metadata": {
    "collapsed": true,
    "jupyter": {
     "outputs_hidden": true,
     "source_hidden": true
    }
   },
   "outputs": [
    {
     "name": "stdout",
     "output_type": "stream",
     "text": [
      "['hello', 'python', 'programmer', '23']\n"
     ]
    }
   ],
   "source": [
    "#  how to use split string method(). split method split into substring\n",
    "t1= \"hello python programmer 23\"\n",
    "print(t1.split())"
   ]
  },
  {
   "cell_type": "code",
   "execution_count": 27,
   "id": "ef01f74e-16cb-4c69-9c7c-cf66f5f29ecc",
   "metadata": {
    "collapsed": true,
    "jupyter": {
     "outputs_hidden": true,
     "source_hidden": true
    }
   },
   "outputs": [
    {
     "name": "stdout",
     "output_type": "stream",
     "text": [
      "before upper: Thriller is the sixth studio album\n",
      "After upper: THRILLER IS THE SIXTH STUDIO ALBUM\n",
      "After lower: thriller is the sixth studio album\n",
      "Is It A Title:  False\n",
      "34\n",
      "r\n",
      "hril\n",
      "mubla oiduts htxis eht si rellirhT\n",
      "iller is the sixth studio\n"
     ]
    }
   ],
   "source": [
    "# string manipulation and function\n",
    "\n",
    "a = \"Thriller is the sixth studio album\"\n",
    "print(\"before upper:\", a)\n",
    "b = a.upper()\n",
    "print(\"After upper:\", b)\n",
    "c = a.lower()\n",
    "print(\"After lower:\",c)\n",
    "\n",
    "print(\"Is It A Title: \",a.istitle())\n",
    "print(len(a))         # print length of string\n",
    "print(a[2])           # print character of index number 2\n",
    "print(a[1:5])         # print from 1 to 4\n",
    "print(a[::-1])        # print string in reverse\n",
    "print(a[3:-6])        # print from 3 to 28"
   ]
  },
  {
   "cell_type": "code",
   "execution_count": 12,
   "id": "751dc679-f2dc-4218-a548-bd8e988dcfa4",
   "metadata": {
    "collapsed": true,
    "jupyter": {
     "outputs_hidden": true,
     "source_hidden": true
    }
   },
   "outputs": [
    {
     "name": "stdout",
     "output_type": "stream",
     "text": [
      "my name is Pankaj\n"
     ]
    }
   ],
   "source": [
    "# replace string \n",
    "name=\"my name is Abhishek\"\n",
    "name_find=name.replace(\"Abhishek\",\"Pankaj\")\n",
    "print(name_find)"
   ]
  },
  {
   "cell_type": "code",
   "execution_count": 48,
   "id": "bc192915-dcfa-49f0-a7ac-ca3ab7863461",
   "metadata": {
    "collapsed": true,
    "jupyter": {
     "outputs_hidden": true,
     "source_hidden": true
    }
   },
   "outputs": [
    {
     "name": "stdout",
     "output_type": "stream",
     "text": [
      "['abhishek', 'pankaj', 'rahul', 'rohit']\n"
     ]
    }
   ],
   "source": [
    "#  append method in list. it always add element at end of the index\n",
    "name=[\"abhishek\",\"pankaj\",\"rahul\"]\n",
    "name.append(\"rohit\")\n",
    "print(name)"
   ]
  },
  {
   "cell_type": "code",
   "execution_count": 50,
   "id": "0091331b-bff5-442f-b64f-8eb21d311934",
   "metadata": {
    "collapsed": true,
    "jupyter": {
     "outputs_hidden": true,
     "source_hidden": true
    }
   },
   "outputs": [
    {
     "name": "stdout",
     "output_type": "stream",
     "text": [
      "['abhishek', 'pankaj', 'SHARMA', 'rahul', 'rohit']\n"
     ]
    }
   ],
   "source": [
    "# insert() method ise use to add element at selected index number like index[2]\n",
    "name=[\"abhishek\",\"pankaj\",\"rahul\",\"rohit\"]\n",
    "name.insert(2,\"SHARMA\")\n",
    "print(name)"
   ]
  },
  {
   "cell_type": "code",
   "execution_count": 51,
   "id": "e613a11c-1f8d-429a-8821-057c2cc74cdb",
   "metadata": {
    "collapsed": true,
    "jupyter": {
     "outputs_hidden": true,
     "source_hidden": true
    }
   },
   "outputs": [
    {
     "name": "stdout",
     "output_type": "stream",
     "text": [
      "['abhishek', 'pankaj', 'rahul']\n"
     ]
    }
   ],
   "source": [
    "# pop method () in a list. it always delete value from end of the index number\n",
    "name=[\"abhishek\",\"pankaj\",\"rahul\",\"rohit\"]\n",
    "name.pop()\n",
    "print(name)"
   ]
  },
  {
   "cell_type": "code",
   "execution_count": 52,
   "id": "17934418-8350-4604-92ff-86170e37d9bb",
   "metadata": {
    "collapsed": true,
    "jupyter": {
     "outputs_hidden": true,
     "source_hidden": true
    }
   },
   "outputs": [
    {
     "name": "stdout",
     "output_type": "stream",
     "text": [
      "['abhishek', 'pankaj', 'rohit', 'kunal']\n"
     ]
    }
   ],
   "source": [
    "# pop method with index number for deleteing the selected element. pop only take 1 value\n",
    "name=[\"abhishek\",\"pankaj\",\"rahul\",\"rohit\",\"kunal\"]\n",
    "name.pop(2)\n",
    "print(name)"
   ]
  },
  {
   "cell_type": "code",
   "execution_count": 55,
   "id": "f6d350e3-0bc7-4938-b061-0ed6b274ef46",
   "metadata": {
    "collapsed": true,
    "jupyter": {
     "outputs_hidden": true,
     "source_hidden": true
    }
   },
   "outputs": [
    {
     "name": "stdout",
     "output_type": "stream",
     "text": [
      "['abhishek', 'pankaj', 'rohit', 'kunal', 'rahul']\n",
      "['abhishek', 'pankaj', 'rohit', 'kunal']\n"
     ]
    }
   ],
   "source": [
    "#  remove method. only remove first match value. rahul in this case\n",
    "name=[\"abhishek\",\"pankaj\",\"rahul\",\"rohit\",\"kunal\",\"rahul\"]\n",
    "name.remove(\"rahul\")\n",
    "print(name)\n",
    "\n",
    "# to remove rahul every time, use while loop\n",
    "name2 = [\"abhishek\", \"pankaj\", \"rahul\", \"rohit\", \"kunal\", \"rahul\"]\n",
    "while \"rahul\" in name2:\n",
    "    name2.remove(\"rahul\")\n",
    "print(name2)"
   ]
  },
  {
   "cell_type": "code",
   "execution_count": 56,
   "id": "54c28b0c-71b9-471f-8b57-7ea75577cb78",
   "metadata": {
    "collapsed": true,
    "jupyter": {
     "outputs_hidden": true,
     "source_hidden": true
    }
   },
   "outputs": [
    {
     "name": "stdout",
     "output_type": "stream",
     "text": [
      "['abhishek', 'kunal', 'pankaj', 'rahul', 'rohit']\n"
     ]
    }
   ],
   "source": [
    "# sort method\n",
    "name = [\"abhishek\", \"pankaj\", \"rahul\", \"rohit\", \"kunal\"]\n",
    "name.sort()\n",
    "print(name)"
   ]
  },
  {
   "cell_type": "code",
   "execution_count": 60,
   "id": "93a7b4f6-4e74-43c3-a81c-b8578fdfbf12",
   "metadata": {
    "collapsed": true,
    "jupyter": {
     "outputs_hidden": true,
     "source_hidden": true
    }
   },
   "outputs": [
    {
     "name": "stdout",
     "output_type": "stream",
     "text": [
      "['kunal', 'rohit', 'rahul', 'pankaj', 'abhishek']\n",
      "['kunal', 'rohit', 'rahul', 'pankaj', 'abhishek']\n"
     ]
    }
   ],
   "source": [
    "# reverse list\n",
    "name = [\"abhishek\", \"pankaj\", \"rahul\", \"rohit\", \"kunal\"]\n",
    "name.reverse()\n",
    "print(name)\n",
    "\n",
    "# without using reverse. we can use slicing\n",
    "name2 = [\"abhishek\", \"pankaj\", \"rahul\", \"rohit\", \"kunal\"]\n",
    "print(name2[::-1])"
   ]
  },
  {
   "cell_type": "code",
   "execution_count": 61,
   "id": "7ec00ddd-152d-426d-ac37-4c40b8e1196d",
   "metadata": {
    "collapsed": true,
    "jupyter": {
     "outputs_hidden": true,
     "source_hidden": true
    }
   },
   "outputs": [
    {
     "name": "stdout",
     "output_type": "stream",
     "text": [
      "['pankaj']\n",
      "['abhishek', 'pankaj', 'rahul', 'rohit']\n",
      "['abhishek', 'pankaj']\n",
      "['kunal', 'rohit', 'rahul', 'pankaj', 'abhishek']\n"
     ]
    }
   ],
   "source": [
    "# slicing. it return the range of character value.\n",
    "name = [\"abhishek\", \"pankaj\", \"rahul\", \"rohit\", \"kunal\"]\n",
    "print(name[1:2])\n",
    "print(name[0:4])\n",
    "print(name[0:-3])\n",
    "print(name[::-1])   # to reverse list without using reverse function"
   ]
  },
  {
   "cell_type": "code",
   "execution_count": 62,
   "id": "5186387e-d1b4-4bc3-ab2f-032b3bcc44aa",
   "metadata": {
    "collapsed": true,
    "jupyter": {
     "outputs_hidden": true,
     "source_hidden": true
    }
   },
   "outputs": [
    {
     "name": "stdout",
     "output_type": "stream",
     "text": [
      "[]\n"
     ]
    }
   ],
   "source": [
    "# clear() method. to clear all\n",
    "name=[\"abhishek\",\"pankaj\",\"rahul\",\"rohit\",\"kunal\"]\n",
    "name.clear()\n",
    "print(name)"
   ]
  },
  {
   "cell_type": "code",
   "execution_count": 13,
   "id": "09eec679-6020-4239-8b48-f38979ab14b4",
   "metadata": {
    "collapsed": true,
    "jupyter": {
     "outputs_hidden": true,
     "source_hidden": true
    }
   },
   "outputs": [
    {
     "data": {
      "text/plain": [
       "10"
      ]
     },
     "execution_count": 13,
     "metadata": {},
     "output_type": "execute_result"
    }
   ],
   "source": [
    "#  substring in the strng\n",
    "name=\"abhishek, pankaj, rahul, rohit\"\n",
    "name.find(\"pankaj\")"
   ]
  },
  {
   "cell_type": "code",
   "execution_count": 15,
   "id": "8e4836e7-852f-4b1a-b795-54221961aff5",
   "metadata": {
    "collapsed": true,
    "jupyter": {
     "outputs_hidden": true,
     "source_hidden": true
    }
   },
   "outputs": [
    {
     "name": "stdout",
     "output_type": "stream",
     "text": [
      "['Abhishek', 'Uniyal']\n"
     ]
    }
   ],
   "source": [
    "#Split the substring into list\n",
    "name = \"Abhishek Uniyal\"\n",
    "split_string = (name.split())\n",
    "print(split_string)"
   ]
  },
  {
   "cell_type": "markdown",
   "id": "9ef6cb14-500b-4823-9f9b-58289ac8035b",
   "metadata": {},
   "source": [
    "REGULAR EXPRESSION"
   ]
  },
  {
   "cell_type": "code",
   "execution_count": 7,
   "id": "1d120dd6-8ad3-4280-88f7-82d6dec4dd68",
   "metadata": {
    "collapsed": true,
    "jupyter": {
     "outputs_hidden": true,
     "source_hidden": true
    }
   },
   "outputs": [
    {
     "name": "stdout",
     "output_type": "stream",
     "text": [
      "Match found!\n"
     ]
    }
   ],
   "source": [
    "# RegEx (Regular Expression) is a tool for matching and handling strings. (search, split, findall, sub)\n",
    "import re\n",
    "str = \"My name is Abhishek Uniyal\"\n",
    "\n",
    "# Define the pattern to search for. r is oprtinal here. r is use when we have pattern like r\"\\d\": Matches any digit.\n",
    "pattern = r\"Abhishek\"\n",
    "\n",
    "# Use the search() function to search for the pattern in the string\n",
    "result = re.search(pattern, str)\n",
    "\n",
    "# Check if a match was found\n",
    "if result:\n",
    "    print(\"Match found!\")\n",
    "else:\n",
    "    print(\"Match not found.\")"
   ]
  },
  {
   "cell_type": "code",
   "execution_count": 22,
   "id": "dd9da659-2529-48ef-ac4f-c67cc663b500",
   "metadata": {
    "collapsed": true,
    "jupyter": {
     "outputs_hidden": true,
     "source_hidden": true
    }
   },
   "outputs": [
    {
     "name": "stdout",
     "output_type": "stream",
     "text": [
      "Phone number found: 1234567890\n"
     ]
    }
   ],
   "source": [
    "# using the \"\\d\" special sequence in a regular expression pattern with Python code:\n",
    "pattern = r\"\\d\\d\\d\\d\\d\\d\\d\\d\\d\\d\"  # Matches any ten consecutive digits\n",
    "text = \"My Phone number is 1234567890\"\n",
    "match = re.search(pattern, text)\n",
    "\n",
    "if match:\n",
    "    print(\"Phone number found:\", match.group())\n",
    "else:\n",
    "    print(\"No match\")"
   ]
  },
  {
   "cell_type": "code",
   "execution_count": 25,
   "id": "ca9c5e15-eafb-483d-aecf-59e4d62b2fb5",
   "metadata": {
    "collapsed": true,
    "jupyter": {
     "outputs_hidden": true,
     "source_hidden": true
    }
   },
   "outputs": [
    {
     "name": "stdout",
     "output_type": "stream",
     "text": [
      "['as', 'as']\n"
     ]
    }
   ],
   "source": [
    "# findall. it finds all occurrences of a specified pattern within a string.\n",
    "text = \"Michael Jackson was a singer and known as the 'King of Pop'\"\n",
    "# Use the findall() function to find all occurrences of the \"as\" in the string\n",
    "result = re.findall(\"as\", text)\n",
    "\n",
    "print(result)"
   ]
  },
  {
   "cell_type": "code",
   "execution_count": 26,
   "id": "0162690e-5d33-4396-9fd2-c86cc74bd173",
   "metadata": {
    "collapsed": true,
    "jupyter": {
     "outputs_hidden": true,
     "source_hidden": true
    }
   },
   "outputs": [
    {
     "name": "stdout",
     "output_type": "stream",
     "text": [
      "['Michael', 'was', 'a', 'singer', 'and', 'known', 'as', 'the', \"'King\", 'of', \"Pop'\"]\n"
     ]
    }
   ],
   "source": [
    "# Use the split function to split the string by the \"\\s\"\n",
    "text = \"Michael was a singer and known as the 'King of Pop'\"\n",
    "\n",
    "split_array = re.split(\"\\s\", text)\n",
    "\n",
    "# The split_array contains all the substrings, split by whitespace characters\n",
    "print(split_array) "
   ]
  },
  {
   "cell_type": "code",
   "execution_count": 29,
   "id": "c6253bb9-f674-46ab-8c95-e0832b727fa2",
   "metadata": {
    "collapsed": true,
    "jupyter": {
     "outputs_hidden": true,
     "source_hidden": true
    }
   },
   "outputs": [
    {
     "name": "stdout",
     "output_type": "stream",
     "text": [
      "Michael was a singer and known as the 'legend'\n"
     ]
    }
   ],
   "source": [
    "# Define the regular expression pattern to search for\n",
    "text = \"Michael was a singer and known as the 'King of Pop'\"\n",
    "\n",
    "pattern = r\"King of Pop\"\n",
    "\n",
    "# Define the replacement string\n",
    "replacement = \"legend\"\n",
    "\n",
    "# Use the sub function to replace the pattern with the replacement string\n",
    "new_string = re.sub(pattern, replacement, text, flags=re.IGNORECASE)\n",
    "\n",
    "# The new_string contains the original string with the pattern replaced by the replacement string\n",
    "print(new_string) "
   ]
  },
  {
   "cell_type": "markdown",
   "id": "61d19f53-d02d-479c-b7d8-1640a7fec03c",
   "metadata": {},
   "source": [
    "TUPLE"
   ]
  },
  {
   "cell_type": "code",
   "execution_count": 72,
   "id": "3122666e-28de-45a8-b501-965ffd7cdd8e",
   "metadata": {
    "collapsed": true,
    "jupyter": {
     "outputs_hidden": true,
     "source_hidden": true
    }
   },
   "outputs": [
    {
     "name": "stdout",
     "output_type": "stream",
     "text": [
      "3\n",
      "(3, (94, 34, 77))\n",
      "(94, 34, 77)\n",
      "34\n"
     ]
    }
   ],
   "source": [
    "# TUPLE. tuple are immutable. tuple do not support clear, append, sort, pop, insert, del, update, search\n",
    "\n",
    "rating=(2,5,3,(94,34,77),4)\n",
    "print(rating[2])\n",
    "print(rating[2:4])\n",
    "print(rating[3])\n",
    "print(rating[3][1])"
   ]
  },
  {
   "cell_type": "code",
   "execution_count": 13,
   "id": "5235896e-c4e5-45c4-94a9-55fadc1e97d9",
   "metadata": {
    "collapsed": true,
    "jupyter": {
     "outputs_hidden": true,
     "source_hidden": true
    }
   },
   "outputs": [
    {
     "name": "stdout",
     "output_type": "stream",
     "text": [
      "3\n",
      "(1, 2, 3, 4, 5, 6)\n",
      "hi! hi! hi! hi! \n"
     ]
    },
    {
     "name": "stdin",
     "output_type": "stream",
     "text": [
      "enter number:  3\n"
     ]
    },
    {
     "name": "stdout",
     "output_type": "stream",
     "text": [
      "33333\n",
      "True\n",
      "3468['apple', 'banana', 'orange', 'mango']\n",
      "['apple', 'orange', 'mango']\n"
     ]
    }
   ],
   "source": [
    "# tuples\n",
    "t1=(1,2,3)\n",
    "print(len(t1))    # length\n",
    "\n",
    "t2=(1,2,3)\n",
    "t3=(4,5,6)\n",
    "print(t2+t3)      # concatenation\n",
    "\n",
    "t4=(\"hi! \")\n",
    "print(t4 *4)      #repitition\n",
    "\n",
    "n=input(\"enter number: \")   # for user generated integer value, treat number as string\n",
    "print( n * 5)\n",
    "\n",
    "t5=(5,4,3,6)\n",
    "print(3 in(t5))   # membership\n",
    "\n",
    "t6=(3,4,6,8)\n",
    "for x in t6:\n",
    "    print(x, end=\"\")      #iteration (loop)\n",
    "\n",
    "fruits = [\"apple\", \"banana\", \"orange\"] \n",
    "fruits.append(\"mango\")            # add value at end\n",
    "print(fruits)\n",
    "\n",
    "del fruits[1]              # delete value at index number 1\n",
    "print(fruits)"
   ]
  },
  {
   "cell_type": "markdown",
   "id": "e84838e0-b819-48e8-a1a0-1c36f44580a3",
   "metadata": {},
   "source": [
    "LIST"
   ]
  },
  {
   "cell_type": "code",
   "execution_count": 20,
   "id": "07ef3eca-8dfa-49c2-aab3-28b2f19012ea",
   "metadata": {
    "collapsed": true,
    "jupyter": {
     "outputs_hidden": true,
     "source_hidden": true
    }
   },
   "outputs": [
    {
     "name": "stdout",
     "output_type": "stream",
     "text": [
      "['abhishek', 'pankaj', 'rahul', 3, 6, 5]\n",
      "[3, 4, 5, 3, 4, 5]\n",
      "[2, 3, 4, 5]\n"
     ]
    }
   ],
   "source": [
    "# LIST. it is mutable (modify). all the method that i apply previosuly in string is applied in list\n",
    "\n",
    "# concatenation (+)\n",
    "name=[\"abhishek\", \"pankaj\", \"rahul\"]\n",
    "number=[3,6,5]\n",
    "print(name+number)\n",
    "\n",
    "# repeat (*)\n",
    "number2=[3,4,5]\n",
    "b=number2*2\n",
    "print(b)\n",
    "\n",
    "#  range (:)\n",
    "number3=[1,2,3,4,5,6,7,8,9]\n",
    "a=number3[1:5]\n",
    "print(a)"
   ]
  },
  {
   "cell_type": "markdown",
   "id": "d2e6aaa4-eb28-46ca-818a-daff4210d13e",
   "metadata": {},
   "source": [
    "DICT"
   ]
  },
  {
   "cell_type": "code",
   "execution_count": 30,
   "id": "4d416108-a2f9-48f6-99ba-5548a242a1d4",
   "metadata": {
    "collapsed": true,
    "jupyter": {
     "outputs_hidden": true,
     "source_hidden": true
    }
   },
   "outputs": [
    {
     "name": "stdout",
     "output_type": "stream",
     "text": [
      "{'id': 1, 'name': 'abhishek', 'program': 'data science', 'sem': 1, 'date of joining': '2024-05-23'}\n",
      "1\n",
      "1\n",
      "5\n",
      "<class 'dict'>\n",
      "dict_keys(['id', 'name', 'program', 'sem', 'date of joining'])\n",
      "dict_values([1, 'abhishek', 'data science', 1, '2024-05-23'])\n",
      "dict_items([('id', 1), ('name', 'abhishek'), ('program', 'data science'), ('sem', 1), ('date of joining', '2024-05-23')])\n"
     ]
    }
   ],
   "source": [
    "# dictionary. comes in key and pair value\n",
    "stu={\n",
    "    \"id\": 1,\n",
    "    \"name\": \"abhishek\",\n",
    "    \"program\": \"data science\",\n",
    "    \"sem\": 1,\n",
    "    \"date of joining\": \"2024-05-23\"\n",
    "}\n",
    "print(stu)                      # to see all key and value\n",
    "print(stu[\"id\"])                # to see single key value\n",
    "print(stu[\"id\"]), stu[\"name\"]   # to see 2 key value\n",
    "print(len(stu))                 # to see length\n",
    "print(type(stu))                # to see type  \n",
    "\n",
    "a=stu.keys()         \n",
    "print(a)                        # to see only key\n",
    "\n",
    "b = stu.values()\n",
    "print(b)                        # to see only values\n",
    "\n",
    "c=stu.items()\n",
    "print(c)                        # to see them in pair"
   ]
  },
  {
   "cell_type": "code",
   "execution_count": 31,
   "id": "db5e57e0-2f6e-48c0-9f8e-c95be858afff",
   "metadata": {
    "collapsed": true,
    "jupyter": {
     "outputs_hidden": true,
     "source_hidden": true
    }
   },
   "outputs": [
    {
     "name": "stdin",
     "output_type": "stream",
     "text": [
      "enter friend name:  a\n",
      "enter friend lang:  s\n",
      "enter friend name:  d\n",
      "enter friend lang:  d\n",
      "enter friend name:  f\n",
      "enter friend lang:  f\n"
     ]
    },
    {
     "name": "stdout",
     "output_type": "stream",
     "text": [
      "{'a': 's', 'd': 'd', 'f': 'f'}\n"
     ]
    }
   ],
   "source": [
    "# make empty dictionary then ask user 4 name and their language\n",
    "d={}\n",
    "\n",
    "name=input(\"enter friend name: \")\n",
    "lang=input(\"enter friend lang: \")\n",
    "d.update({name: lang})\n",
    "\n",
    "name=input(\"enter friend name: \")\n",
    "lang=input(\"enter friend lang: \")\n",
    "d.update({name: lang})\n",
    "\n",
    "name=input(\"enter friend name: \")\n",
    "lang=input(\"enter friend lang: \")\n",
    "d.update({name: lang})\n",
    "\n",
    "print(d)\n",
    "\n",
    "# if it has same key in 1, it will show only 3 key with last updated value\n",
    "# if it has same value, then it wont change anything"
   ]
  },
  {
   "cell_type": "code",
   "execution_count": 31,
   "id": "a7a4c71f-854d-496f-a567-faa716d8850d",
   "metadata": {
    "collapsed": true,
    "jupyter": {
     "outputs_hidden": true,
     "source_hidden": true
    }
   },
   "outputs": [
    {
     "name": "stdout",
     "output_type": "stream",
     "text": [
      "{'id': 1, 'name': 'pankaj', 'city': 'dehradun', 'country': ['india']}\n"
     ]
    }
   ],
   "source": [
    "# add new key and values in dic. it only add 1 key and value at a time\n",
    "emp={\n",
    "    \"id\": 1,\n",
    "    \"name\": \"pankaj\",\n",
    "    \"city\": \"dehradun\",\n",
    "}\n",
    "emp[\"country\"]=[\"india\"]\n",
    "print(emp)"
   ]
  },
  {
   "cell_type": "code",
   "execution_count": 8,
   "id": "debdcdd5-e11f-41fe-95ff-ded6525155dd",
   "metadata": {
    "collapsed": true,
    "jupyter": {
     "outputs_hidden": true,
     "source_hidden": true
    }
   },
   "outputs": [
    {
     "name": "stdout",
     "output_type": "stream",
     "text": [
      "{'id': 1, 'name': 'pankaj', 'designation': 'accountant', 'salary': 50000}\n"
     ]
    }
   ],
   "source": [
    "# pop method to delete key and value\n",
    "emp={\n",
    "    \"id\": 1,\n",
    "    \"name\": \"pankaj\",\n",
    "    \"city\": \"dehradun\",\n",
    "    \"designation\": \"accountant\",\n",
    "    \"salary\" : 50000\n",
    "}\n",
    "a=emp.pop(\"city\")\n",
    "print(emp)"
   ]
  },
  {
   "cell_type": "code",
   "execution_count": 33,
   "id": "5e5b3d1f-d808-4813-b857-aee6d1d63d70",
   "metadata": {
    "collapsed": true,
    "jupyter": {
     "outputs_hidden": true,
     "source_hidden": true
    }
   },
   "outputs": [
    {
     "name": "stdout",
     "output_type": "stream",
     "text": [
      "{'id': 1, 'name': 'pankaj', 'city': 'dehradun', 'designation': 'accountant', 'salary': 39999}\n"
     ]
    }
   ],
   "source": [
    "# update method to update key and value\n",
    "emp={\n",
    "    \"id\": 1,\n",
    "    \"name\": \"pankaj\",\n",
    "    \"city\": \"dehradun\",\n",
    "    \"designation\": \"accountant\",\n",
    "    \"salary\" : 50000  \n",
    "}\n",
    "emp.update({\"salary\":39999})\n",
    "print(emp)"
   ]
  },
  {
   "cell_type": "code",
   "execution_count": 41,
   "id": "9fcda16f-76da-482a-81ca-12efd8a47187",
   "metadata": {
    "collapsed": true,
    "jupyter": {
     "outputs_hidden": true,
     "source_hidden": true
    }
   },
   "outputs": [
    {
     "name": "stdout",
     "output_type": "stream",
     "text": [
      "{}\n"
     ]
    }
   ],
   "source": [
    "# clear method in a dictionary\n",
    "emp={\n",
    "    \"id\": 1,\n",
    "    \"name\": \"pankaj\",\n",
    "    \"city\": \"dehradun\",\n",
    "    \"designation\": \"accountant\",\n",
    "    \"salary\" : 50000,\n",
    "}\n",
    "emp.clear()\n",
    "print(emp)"
   ]
  },
  {
   "cell_type": "code",
   "execution_count": 34,
   "id": "f4fe232e-06fd-4a0e-a30b-b06d6b0f44f1",
   "metadata": {
    "collapsed": true,
    "jupyter": {
     "outputs_hidden": true,
     "source_hidden": true
    }
   },
   "outputs": [
    {
     "name": "stdout",
     "output_type": "stream",
     "text": [
      "{'id': 1, 'name': 'pankaj', 'city': 'dehradun', 'designation': 'accountant'}\n"
     ]
    }
   ],
   "source": [
    "# delete method. del is a operator not a fucntion, because we dont use parantheisis in it\n",
    "emp={\n",
    "    \"id\": 1,\n",
    "    \"name\": \"pankaj\",\n",
    "    \"city\": \"dehradun\",\n",
    "    \"designation\": \"accountant\",\n",
    "    \"salary\" : 50000  \n",
    "}\n",
    "del emp[\"salary\"]\n",
    "print(emp)"
   ]
  },
  {
   "cell_type": "code",
   "execution_count": 17,
   "id": "5b7ba5a9-2671-4237-b83a-79288ff9d3b4",
   "metadata": {
    "collapsed": true,
    "jupyter": {
     "outputs_hidden": true,
     "source_hidden": true
    }
   },
   "outputs": [
    {
     "name": "stdout",
     "output_type": "stream",
     "text": [
      "{'id': 1, 'name': 'pankaj', 'city': 'dehradun', 'designation': 'accountant'}\n"
     ]
    }
   ],
   "source": [
    "#  popitem method. remove last value\n",
    "emp={\n",
    "    \"id\": 1,\n",
    "    \"name\": \"pankaj\",\n",
    "    \"city\": \"dehradun\",\n",
    "    \"designation\": \"accountant\",\n",
    "    \"salary\" : 50000  \n",
    "}\n",
    "emp.popitem()\n",
    "print(emp)"
   ]
  },
  {
   "cell_type": "markdown",
   "id": "b804c8bc-e3e5-4b89-adaa-5610b1bd0eba",
   "metadata": {},
   "source": [
    "SET"
   ]
  },
  {
   "cell_type": "code",
   "execution_count": 18,
   "id": "23d52956-c717-46fc-bc4f-edac637663ee",
   "metadata": {
    "collapsed": true,
    "jupyter": {
     "outputs_hidden": true,
     "source_hidden": true
    }
   },
   "outputs": [
    {
     "name": "stdout",
     "output_type": "stream",
     "text": [
      "{'pankaj', 2, 3, 'abhishek', 5}\n",
      "<class 'set'>\n"
     ]
    }
   ],
   "source": [
    "# SET. set always display random values. it doesnt have index number so remove random value\n",
    "set1= {2,5,3,\"abhishek\",\"pankaj\",\"pankaj\",5}\n",
    "print(set1)\n",
    "print(type(set1))\n",
    "# print(set1[3])    it will show error becuase set dont have index number"
   ]
  },
  {
   "cell_type": "code",
   "execution_count": 24,
   "id": "ec125c5f-6945-4af0-94d9-68ab2ea62bed",
   "metadata": {
    "collapsed": true,
    "jupyter": {
     "outputs_hidden": true,
     "source_hidden": true
    }
   },
   "outputs": [
    {
     "name": "stdout",
     "output_type": "stream",
     "text": [
      "set()\n"
     ]
    }
   ],
   "source": [
    "# clear in SET\n",
    "set1= {2,5,3,\"abhishek\",\"pankaj\",\"pankaj\",5}\n",
    "set1.clear()\n",
    "print(set1)"
   ]
  },
  {
   "cell_type": "code",
   "execution_count": 26,
   "id": "9523dcf0-4e43-45f7-8919-12dd67f3f9fd",
   "metadata": {
    "collapsed": true,
    "jupyter": {
     "outputs_hidden": true,
     "source_hidden": true
    }
   },
   "outputs": [
    {
     "name": "stdout",
     "output_type": "stream",
     "text": [
      "{2, 4, 5, 'neha'}\n"
     ]
    }
   ],
   "source": [
    "# POP in SET.\n",
    "set={2,5,2,4,\"pankaj\",\"neha\"}\n",
    "set.pop()\n",
    "print(set)"
   ]
  },
  {
   "cell_type": "code",
   "execution_count": 23,
   "id": "7788eb46-44e6-4238-a3c6-0add4a96b66a",
   "metadata": {
    "collapsed": true,
    "jupyter": {
     "outputs_hidden": true,
     "source_hidden": true
    }
   },
   "outputs": [
    {
     "ename": "TypeError",
     "evalue": "set.pop() takes no arguments (1 given)",
     "output_type": "error",
     "traceback": [
      "\u001b[1;31m---------------------------------------------------------------------------\u001b[0m",
      "\u001b[1;31mTypeError\u001b[0m                                 Traceback (most recent call last)",
      "Cell \u001b[1;32mIn[23], line 3\u001b[0m\n\u001b[0;32m      1\u001b[0m \u001b[38;5;66;03m# pop with index number. give error, becuase set doesn't have index number\u001b[39;00m\n\u001b[0;32m      2\u001b[0m set1\u001b[38;5;241m=\u001b[39m {\u001b[38;5;241m2\u001b[39m,\u001b[38;5;241m5\u001b[39m,\u001b[38;5;241m3\u001b[39m,\u001b[38;5;124m\"\u001b[39m\u001b[38;5;124mabhishek\u001b[39m\u001b[38;5;124m\"\u001b[39m,\u001b[38;5;124m\"\u001b[39m\u001b[38;5;124mpankaj\u001b[39m\u001b[38;5;124m\"\u001b[39m,\u001b[38;5;124m\"\u001b[39m\u001b[38;5;124mpankaj\u001b[39m\u001b[38;5;124m\"\u001b[39m,\u001b[38;5;241m5\u001b[39m}\n\u001b[1;32m----> 3\u001b[0m set1\u001b[38;5;241m.\u001b[39mpop(\u001b[38;5;241m1\u001b[39m)\n\u001b[0;32m      4\u001b[0m \u001b[38;5;28mprint\u001b[39m(set1)\n",
      "\u001b[1;31mTypeError\u001b[0m: set.pop() takes no arguments (1 given)"
     ]
    }
   ],
   "source": [
    "# pop with index number. give error, becuase set doesn't have index number\n",
    "set1= {2,5,3,\"abhishek\",\"pankaj\",\"pankaj\",5}\n",
    "set1.pop(1)\n",
    "print(set1)"
   ]
  },
  {
   "cell_type": "code",
   "execution_count": 25,
   "id": "45bc1c18-59bf-468f-a723-83d6609b1258",
   "metadata": {
    "collapsed": true,
    "jupyter": {
     "outputs_hidden": true,
     "source_hidden": true
    }
   },
   "outputs": [
    {
     "name": "stdout",
     "output_type": "stream",
     "text": [
      "{'pankaj', 2, 3, 5}\n"
     ]
    }
   ],
   "source": [
    "# remove in SET. set only keep unique value and remove duplicate\n",
    "set1= {2,5,3,\"abhishek\",\"pankaj\",\"pankaj\",5}\n",
    "set1.remove(\"abhishek\")\n",
    "print(set1)"
   ]
  },
  {
   "cell_type": "code",
   "execution_count": 30,
   "id": "1da9f853-9137-40f3-a143-3c780fea5b17",
   "metadata": {
    "collapsed": true,
    "jupyter": {
     "outputs_hidden": true,
     "source_hidden": true
    }
   },
   "outputs": [
    {
     "name": "stdout",
     "output_type": "stream",
     "text": [
      "{1, 4, 7, 72, 9, 45}\n",
      "{45}\n"
     ]
    }
   ],
   "source": [
    "# SET union and intersection\n",
    "s1={1,4,7,45}  \n",
    "s2={72,45,9}\n",
    "print(s1.union(s2))           # all value without repeating\n",
    "print(s1.intersection(s2))    # common value in both"
   ]
  },
  {
   "cell_type": "markdown",
   "id": "e698d163-982d-4dfc-9667-3f03d1626267",
   "metadata": {},
   "source": [
    "IF-ELSE"
   ]
  },
  {
   "cell_type": "code",
   "execution_count": 37,
   "id": "623564e1-7e71-450a-b85a-90300c274dc1",
   "metadata": {
    "collapsed": true,
    "jupyter": {
     "outputs_hidden": true,
     "source_hidden": true
    }
   },
   "outputs": [
    {
     "name": "stdin",
     "output_type": "stream",
     "text": [
      "enter your age:  29\n"
     ]
    },
    {
     "name": "stdout",
     "output_type": "stream",
     "text": [
      "you can drive heavy vehicle\n"
     ]
    }
   ],
   "source": [
    "# if elif\n",
    "age = int(input(\"enter your age: \"))\n",
    "if age>25:\n",
    "    print(\"you can drive heavy vehicle\")\n",
    "elif age>18 and age<25:\n",
    "    print(\"you can drive light vehicle\")\n",
    "else:\n",
    "    print(\"you cannot drive\")"
   ]
  },
  {
   "cell_type": "code",
   "execution_count": 44,
   "id": "d4e1d8e3-880b-4d32-90c3-15c3deeca8aa",
   "metadata": {
    "collapsed": true,
    "jupyter": {
     "outputs_hidden": true,
     "source_hidden": true
    }
   },
   "outputs": [
    {
     "name": "stdin",
     "output_type": "stream",
     "text": [
      "enter number:  3\n",
      "enter number:  4\n",
      "enter number:  4\n"
     ]
    },
    {
     "name": "stdout",
     "output_type": "stream",
     "text": [
      "4 is greatest number among 3, 4 and 4\n"
     ]
    }
   ],
   "source": [
    "# greatest number among three\n",
    "n1 = int(input(\"enter number: \"))\n",
    "n2 = int(input(\"enter number: \"))\n",
    "n3 = int(input(\"enter number: \"))\n",
    "if (n1>n2 and n1>n3):\n",
    "    print(f\"{n1} is greatest number among {n1}, {n2} and {n3}\")\n",
    "elif (n2>n1 and n2>n3):\n",
    "    print(f\"{n2} is greatest number among {n1}, {n2} and {n3}\")\n",
    "else:\n",
    "    print(f\"{n3} is greatest number among {n1}, {n2} and {n3}\")\n",
    "\n",
    "\n",
    "# in case user gave same input for more than 1 value\n",
    "# Input four numbers from the user\n",
    "# n1 = int(input(\"Enter your number: \"))\n",
    "# n2 = int(input(\"Enter your number: \"))\n",
    "# n3 = int(input(\"Enter your number: \"))\n",
    "\n",
    "# # Use the max function to find the greatest number\n",
    "# greatest = max(n1, n2, n3)\n",
    "\n",
    "# print(\"The greatest number is\", greatest)"
   ]
  },
  {
   "cell_type": "code",
   "execution_count": 45,
   "id": "18fa32ac-5c22-4a53-a2b9-1d19d226fb0a",
   "metadata": {
    "collapsed": true,
    "jupyter": {
     "outputs_hidden": true,
     "source_hidden": true
    }
   },
   "outputs": [
    {
     "name": "stdin",
     "output_type": "stream",
     "text": [
      "enter number:  34\n",
      "enter number:  55\n",
      "enter number:  56\n"
     ]
    },
    {
     "name": "stdout",
     "output_type": "stream",
     "text": [
      "you passed\n"
     ]
    }
   ],
   "source": [
    "# take 3 marks input from user. 40% avg passing, 33% minimum individually\n",
    "n1 = int(input(\"enter number: \"))\n",
    "n2 = int(input(\"enter number: \"))\n",
    "n3 = int(input(\"enter number: \"))\n",
    "avg = (n1 + n2 + n3)/3\n",
    "if (n1>=33 and n2>=33 and n3>=33 and avg>=40):\n",
    "    print(\"you passed\")\n",
    "else:\n",
    "    print(\"you failed\")"
   ]
  },
  {
   "cell_type": "code",
   "execution_count": 49,
   "id": "5302d4d8-a96b-4409-984c-00b0990b83df",
   "metadata": {
    "collapsed": true,
    "jupyter": {
     "outputs_hidden": true,
     "source_hidden": true
    }
   },
   "outputs": [
    {
     "name": "stdin",
     "output_type": "stream",
     "text": [
      "enter your message here:  click here to become rich\n"
     ]
    },
    {
     "name": "stdout",
     "output_type": "stream",
     "text": [
      "this is a spam\n"
     ]
    }
   ],
   "source": [
    "# SPAM filter\n",
    "s1 = \"make money easily\"\n",
    "s2 = \"make quick money\"\n",
    "s3 = \"become rich\"\n",
    "msg = input(\"enter your message here: \")\n",
    "if ((s1 in msg) or (s2 in msg) or (s3 in msg)):\n",
    "    print(\"this is a spam\")\n",
    "else:\n",
    "    print(\"this is not a spam\")"
   ]
  },
  {
   "cell_type": "code",
   "execution_count": null,
   "id": "822fa1b4-8362-48af-8e3a-1c651c5aecf3",
   "metadata": {
    "collapsed": true,
    "jupyter": {
     "outputs_hidden": true,
     "source_hidden": true
    }
   },
   "outputs": [],
   "source": [
    "#  to check if your name is in the list.\n",
    "list= [\"abhishek\",\"rahul\",\"rohit\",\"pankaj\"]\n",
    "name=input(\"enter your name: \")\n",
    "if (name in list):\n",
    "    print(\"your name is in list\")\n",
    "else:\n",
    "    print(\"your name is not in list\")"
   ]
  },
  {
   "cell_type": "markdown",
   "id": "9ce65b82-920f-4f44-97cf-d65c34c861eb",
   "metadata": {},
   "source": [
    "FOR AND WHILE LOOPS"
   ]
  },
  {
   "cell_type": "code",
   "execution_count": 4,
   "id": "d99c37ad-f604-41d0-911e-c06574bf2eb7",
   "metadata": {
    "collapsed": true,
    "jupyter": {
     "outputs_hidden": true,
     "source_hidden": true
    }
   },
   "outputs": [],
   "source": [
    "# for and while do same job but in different way.\n",
    "# Use a for loop when you have a specific range or sequence to iterate over.\n",
    "# Use a while loop when the number of iterations is not known beforehand and depends on a condition being met."
   ]
  },
  {
   "cell_type": "code",
   "execution_count": 1,
   "id": "01ab7f77-5d7c-4791-b042-96dfb7333068",
   "metadata": {
    "collapsed": true,
    "jupyter": {
     "outputs_hidden": true,
     "source_hidden": true
    }
   },
   "outputs": [
    {
     "name": "stdout",
     "output_type": "stream",
     "text": [
      "1\n",
      "2\n",
      "3\n",
      "4\n",
      "5\n"
     ]
    }
   ],
   "source": [
    "# for loop\n",
    "for i in range(1,6):\n",
    "    print(i)"
   ]
  },
  {
   "cell_type": "code",
   "execution_count": 8,
   "id": "3ca4181f-d5a8-487e-9036-9f108aac66fd",
   "metadata": {
    "collapsed": true,
    "jupyter": {
     "outputs_hidden": true,
     "source_hidden": true
    }
   },
   "outputs": [
    {
     "name": "stdout",
     "output_type": "stream",
     "text": [
      "1\n",
      "2\n",
      "3\n",
      "4\n",
      "5\n"
     ]
    }
   ],
   "source": [
    "# while loop\n",
    "i=1\n",
    "while i<6:\n",
    "    print(i)\n",
    "    i+=1"
   ]
  },
  {
   "cell_type": "code",
   "execution_count": 14,
   "id": "aab2b1d1-b12f-4543-9e8e-9c99aacdc117",
   "metadata": {
    "collapsed": true,
    "jupyter": {
     "outputs_hidden": true,
     "source_hidden": true
    }
   },
   "outputs": [
    {
     "name": "stdout",
     "output_type": "stream",
     "text": [
      "abhishek\n",
      "abhishek\n",
      "abhishek\n"
     ]
    }
   ],
   "source": [
    "# print name multiple time using for loop\n",
    "name=\"abhishek\"\n",
    "for i in range(3):\n",
    "    print(name)"
   ]
  },
  {
   "cell_type": "code",
   "execution_count": 23,
   "id": "a8fec256-24fe-4164-8e42-5ff804c7978a",
   "metadata": {
    "collapsed": true,
    "jupyter": {
     "outputs_hidden": true,
     "source_hidden": true
    }
   },
   "outputs": [
    {
     "name": "stdout",
     "output_type": "stream",
     "text": [
      "abhishek\n",
      "abhishek\n",
      "abhishek\n"
     ]
    }
   ],
   "source": [
    "# print name multiple time using while loop\n",
    "i=0\n",
    "while i<3:\n",
    "    print(\"abhishek\")\n",
    "    i+=1"
   ]
  },
  {
   "cell_type": "code",
   "execution_count": 15,
   "id": "ea2c2a62-cc7a-4a82-a7a1-5caf9ec78660",
   "metadata": {
    "collapsed": true,
    "jupyter": {
     "outputs_hidden": true,
     "source_hidden": true
    }
   },
   "outputs": [
    {
     "name": "stdout",
     "output_type": "stream",
     "text": [
      "abhishek abhishek abhishek \n"
     ]
    }
   ],
   "source": [
    "# print name multiple time in same line without using for loop\n",
    "print(\"abhishek \" * 3)"
   ]
  },
  {
   "cell_type": "code",
   "execution_count": 18,
   "id": "5a722b15-8ed9-4db8-85a4-e1eb33ef2770",
   "metadata": {
    "collapsed": true,
    "jupyter": {
     "outputs_hidden": true,
     "source_hidden": true
    }
   },
   "outputs": [
    {
     "name": "stdout",
     "output_type": "stream",
     "text": [
      "\n",
      " abhishek\n",
      " abhishek\n",
      " abhishek\n"
     ]
    }
   ],
   "source": [
    "# print name mulitple time without loop\n",
    "print(\"\\n abhishek\" * 3)"
   ]
  },
  {
   "cell_type": "code",
   "execution_count": 20,
   "id": "b67edb15-281e-4cef-a16c-c3e31b348c64",
   "metadata": {
    "collapsed": true,
    "jupyter": {
     "outputs_hidden": true,
     "source_hidden": true
    }
   },
   "outputs": [
    {
     "name": "stdout",
     "output_type": "stream",
     "text": [
      "\n",
      " 5\n",
      " 5\n",
      " 5\n"
     ]
    }
   ],
   "source": [
    "# display number without loop\n",
    "print(\"\\n 5\" * 3)"
   ]
  },
  {
   "cell_type": "code",
   "execution_count": 28,
   "id": "b548ef73-29b9-433d-be9f-12743b19e971",
   "metadata": {
    "collapsed": true,
    "jupyter": {
     "outputs_hidden": true,
     "source_hidden": true
    }
   },
   "outputs": [
    {
     "name": "stdout",
     "output_type": "stream",
     "text": [
      "abhishek\n",
      "32\n",
      "False\n",
      "pankaj\n"
     ]
    }
   ],
   "source": [
    "# print list using for loop\n",
    "list= [\"abhishek\", 32, False, \"pankaj\"]\n",
    "for i in list:\n",
    "    print(i)"
   ]
  },
  {
   "cell_type": "code",
   "execution_count": 29,
   "id": "99f58215-b179-46a1-ae88-9e3770553931",
   "metadata": {
    "collapsed": true,
    "jupyter": {
     "outputs_hidden": true,
     "source_hidden": true
    }
   },
   "outputs": [
    {
     "name": "stdout",
     "output_type": "stream",
     "text": [
      "abhishek\n",
      "32\n",
      "False\n",
      "pankaj\n"
     ]
    }
   ],
   "source": [
    "# print list using while loop\n",
    "list= [\"abhishek\", 32, False, \"pankaj\"]\n",
    "i=0\n",
    "while i <len(list):\n",
    "    print(list[i])\n",
    "    i+=1"
   ]
  },
  {
   "cell_type": "code",
   "execution_count": 33,
   "id": "1c92671d-9232-409d-99b6-5e197633d5ed",
   "metadata": {
    "collapsed": true,
    "jupyter": {
     "outputs_hidden": true,
     "source_hidden": true
    }
   },
   "outputs": [
    {
     "name": "stdout",
     "output_type": "stream",
     "text": [
      "1\n",
      "2\n",
      "3\n",
      "4\n",
      "5\n",
      "this is for loop with else\n",
      "1\n",
      "2\n",
      "3\n",
      "4\n",
      "5\n",
      "this is while loop with else\n"
     ]
    }
   ],
   "source": [
    "# for and while loop with else\n",
    "for i in range(1,6):\n",
    "    print(i)\n",
    "else:\n",
    "    print(\"this is for loop with else\")\n",
    "\n",
    "i=1\n",
    "while i<6:\n",
    "    print(i)\n",
    "    i+=1\n",
    "else:\n",
    "    print(\"this is while loop with else\")"
   ]
  },
  {
   "cell_type": "code",
   "execution_count": 39,
   "id": "541b71d7-f3a8-4f56-8e4c-4e3b6293c9f8",
   "metadata": {
    "collapsed": true,
    "jupyter": {
     "outputs_hidden": true,
     "source_hidden": true
    }
   },
   "outputs": [
    {
     "name": "stdout",
     "output_type": "stream",
     "text": [
      "0\n",
      "1\n",
      "2\n",
      "3\n"
     ]
    }
   ],
   "source": [
    "# break. it will exit the loop when condition match\n",
    "for i in range(10):\n",
    "    if i==4:\n",
    "        break\n",
    "    print(i)"
   ]
  },
  {
   "cell_type": "code",
   "execution_count": 37,
   "id": "308ad3dd-7b03-497e-9785-715aafccc790",
   "metadata": {
    "collapsed": true,
    "jupyter": {
     "outputs_hidden": true,
     "source_hidden": true
    }
   },
   "outputs": [
    {
     "name": "stdout",
     "output_type": "stream",
     "text": [
      "0\n",
      "1\n",
      "2\n",
      "4\n",
      "5\n"
     ]
    }
   ],
   "source": [
    "# continue. it will skip matching part and execute the rest\n",
    "for i in range(6):\n",
    "    if i==3:\n",
    "        continue\n",
    "    print(i)"
   ]
  },
  {
   "cell_type": "code",
   "execution_count": 42,
   "id": "d975d45c-0ce1-4655-80b1-96c994ec262d",
   "metadata": {
    "collapsed": true,
    "jupyter": {
     "outputs_hidden": true,
     "source_hidden": true
    }
   },
   "outputs": [
    {
     "name": "stdout",
     "output_type": "stream",
     "text": [
      "0\n",
      "1\n",
      "2\n",
      "3\n",
      "4\n"
     ]
    }
   ],
   "source": [
    "# PASS. its a null statement. it tell program to do nothing. when you want to leave the part for later\n",
    "for i in range(10):\n",
    "    pass    # without this, it will throw error.\n",
    "\n",
    "for j in range(5):\n",
    "    print(j)\n",
    "    j+=1"
   ]
  },
  {
   "cell_type": "code",
   "execution_count": 50,
   "id": "11354b26-d109-4aec-a571-4cd649c9bca6",
   "metadata": {
    "collapsed": true,
    "jupyter": {
     "outputs_hidden": true,
     "source_hidden": true
    }
   },
   "outputs": [
    {
     "name": "stdin",
     "output_type": "stream",
     "text": [
      "enter the number:  4\n"
     ]
    },
    {
     "name": "stdout",
     "output_type": "stream",
     "text": [
      "4 * 1 is 4\n",
      "4 * 2 is 8\n",
      "4 * 3 is 12\n",
      "4 * 4 is 16\n",
      "4 * 5 is 20\n",
      "4 * 6 is 24\n",
      "4 * 7 is 28\n",
      "4 * 8 is 32\n",
      "4 * 9 is 36\n",
      "4 * 10 is 40\n"
     ]
    }
   ],
   "source": [
    "# mulitple table using for loop\n",
    "n=int(input(\"enter the number: \"))\n",
    "for i in range(1, 11):\n",
    "    print(f\"{n} * {i} is {n*i}\")"
   ]
  },
  {
   "cell_type": "code",
   "execution_count": 51,
   "id": "4711d412-c34c-46c9-b4e2-6f8357def7e1",
   "metadata": {
    "collapsed": true,
    "jupyter": {
     "outputs_hidden": true,
     "source_hidden": true
    }
   },
   "outputs": [
    {
     "name": "stdin",
     "output_type": "stream",
     "text": [
      "enter the number:  4\n"
     ]
    },
    {
     "name": "stdout",
     "output_type": "stream",
     "text": [
      "4 * 1 is 4\n",
      "4 * 2 is 8\n",
      "4 * 3 is 12\n",
      "4 * 4 is 16\n",
      "4 * 5 is 20\n",
      "4 * 6 is 24\n",
      "4 * 7 is 28\n",
      "4 * 8 is 32\n",
      "4 * 9 is 36\n",
      "4 * 10 is 40\n"
     ]
    }
   ],
   "source": [
    "# table using while loop\n",
    "n=int(input(\"enter the number: \"))\n",
    "i=1\n",
    "while i<=10:\n",
    "    print(f\"{n} * {i} is {n*i}\")\n",
    "    i+=1"
   ]
  },
  {
   "cell_type": "code",
   "execution_count": 54,
   "id": "0ca458b6-2fc8-4097-903d-f4f2c9dcd895",
   "metadata": {
    "collapsed": true,
    "jupyter": {
     "outputs_hidden": true,
     "source_hidden": true
    }
   },
   "outputs": [
    {
     "name": "stdin",
     "output_type": "stream",
     "text": [
      "enter your number:  4\n"
     ]
    },
    {
     "name": "stdout",
     "output_type": "stream",
     "text": [
      "10\n"
     ]
    }
   ],
   "source": [
    "# find sum of first n natural number using while loop. sum start with 0, because we are adding\n",
    "n=int(input(\"enter your number: \"))\n",
    "i=1\n",
    "sum=0\n",
    "while i<=n:\n",
    "    sum+=i\n",
    "    i+=1\n",
    "print(sum)"
   ]
  },
  {
   "cell_type": "code",
   "execution_count": 56,
   "id": "03121fe1-60ec-40f2-bb6c-3e81cd1c49f9",
   "metadata": {
    "collapsed": true,
    "jupyter": {
     "outputs_hidden": true,
     "source_hidden": true
    }
   },
   "outputs": [
    {
     "name": "stdin",
     "output_type": "stream",
     "text": [
      "enter the number:  5\n"
     ]
    },
    {
     "name": "stdout",
     "output_type": "stream",
     "text": [
      "120\n"
     ]
    }
   ],
   "source": [
    "#  factorial of a number using for loop. product start with 1 because we are mulitplying. 5= 1*2*3*4*5\n",
    "n=int(input(\"enter the number: \"))\n",
    "factorial = 1\n",
    "for i in range (1, n+1):\n",
    "    factorial = factorial * i\n",
    "print(factorial)"
   ]
  },
  {
   "cell_type": "markdown",
   "id": "25d1ff0e-f55f-49c0-9159-cd8ee840b6f9",
   "metadata": {},
   "source": [
    "FUNCTION"
   ]
  },
  {
   "cell_type": "code",
   "execution_count": 16,
   "id": "65d550e2-9bfc-4a89-a55c-2a54eb6b9346",
   "metadata": {
    "collapsed": true,
    "jupyter": {
     "outputs_hidden": true,
     "source_hidden": true
    }
   },
   "outputs": [
    {
     "name": "stdin",
     "output_type": "stream",
     "text": [
      "enter your name:  abhishek\n"
     ]
    },
    {
     "name": "stdout",
     "output_type": "stream",
     "text": [
      "hello abhishek, good morning\n"
     ]
    }
   ],
   "source": [
    "# greet user with their name and good morning\n",
    "def greet():\n",
    "    name = input(\"enter your name: \")\n",
    "    print(f\"hello {name}, good morning\")\n",
    "greet()"
   ]
  },
  {
   "cell_type": "code",
   "execution_count": 17,
   "id": "09b52fd5-3a40-4812-a157-4c90f8741db4",
   "metadata": {
    "collapsed": true,
    "jupyter": {
     "outputs_hidden": true,
     "source_hidden": true
    }
   },
   "outputs": [
    {
     "name": "stdin",
     "output_type": "stream",
     "text": [
      "enter first number:  2\n",
      "enter second number  3\n"
     ]
    },
    {
     "data": {
      "text/plain": [
       "5"
      ]
     },
     "execution_count": 17,
     "metadata": {},
     "output_type": "execute_result"
    }
   ],
   "source": [
    "# funtion without argument\n",
    "def add():\n",
    "    n1=int(input(\"enter first number: \"))\n",
    "    n2=int(input(\"enter second number \"))\n",
    "    sum = n1 +n2\n",
    "    return sum\n",
    "add()"
   ]
  },
  {
   "cell_type": "code",
   "execution_count": 20,
   "id": "bc9e6cda-3dd0-4cb9-ad45-07968897c91d",
   "metadata": {
    "collapsed": true,
    "jupyter": {
     "outputs_hidden": true,
     "source_hidden": true
    }
   },
   "outputs": [
    {
     "name": "stdout",
     "output_type": "stream",
     "text": [
      "good day abhishek\n",
      "good day pankaj\n"
     ]
    }
   ],
   "source": [
    "# funtion with single argument\n",
    "def greet(name):\n",
    "    print(f\"good day {name}\")\n",
    "greet(\"abhishek\")\n",
    "greet(\"pankaj\")"
   ]
  },
  {
   "cell_type": "code",
   "execution_count": 29,
   "id": "3ea9a46e-16d2-42b2-bdc4-2853355642a4",
   "metadata": {
    "collapsed": true,
    "jupyter": {
     "outputs_hidden": true,
     "source_hidden": true
    }
   },
   "outputs": [
    {
     "name": "stdout",
     "output_type": "stream",
     "text": [
      "good evening abhishek\n",
      "thanks\n",
      "good evening pankaj\n",
      "thank you\n"
     ]
    }
   ],
   "source": [
    "#  funtion with double arguemnt\n",
    "def greet(name, ending):\n",
    "    print(f\"good evening {name}\") \n",
    "    print(ending)\n",
    "greet(\"abhishek\",\"thanks\")\n",
    "greet(\"pankaj\",\"thank you\")\n",
    "\n",
    "# can be written insde single print \n",
    "# print(f\"Good evening {name} {ending}\")\n",
    "# print(f\"Good evening {name}\", ending)"
   ]
  },
  {
   "cell_type": "code",
   "execution_count": 19,
   "id": "138c12ee-18fd-4d44-aa59-1d89b8f6d475",
   "metadata": {
    "collapsed": true,
    "jupyter": {
     "outputs_hidden": true,
     "source_hidden": true
    }
   },
   "outputs": [
    {
     "name": "stdout",
     "output_type": "stream",
     "text": [
      "good morning abhishek\n",
      "you live in delhi\n",
      "good morning pankaj\n",
      "you live in pune\n"
     ]
    }
   ],
   "source": [
    "# default vlue\n",
    "def greet(name, city=\"pune\"):\n",
    "    print(f\"good morning {name}\")\n",
    "    print(f\"you live in {city}\")\n",
    "greet(\"abhishek\",\"delhi\")\n",
    "greet(\"pankaj\")"
   ]
  },
  {
   "cell_type": "code",
   "execution_count": 20,
   "id": "7890f761-f85d-4708-8564-631e0d24a731",
   "metadata": {
    "collapsed": true,
    "jupyter": {
     "outputs_hidden": true,
     "source_hidden": true
    }
   },
   "outputs": [
    {
     "name": "stdin",
     "output_type": "stream",
     "text": [
      "enter number:  4\n"
     ]
    },
    {
     "name": "stdout",
     "output_type": "stream",
     "text": [
      "factorial of 4 is 24\n"
     ]
    }
   ],
   "source": [
    "# FACTORIAL\n",
    "''' Recursion is a function which call itself\n",
    "factorial(0) = 1\n",
    "factorial(1) = 1\n",
    "factorial(2) = 2 * 1\n",
    "factorial(3) = 3 * 2 * 1\n",
    "factorial(4) = 4 * 3 * 2 * 1\n",
    "factorial(5) = 5 * 4 * 3 * 2 * 1\n",
    "factorial(n) = n * n-1 *........3 * 2 * 1\n",
    "\n",
    "factorial(n) = n * factorial(n-1)'''\n",
    "\n",
    "def factorial(n):\n",
    "    if n==1 or n==0:\n",
    "        return 1\n",
    "    return n * factorial(n-1)\n",
    "\n",
    "n = int(input(\"enter number: \"))\n",
    "print(f\"factorial of {n} is {factorial(n)}\")"
   ]
  },
  {
   "cell_type": "code",
   "execution_count": 17,
   "id": "76ebbef7-f63a-466c-acb1-6ca12d49ba98",
   "metadata": {
    "collapsed": true,
    "jupyter": {
     "outputs_hidden": true,
     "source_hidden": true
    }
   },
   "outputs": [
    {
     "name": "stdout",
     "output_type": "stream",
     "text": [
      "21\n"
     ]
    }
   ],
   "source": [
    "# recursive function to calculate sum of n natural number\n",
    "'''\n",
    "sum(1) = 1\n",
    "sum(2) = 1 + 2\n",
    "sum(3) = 1 + 2 + 3\n",
    "sum(n) = 1 + 2 + 3......n\n",
    "sum(n) = 1 + 2 + 3.......n-1 + n \n",
    "sum(n) = sum(n-1) + n\n",
    "'''\n",
    "def sum(n):\n",
    "    if n==1:\n",
    "        return 1\n",
    "    return sum(n-1) + n \n",
    "print(sum(6))"
   ]
  },
  {
   "cell_type": "code",
   "execution_count": 12,
   "id": "c251ecc2-291d-49ba-99b9-37ba363b9d39",
   "metadata": {
    "collapsed": true,
    "jupyter": {
     "outputs_hidden": true,
     "source_hidden": true
    },
    "scrolled": true
   },
   "outputs": [
    {
     "name": "stdin",
     "output_type": "stream",
     "text": [
      "enter number:  3\n",
      "enter number:  5\n",
      "enter number:  7\n"
     ]
    },
    {
     "name": "stdout",
     "output_type": "stream",
     "text": [
      "7\n"
     ]
    }
   ],
   "source": [
    "# Maximum num using fucntion\n",
    "def max(a,b,c):\n",
    "    if a>b and a>c:\n",
    "        return a\n",
    "    if b>a and b>c:\n",
    "        return b\n",
    "    if c>a and c>b:\n",
    "        return c\n",
    "\n",
    "a =int(input(\"enter number: \"))\n",
    "b =int(input(\"enter number: \"))\n",
    "c =int(input(\"enter number: \"))\n",
    "print(max(a,b,c))"
   ]
  },
  {
   "cell_type": "code",
   "execution_count": 14,
   "id": "125b8afd-4a21-4b4e-9685-10c6cb7d5d2a",
   "metadata": {
    "collapsed": true,
    "jupyter": {
     "outputs_hidden": true,
     "source_hidden": true
    }
   },
   "outputs": [
    {
     "name": "stdin",
     "output_type": "stream",
     "text": [
      "enter temp in farenhite:  4\n"
     ]
    },
    {
     "name": "stdout",
     "output_type": "stream",
     "text": [
      "-15.555555555555555\n"
     ]
    }
   ],
   "source": [
    "# Convert farenhinte to celsius\n",
    "f=int(input(\"enter temp in farenhite: \"))\n",
    "c= 5 * (f-32)/9\n",
    "print(c)   "
   ]
  },
  {
   "cell_type": "code",
   "execution_count": null,
   "id": "00b953e6-55af-4dc4-af2b-ae5cad4043e8",
   "metadata": {
    "collapsed": true,
    "jupyter": {
     "outputs_hidden": true,
     "source_hidden": true
    }
   },
   "outputs": [],
   "source": [
    "# convert farenhinte to celsius using function\n",
    "def temp(f):\n",
    "    return 5*(f-32)/9\n",
    "    # return round(5*(f-32)/9,2)         # to give round of figure till 2 after decimal\n",
    "f=int(input(\"enter temperature in farenhite: \"))\n",
    "print(temp(f))\n",
    "# print(round(temp(f),2))                # to give round of figure till 2 after decimal"
   ]
  },
  {
   "cell_type": "markdown",
   "id": "debc448f-fff3-474d-b0a2-c69a29041ab1",
   "metadata": {},
   "source": [
    "OOPS"
   ]
  },
  {
   "cell_type": "code",
   "execution_count": null,
   "id": "0b5652bc-46c4-413c-92a7-e6155a9c767c",
   "metadata": {
    "jupyter": {
     "source_hidden": true
    }
   },
   "outputs": [],
   "source": [
    "''' OOPS (object oriented programming system)\n",
    "\n",
    "1. CLASS is a blueprint for creating objects.\n",
    "    class Employee:\n",
    "    # Methods & Variables \n",
    "\n",
    "2. OBJECT is a instance of class.\n",
    "    There are 3 property for objects:\n",
    "    a. State - The attributes of the object.\n",
    "    b. Behavior: The methods of the object.\n",
    "    c. Identity: A unique identifier for the object.\n",
    "\n",
    "3. Self Parameter: Refers to the instance of the class.\n",
    "    harry.getSalary() # here self is harry. it is equivalent to Employee.getSalary(harry)\n",
    "\n",
    "4. STATIC METHOD: A method that does not use the self parameter.\n",
    "    @staticmethod   # decorator to mark greet as a static method\n",
    "    def greet():\n",
    "    print(\"Hello user\")\n",
    "\n",
    "5. init() Constructor: A special method that is run as soon as the object is created.\n",
    "    class Employee:\n",
    "        def __init__(self, name):\n",
    "            self.name = name\n",
    "    \n",
    "        def getSalary(self):\n",
    "            pass\n",
    "\n",
    "    harry = Employee(\"Harry\")\n",
    "\n",
    "6. PILLARS OF OOPS-\n",
    "   1. Polymorphism, 2. Inheritance, 3. Abstraction, 4. Encapsulation.\n",
    "\n",
    "6.1. Polymorphism: Many forms.\n",
    "    A) Function Overloading (Static): Functions with the same name but different parameters.\n",
    "    def abhi(a, b):\n",
    "        print(\"Function with two parameters\")\n",
    "    \n",
    "    def abhi(a, b, c):\n",
    "        print(\"Function with three parameters\")\n",
    "    \n",
    "    B) Function Overriding (Dynamic): A child class provides its own version of a method that is already defined in its parent class.\n",
    "    class Animal:\n",
    "        def speak(self):\n",
    "            return \"Some sound\"\n",
    "    \n",
    "    class Dog(Animal):\n",
    "        def speak(self):\n",
    "            return \"Woof\"\n",
    "    \n",
    "    class Cat(Animal):\n",
    "        def speak(self):\n",
    "            return \"Meow\"\n",
    "\n",
    "    ADVANTAGES: Flexibility, Reusability, Simplified Code, Improved Maintainability\n",
    "\n",
    "6.2. INHERITANCE: is a way of creating a new class from existing class.\n",
    "     a) Parent class  (super or base class)\n",
    "     b) Child class   (sub or derived class)\n",
    "\n",
    "    class Employee:      #parent class\n",
    "        # code\n",
    "    class Programmer (Employee):         #child class\n",
    "        # code\n",
    "    \n",
    "  Types of inheritance:\n",
    "  a. Single level: one class inherits from one base class. \n",
    "  b. Multiple level: one class inherits from mulitple base classes.\n",
    "  c. Mulit level: one class is dereived from another class, which is also derived from another class.\n",
    "  d. Hieracrhical level: mulitple classes inherit from the same base class.\n",
    "  e. Hybrid level: a combination of different types of inheritance.\n",
    "\n",
    "  Advantage of Inheritance - Enhance Code reusability, Hierarchical Organization, Ease of Maintenance, Extensibility.\n",
    "  \n",
    "\n",
    "6.3. ABSTRACTION: Hiding the complex details and showing only the necessary parts.\n",
    "    from abc import ABC, abstractmethod\n",
    "    \n",
    "    class Vehicle(ABC):\n",
    "        @abstractmethod\n",
    "        def start(self):\n",
    "            pass\n",
    "    \n",
    "    class Car(Vehicle):\n",
    "        def start(self):\n",
    "            print(\"Car started\")\n",
    "    \n",
    "    class Motorcycle(Vehicle):\n",
    "        def start(self):\n",
    "            print(\"Motorcycle started\")\n",
    "    \n",
    "    # Usage\n",
    "    vehicles = [Car(), Motorcycle()]\n",
    "    for v in vehicles:\n",
    "        v.start()\n",
    "\n",
    "    ADVANTAGES: Simplified Interface, Improved Focus, Easier Maintenance and Enhancement, Enhanced Design\n",
    "\n",
    "      \n",
    "6.4. ENCAPSULATION: Not showing essential things. it is about bundling the data and methods that\n",
    "     operate on that data into a single unit (a class) and controlling access to that data.\n",
    "    class BankAccount:\n",
    "        def __init__(self, balance=0):\n",
    "            self.__balance = balance\n",
    "    \n",
    "        def deposit(self, amount):\n",
    "            if amount > 0:\n",
    "                self.__balance += amount\n",
    "    \n",
    "        def withdraw(self, amount):\n",
    "            if 0 < amount <= self.__balance:\n",
    "                self.__balance -= amount\n",
    "    \n",
    "        def get_balance(self):\n",
    "            return self.__balance\n",
    "    \n",
    "    # Usage\n",
    "    account = BankAccount(100)\n",
    "    account.deposit(50)\n",
    "    account.withdraw(30)\n",
    "    print(account.get_balance())  # Output: 120\n",
    "\n",
    "    ADVANATGES: Controlled Access, Improved Security, Ease of Maintenance.\n",
    "\n",
    "\n",
    "7. SUPER METHOD: used to access the method of a super class in the derived class.\n",
    "    super().__init__()\n",
    "    # __init__() Calls constructor of the base class\n",
    "\n",
    "8. CLASS METHOD: A method which is bound to the class and not the object of the class.\n",
    "   @classmethod\n",
    "   def (cls, p1, p2):\n",
    "\n",
    "9. GETTERS AND @.SETTERS\n",
    "   class Employee:\n",
    "    def __init__(self, name):\n",
    "        self._name = name\n",
    "\n",
    "    @property\n",
    "    def name(self):\n",
    "        return self._name\n",
    "\n",
    "    @name.setter\n",
    "    def name(self, value):\n",
    "        self._name = value\n",
    "'''"
   ]
  },
  {
   "cell_type": "code",
   "execution_count": 2,
   "id": "ce7db73b-fae5-4683-ae84-baffb83ec7bb",
   "metadata": {
    "collapsed": true,
    "jupyter": {
     "outputs_hidden": true,
     "source_hidden": true
    }
   },
   "outputs": [
    {
     "name": "stdout",
     "output_type": "stream",
     "text": [
      "this line is here so the current cell is on top of screen, not at bottom\n"
     ]
    }
   ],
   "source": [
    "print(\"this line is here so the current cell is on top of screen, not at bottom\")\n",
    "\n",
    "\n",
    "\n",
    "\n",
    "\n",
    "\n",
    "\n",
    "\n",
    "\n",
    "\n",
    "\n",
    "\n",
    "\n"
   ]
  }
 ],
 "metadata": {
  "kernelspec": {
   "display_name": "Python 3 (ipykernel)",
   "language": "python",
   "name": "python3"
  },
  "language_info": {
   "codemirror_mode": {
    "name": "ipython",
    "version": 3
   },
   "file_extension": ".py",
   "mimetype": "text/x-python",
   "name": "python",
   "nbconvert_exporter": "python",
   "pygments_lexer": "ipython3",
   "version": "3.11.7"
  }
 },
 "nbformat": 4,
 "nbformat_minor": 5
}
