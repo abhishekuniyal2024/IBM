{
 "cells": [
  {
   "cell_type": "markdown",
   "id": "ec18f3fe-fbc7-4d0d-8865-d335deb11773",
   "metadata": {},
   "source": [
    "22 JULY. IBM Python for AI"
   ]
  },
  {
   "cell_type": "code",
   "execution_count": 1,
   "id": "ba86c790-935d-4985-8afa-2f724bad4ec1",
   "metadata": {
    "collapsed": true,
    "jupyter": {
     "outputs_hidden": true,
     "source_hidden": true
    }
   },
   "outputs": [
    {
     "name": "stdout",
     "output_type": "stream",
     "text": [
      "hey\n"
     ]
    }
   ],
   "source": [
    "print(\"hey\")"
   ]
  },
  {
   "cell_type": "code",
   "execution_count": 5,
   "id": "58c355d5-6da5-47b2-9f6d-2fcc652065bd",
   "metadata": {
    "collapsed": true,
    "jupyter": {
     "outputs_hidden": true,
     "source_hidden": true
    }
   },
   "outputs": [
    {
     "name": "stdout",
     "output_type": "stream",
     "text": [
      "3.11.7 | packaged by Anaconda, Inc. | (main, Dec 15 2023, 18:05:47) [MSC v.1916 64 bit (AMD64)]\n"
     ]
    }
   ],
   "source": [
    "# Check the Python Version\n",
    "import sys\n",
    "print(sys.version)    #this line will print the python version"
   ]
  },
  {
   "cell_type": "code",
   "execution_count": 21,
   "id": "7cddfad1-292d-42fc-82be-433b6297f9b4",
   "metadata": {
    "collapsed": true,
    "jupyter": {
     "outputs_hidden": true,
     "source_hidden": true
    }
   },
   "outputs": [
    {
     "name": "stdout",
     "output_type": "stream",
     "text": [
      "<class 'str'>\n",
      "<class 'int'>\n",
      "<class 'float'>\n",
      "<class 'bool'>\n"
     ]
    }
   ],
   "source": [
    "# types in PYthon\n",
    "a=\"abishek\"\n",
    "b=2\n",
    "c=3.5\n",
    "d=5>2\n",
    "\n",
    "print(type(a))\n",
    "print(type(b))\n",
    "print(type(c))\n",
    "print(type(d))"
   ]
  },
  {
   "cell_type": "code",
   "execution_count": 29,
   "id": "071b1b39-f540-4326-8497-53d827fee0c7",
   "metadata": {
    "collapsed": true,
    "jupyter": {
     "outputs_hidden": true,
     "source_hidden": true
    }
   },
   "outputs": [
    {
     "name": "stdout",
     "output_type": "stream",
     "text": [
      "<class 'float'>\n",
      "<class 'int'>\n",
      "<class 'str'>\n",
      "<class 'bool'>\n",
      "<class 'int'>\n"
     ]
    }
   ],
   "source": [
    "# Typecasting -  changing data type\n",
    "n=3.0\n",
    "print(type(n))\n",
    "\n",
    "b=int(n)\n",
    "print(type(b))\n",
    "\n",
    "c=str(n)\n",
    "print(type(c))\n",
    "\n",
    "d=True\n",
    "print(type(d))\n",
    "e=int(d)\n",
    "print(type(e))"
   ]
  },
  {
   "cell_type": "code",
   "execution_count": 32,
   "id": "c34c9113-c46c-4eb5-8cd0-d456de854407",
   "metadata": {
    "collapsed": true,
    "jupyter": {
     "outputs_hidden": true,
     "source_hidden": true
    }
   },
   "outputs": [
    {
     "name": "stdout",
     "output_type": "stream",
     "text": [
      "10\n",
      "5.0\n",
      "5.0\n"
     ]
    }
   ],
   "source": [
    "# Expression \n",
    "# Write an expression to add 30 and 20 and subtract 40\n",
    "print(30+20-40)\n",
    "# Write an expression to subtract 5 from 55 and divide the result by 10\n",
    "print((55-5)/10)\n",
    "# Write an expression to multiply 6 with 10 and divide the result by 12\n",
    "print((6*10)/12)"
   ]
  },
  {
   "cell_type": "markdown",
   "id": "4a1aec23-ec2b-470b-8726-284921cff418",
   "metadata": {},
   "source": [
    "USER INPUT"
   ]
  },
  {
   "cell_type": "code",
   "execution_count": 53,
   "id": "23185254-4b76-42ad-92f9-8daddf91fbdd",
   "metadata": {
    "collapsed": true,
    "jupyter": {
     "outputs_hidden": true,
     "source_hidden": true
    }
   },
   "outputs": [
    {
     "name": "stdin",
     "output_type": "stream",
     "text": [
      "enter your name:  abhi\n"
     ]
    },
    {
     "name": "stdout",
     "output_type": "stream",
     "text": [
      "good morning abhi\n"
     ]
    }
   ],
   "source": [
    "name=input(\"enter your name: \")\n",
    "print(f\"good morning {name}\")"
   ]
  },
  {
   "cell_type": "code",
   "execution_count": null,
   "id": "ca074160-df3b-41de-b3ad-3bd2c201046c",
   "metadata": {
    "collapsed": true,
    "jupyter": {
     "outputs_hidden": true,
     "source_hidden": true
    }
   },
   "outputs": [],
   "source": [
    "# take 2 value from user in a single line \n",
    "a, b = map(int, input(\"Enter two numbers separated by space: \").split())\n",
    "print(a + b)"
   ]
  },
  {
   "cell_type": "code",
   "execution_count": null,
   "id": "c0e7a25a-b2bb-4dca-9733-06ee2fb67bc6",
   "metadata": {
    "collapsed": true,
    "jupyter": {
     "outputs_hidden": true,
     "source_hidden": true
    }
   },
   "outputs": [],
   "source": [
    "# take 2 value from user in a single line. we will use comma instead of space here now\n",
    "a, b = map(int, input(\"Enter two numbers separated by comma: \").split(\",\"))\n",
    "print(a + b)\n"
   ]
  },
  {
   "cell_type": "markdown",
   "id": "0ad5e35b-a577-4193-abdc-bef01f945175",
   "metadata": {},
   "source": [
    "STRING"
   ]
  },
  {
   "cell_type": "code",
   "execution_count": 7,
   "id": "9c297020-b3d7-497c-87fb-f1bc5041f103",
   "metadata": {
    "collapsed": true,
    "jupyter": {
     "outputs_hidden": true,
     "source_hidden": true
    }
   },
   "outputs": [
    {
     "name": "stdout",
     "output_type": "stream",
     "text": [
      "abhishek welcome\n",
      "hello abhishek welcome\n",
      "my name is abhishek and i live in india\n",
      "my name is abhishek and my country is india\n",
      "My name is abhishek and I stay in india.\n"
     ]
    }
   ],
   "source": [
    "# STRING\n",
    "name=\"abhishek\"\n",
    "country=\"india\"\n",
    "print(name + \" welcome\")\n",
    "print(\"hello\",name + \" welcome\")\n",
    "print(f\"my name is {name} and i live in {country}\")\n",
    "print(\"my name is\",name + \" and my country is\",country)\n",
    "print(\"My name is {} and I stay in {}.\".format(name, country))"
   ]
  },
  {
   "cell_type": "code",
   "execution_count": 29,
   "id": "9031de4e-e595-443d-8236-0a671a866fc6",
   "metadata": {
    "collapsed": true,
    "jupyter": {
     "outputs_hidden": true,
     "source_hidden": true
    }
   },
   "outputs": [
    {
     "name": "stdout",
     "output_type": "stream",
     "text": [
      "my name is abhishek. \n",
      " I live in india\n",
      "--------------------------------------------------------------\n",
      "my name is abhishek \\n. i live in india\n",
      "--------------------------------------------------------------\n",
      "Raw String: C:\\new_folder\\file.txt\n"
     ]
    }
   ],
   "source": [
    "# Raw String. for handling textual data, especially when dealing with escape characters\n",
    "str= \"my name is abhishek. \\n I live in india\"\n",
    "print(str)\n",
    "print(\"--------------------------------------------------------------\")\n",
    "\n",
    "# \\n is not interpreted as a newline character, but rather as two separate characters, ‘’ and ‘n’\n",
    "raw_str=r\"my name is abhishek \\n. i live in india\"    #\n",
    "print(raw_str)\n",
    "print(\"--------------------------------------------------------------\")\n",
    "\n",
    "# another example, which is more realstic. without raw string, it will take \\n as next line.\n",
    "raw_string = r\"C:\\new_folder\\file.txt\"\n",
    "print(\"Raw String:\", raw_string)"
   ]
  },
  {
   "cell_type": "code",
   "execution_count": 59,
   "id": "e87a9ec0-1790-48b8-ad0b-ef1baaedab75",
   "metadata": {
    "collapsed": true,
    "jupyter": {
     "outputs_hidden": true,
     "source_hidden": true
    }
   },
   "outputs": [
    {
     "name": "stdout",
     "output_type": "stream",
     "text": [
      "hey i am \n",
      "abhishek\n",
      "--------------------------------------------\n",
      "hey i am \tabhishek\n",
      "--------------------------------------------\n",
      "hey i amabhishelk\n",
      "--------------------------------------------\n",
      "hey i am \\ abhishek\n",
      "--------------------------------------------\n",
      "hey i am \\ abhishek\n"
     ]
    }
   ],
   "source": [
    "# escape sequence\n",
    "\n",
    "# \\n new line escape. enter new line\n",
    "print(\"hey i am \\nabhishek\")\n",
    "print(\"--------------------------------------------\")\n",
    "\n",
    "# \\t tab escape. it work as tab key, give space\n",
    "print(\"hey i am \\tabhishek\")\n",
    "print(\"--------------------------------------------\")\n",
    "\n",
    "# \\b backspace. it works as backspace key, revmove space\n",
    "print(\"hey i am \\babhishelk\")\n",
    "print(\"--------------------------------------------\")\n",
    "\n",
    "# Include back slash in string\n",
    "print(\"hey i am \\\\ abhishek\")\n",
    "print(\"--------------------------------------------\")\n",
    "\n",
    "# r will tell python that string will be display as raw string\n",
    "print(r\"hey i am \\ abhishek\")"
   ]
  },
  {
   "cell_type": "code",
   "execution_count": 43,
   "id": "6673c489-1469-42dd-ab45-e9b66cd18d2b",
   "metadata": {
    "collapsed": true,
    "jupyter": {
     "outputs_hidden": true,
     "source_hidden": true
    }
   },
   "outputs": [
    {
     "name": "stdout",
     "output_type": "stream",
     "text": [
      "hi, world\n"
     ]
    }
   ],
   "source": [
    "# how to use strip string. to remove space from beginning and end both side\n",
    "a=\" hi, world \"\n",
    "print(a.strip())"
   ]
  },
  {
   "cell_type": "code",
   "execution_count": 47,
   "id": "aa4274a3-c39b-4307-82c3-d330ed41703a",
   "metadata": {
    "collapsed": true,
    "jupyter": {
     "outputs_hidden": true,
     "source_hidden": true
    }
   },
   "outputs": [
    {
     "name": "stdout",
     "output_type": "stream",
     "text": [
      "hi world\n"
     ]
    }
   ],
   "source": [
    "# how to use replace string method(). most important\n",
    "b=\"hello world\"\n",
    "print(b.replace(\"hello\",\"hi\"))"
   ]
  },
  {
   "cell_type": "code",
   "execution_count": 45,
   "id": "4597797f-14a8-4522-9ae4-ceb565444567",
   "metadata": {
    "collapsed": true,
    "jupyter": {
     "outputs_hidden": true,
     "source_hidden": true
    }
   },
   "outputs": [
    {
     "name": "stdout",
     "output_type": "stream",
     "text": [
      "['hello', 'python', 'programmer', '23']\n"
     ]
    }
   ],
   "source": [
    "#  how to use split string method(). split method split into substring\n",
    "t1= \"hello python programmer 23\"\n",
    "print(t1.split())"
   ]
  },
  {
   "cell_type": "code",
   "execution_count": 27,
   "id": "ef01f74e-16cb-4c69-9c7c-cf66f5f29ecc",
   "metadata": {
    "collapsed": true,
    "jupyter": {
     "outputs_hidden": true,
     "source_hidden": true
    }
   },
   "outputs": [
    {
     "name": "stdout",
     "output_type": "stream",
     "text": [
      "before upper: Thriller is the sixth studio album\n",
      "After upper: THRILLER IS THE SIXTH STUDIO ALBUM\n",
      "After lower: thriller is the sixth studio album\n",
      "Is It A Title:  False\n",
      "34\n",
      "r\n",
      "hril\n",
      "mubla oiduts htxis eht si rellirhT\n",
      "iller is the sixth studio\n"
     ]
    }
   ],
   "source": [
    "# string manipulation and function\n",
    "\n",
    "a = \"Thriller is the sixth studio album\"\n",
    "print(\"before upper:\", a)\n",
    "b = a.upper()\n",
    "print(\"After upper:\", b)\n",
    "c = a.lower()\n",
    "print(\"After lower:\",c)\n",
    "\n",
    "print(\"Is It A Title: \",a.istitle())\n",
    "print(len(a))         # print length of string\n",
    "print(a[2])           # print character of index number 2\n",
    "print(a[1:5])         # print from 1 to 4\n",
    "print(a[::-1])        # print string in reverse\n",
    "print(a[3:-6])        # print from 3 to 28"
   ]
  },
  {
   "cell_type": "code",
   "execution_count": 12,
   "id": "751dc679-f2dc-4218-a548-bd8e988dcfa4",
   "metadata": {
    "collapsed": true,
    "jupyter": {
     "outputs_hidden": true,
     "source_hidden": true
    }
   },
   "outputs": [
    {
     "name": "stdout",
     "output_type": "stream",
     "text": [
      "my name is Pankaj\n"
     ]
    }
   ],
   "source": [
    "# replace string \n",
    "name=\"my name is Abhishek\"\n",
    "name_find=name.replace(\"Abhishek\",\"Pankaj\")\n",
    "print(name_find)"
   ]
  },
  {
   "cell_type": "code",
   "execution_count": 48,
   "id": "bc192915-dcfa-49f0-a7ac-ca3ab7863461",
   "metadata": {
    "collapsed": true,
    "jupyter": {
     "outputs_hidden": true,
     "source_hidden": true
    }
   },
   "outputs": [
    {
     "name": "stdout",
     "output_type": "stream",
     "text": [
      "['abhishek', 'pankaj', 'rahul', 'rohit']\n"
     ]
    }
   ],
   "source": [
    "#  append method in list. it always add element at end of the index\n",
    "name=[\"abhishek\",\"pankaj\",\"rahul\"]\n",
    "name.append(\"rohit\")\n",
    "print(name)"
   ]
  },
  {
   "cell_type": "code",
   "execution_count": 50,
   "id": "0091331b-bff5-442f-b64f-8eb21d311934",
   "metadata": {
    "collapsed": true,
    "jupyter": {
     "outputs_hidden": true,
     "source_hidden": true
    }
   },
   "outputs": [
    {
     "name": "stdout",
     "output_type": "stream",
     "text": [
      "['abhishek', 'pankaj', 'SHARMA', 'rahul', 'rohit']\n"
     ]
    }
   ],
   "source": [
    "# insert() method ise use to add element at selected index number like index[2]\n",
    "name=[\"abhishek\",\"pankaj\",\"rahul\",\"rohit\"]\n",
    "name.insert(2,\"SHARMA\")\n",
    "print(name)"
   ]
  },
  {
   "cell_type": "code",
   "execution_count": 51,
   "id": "e613a11c-1f8d-429a-8821-057c2cc74cdb",
   "metadata": {
    "collapsed": true,
    "jupyter": {
     "outputs_hidden": true,
     "source_hidden": true
    }
   },
   "outputs": [
    {
     "name": "stdout",
     "output_type": "stream",
     "text": [
      "['abhishek', 'pankaj', 'rahul']\n"
     ]
    }
   ],
   "source": [
    "# pop method () in a list. it always delete value from end of the index number\n",
    "name=[\"abhishek\",\"pankaj\",\"rahul\",\"rohit\"]\n",
    "name.pop()\n",
    "print(name)"
   ]
  },
  {
   "cell_type": "code",
   "execution_count": 52,
   "id": "17934418-8350-4604-92ff-86170e37d9bb",
   "metadata": {
    "collapsed": true,
    "jupyter": {
     "outputs_hidden": true,
     "source_hidden": true
    }
   },
   "outputs": [
    {
     "name": "stdout",
     "output_type": "stream",
     "text": [
      "['abhishek', 'pankaj', 'rohit', 'kunal']\n"
     ]
    }
   ],
   "source": [
    "# pop method with index number for deleteing the selected element. pop only take 1 value\n",
    "name=[\"abhishek\",\"pankaj\",\"rahul\",\"rohit\",\"kunal\"]\n",
    "name.pop(2)\n",
    "print(name)"
   ]
  },
  {
   "cell_type": "code",
   "execution_count": 55,
   "id": "f6d350e3-0bc7-4938-b061-0ed6b274ef46",
   "metadata": {
    "collapsed": true,
    "jupyter": {
     "outputs_hidden": true,
     "source_hidden": true
    }
   },
   "outputs": [
    {
     "name": "stdout",
     "output_type": "stream",
     "text": [
      "['abhishek', 'pankaj', 'rohit', 'kunal', 'rahul']\n",
      "['abhishek', 'pankaj', 'rohit', 'kunal']\n"
     ]
    }
   ],
   "source": [
    "#  remove method. only remove first match value. rahul in this case\n",
    "name=[\"abhishek\",\"pankaj\",\"rahul\",\"rohit\",\"kunal\",\"rahul\"]\n",
    "name.remove(\"rahul\")\n",
    "print(name)\n",
    "\n",
    "# to remove rahul every time, use while loop\n",
    "name2 = [\"abhishek\", \"pankaj\", \"rahul\", \"rohit\", \"kunal\", \"rahul\"]\n",
    "while \"rahul\" in name2:\n",
    "    name2.remove(\"rahul\")\n",
    "print(name2)"
   ]
  },
  {
   "cell_type": "code",
   "execution_count": 56,
   "id": "54c28b0c-71b9-471f-8b57-7ea75577cb78",
   "metadata": {
    "collapsed": true,
    "jupyter": {
     "outputs_hidden": true,
     "source_hidden": true
    }
   },
   "outputs": [
    {
     "name": "stdout",
     "output_type": "stream",
     "text": [
      "['abhishek', 'kunal', 'pankaj', 'rahul', 'rohit']\n"
     ]
    }
   ],
   "source": [
    "# sort method\n",
    "name = [\"abhishek\", \"pankaj\", \"rahul\", \"rohit\", \"kunal\"]\n",
    "name.sort()\n",
    "print(name)"
   ]
  },
  {
   "cell_type": "code",
   "execution_count": 60,
   "id": "93a7b4f6-4e74-43c3-a81c-b8578fdfbf12",
   "metadata": {
    "collapsed": true,
    "jupyter": {
     "outputs_hidden": true,
     "source_hidden": true
    }
   },
   "outputs": [
    {
     "name": "stdout",
     "output_type": "stream",
     "text": [
      "['kunal', 'rohit', 'rahul', 'pankaj', 'abhishek']\n",
      "['kunal', 'rohit', 'rahul', 'pankaj', 'abhishek']\n"
     ]
    }
   ],
   "source": [
    "# reverse list\n",
    "name = [\"abhishek\", \"pankaj\", \"rahul\", \"rohit\", \"kunal\"]\n",
    "name.reverse()\n",
    "print(name)\n",
    "\n",
    "# without using reverse. we can use slicing\n",
    "name2 = [\"abhishek\", \"pankaj\", \"rahul\", \"rohit\", \"kunal\"]\n",
    "print(name2[::-1])"
   ]
  },
  {
   "cell_type": "code",
   "execution_count": 61,
   "id": "7ec00ddd-152d-426d-ac37-4c40b8e1196d",
   "metadata": {
    "collapsed": true,
    "jupyter": {
     "outputs_hidden": true,
     "source_hidden": true
    }
   },
   "outputs": [
    {
     "name": "stdout",
     "output_type": "stream",
     "text": [
      "['pankaj']\n",
      "['abhishek', 'pankaj', 'rahul', 'rohit']\n",
      "['abhishek', 'pankaj']\n",
      "['kunal', 'rohit', 'rahul', 'pankaj', 'abhishek']\n"
     ]
    }
   ],
   "source": [
    "# slicing. it return the range of character value.\n",
    "name = [\"abhishek\", \"pankaj\", \"rahul\", \"rohit\", \"kunal\"]\n",
    "print(name[1:2])\n",
    "print(name[0:4])\n",
    "print(name[0:-3])\n",
    "print(name[::-1])   # to reverse list without using reverse function"
   ]
  },
  {
   "cell_type": "code",
   "execution_count": 62,
   "id": "5186387e-d1b4-4bc3-ab2f-032b3bcc44aa",
   "metadata": {
    "collapsed": true,
    "jupyter": {
     "outputs_hidden": true,
     "source_hidden": true
    }
   },
   "outputs": [
    {
     "name": "stdout",
     "output_type": "stream",
     "text": [
      "[]\n"
     ]
    }
   ],
   "source": [
    "# clear() method. to clear all\n",
    "name=[\"abhishek\",\"pankaj\",\"rahul\",\"rohit\",\"kunal\"]\n",
    "name.clear()\n",
    "print(name)"
   ]
  },
  {
   "cell_type": "code",
   "execution_count": 13,
   "id": "09eec679-6020-4239-8b48-f38979ab14b4",
   "metadata": {
    "collapsed": true,
    "jupyter": {
     "outputs_hidden": true,
     "source_hidden": true
    }
   },
   "outputs": [
    {
     "data": {
      "text/plain": [
       "10"
      ]
     },
     "execution_count": 13,
     "metadata": {},
     "output_type": "execute_result"
    }
   ],
   "source": [
    "#  substring in the strng\n",
    "name=\"abhishek, pankaj, rahul, rohit\"\n",
    "name.find(\"pankaj\")"
   ]
  },
  {
   "cell_type": "code",
   "execution_count": 15,
   "id": "8e4836e7-852f-4b1a-b795-54221961aff5",
   "metadata": {
    "collapsed": true,
    "jupyter": {
     "outputs_hidden": true,
     "source_hidden": true
    }
   },
   "outputs": [
    {
     "name": "stdout",
     "output_type": "stream",
     "text": [
      "['Abhishek', 'Uniyal']\n"
     ]
    }
   ],
   "source": [
    "#Split the substring into list\n",
    "name = \"Abhishek Uniyal\"\n",
    "split_string = (name.split())\n",
    "print(split_string)"
   ]
  },
  {
   "cell_type": "markdown",
   "id": "9ef6cb14-500b-4823-9f9b-58289ac8035b",
   "metadata": {},
   "source": [
    "REGULAR EXPRESSION"
   ]
  },
  {
   "cell_type": "code",
   "execution_count": 7,
   "id": "1d120dd6-8ad3-4280-88f7-82d6dec4dd68",
   "metadata": {
    "collapsed": true,
    "jupyter": {
     "outputs_hidden": true,
     "source_hidden": true
    }
   },
   "outputs": [
    {
     "name": "stdout",
     "output_type": "stream",
     "text": [
      "Match found!\n"
     ]
    }
   ],
   "source": [
    "# RegEx (Regular Expression) is a tool for matching and handling strings. (search, split, findall, sub)\n",
    "import re\n",
    "str = \"My name is Abhishek Uniyal\"\n",
    "\n",
    "# Define the pattern to search for. r is oprtinal here. r is use when we have pattern like r\"\\d\": Matches any digit.\n",
    "pattern = r\"Abhishek\"\n",
    "\n",
    "# Use the search() function to search for the pattern in the string\n",
    "result = re.search(pattern, str)\n",
    "\n",
    "# Check if a match was found\n",
    "if result:\n",
    "    print(\"Match found!\")\n",
    "else:\n",
    "    print(\"Match not found.\")"
   ]
  },
  {
   "cell_type": "code",
   "execution_count": 22,
   "id": "dd9da659-2529-48ef-ac4f-c67cc663b500",
   "metadata": {
    "collapsed": true,
    "jupyter": {
     "outputs_hidden": true,
     "source_hidden": true
    }
   },
   "outputs": [
    {
     "name": "stdout",
     "output_type": "stream",
     "text": [
      "Phone number found: 1234567890\n"
     ]
    }
   ],
   "source": [
    "# using the \"\\d\" special sequence in a regular expression pattern with Python code:\n",
    "pattern = r\"\\d\\d\\d\\d\\d\\d\\d\\d\\d\\d\"  # Matches any ten consecutive digits\n",
    "text = \"My Phone number is 1234567890\"\n",
    "match = re.search(pattern, text)\n",
    "\n",
    "if match:\n",
    "    print(\"Phone number found:\", match.group())\n",
    "else:\n",
    "    print(\"No match\")"
   ]
  },
  {
   "cell_type": "code",
   "execution_count": 25,
   "id": "ca9c5e15-eafb-483d-aecf-59e4d62b2fb5",
   "metadata": {
    "collapsed": true,
    "jupyter": {
     "outputs_hidden": true,
     "source_hidden": true
    }
   },
   "outputs": [
    {
     "name": "stdout",
     "output_type": "stream",
     "text": [
      "['as', 'as']\n"
     ]
    }
   ],
   "source": [
    "# findall. it finds all occurrences of a specified pattern within a string.\n",
    "text = \"Michael Jackson was a singer and known as the 'King of Pop'\"\n",
    "# Use the findall() function to find all occurrences of the \"as\" in the string\n",
    "result = re.findall(\"as\", text)\n",
    "\n",
    "print(result)"
   ]
  },
  {
   "cell_type": "code",
   "execution_count": 26,
   "id": "0162690e-5d33-4396-9fd2-c86cc74bd173",
   "metadata": {
    "collapsed": true,
    "jupyter": {
     "outputs_hidden": true,
     "source_hidden": true
    }
   },
   "outputs": [
    {
     "name": "stdout",
     "output_type": "stream",
     "text": [
      "['Michael', 'was', 'a', 'singer', 'and', 'known', 'as', 'the', \"'King\", 'of', \"Pop'\"]\n"
     ]
    }
   ],
   "source": [
    "# Use the split function to split the string by the \"\\s\"\n",
    "text = \"Michael was a singer and known as the 'King of Pop'\"\n",
    "\n",
    "split_array = re.split(\"\\s\", text)\n",
    "\n",
    "# The split_array contains all the substrings, split by whitespace characters\n",
    "print(split_array) "
   ]
  },
  {
   "cell_type": "code",
   "execution_count": 29,
   "id": "c6253bb9-f674-46ab-8c95-e0832b727fa2",
   "metadata": {
    "collapsed": true,
    "jupyter": {
     "outputs_hidden": true,
     "source_hidden": true
    }
   },
   "outputs": [
    {
     "name": "stdout",
     "output_type": "stream",
     "text": [
      "Michael was a singer and known as the 'legend'\n"
     ]
    }
   ],
   "source": [
    "# Define the regular expression pattern to search for\n",
    "text = \"Michael was a singer and known as the 'King of Pop'\"\n",
    "\n",
    "pattern = r\"King of Pop\"\n",
    "\n",
    "# Define the replacement string\n",
    "replacement = \"legend\"\n",
    "\n",
    "# Use the sub function to replace the pattern with the replacement string\n",
    "new_string = re.sub(pattern, replacement, text, flags=re.IGNORECASE)\n",
    "\n",
    "# The new_string contains the original string with the pattern replaced by the replacement string\n",
    "print(new_string) "
   ]
  },
  {
   "cell_type": "markdown",
   "id": "61d19f53-d02d-479c-b7d8-1640a7fec03c",
   "metadata": {},
   "source": [
    "TUPLE"
   ]
  },
  {
   "cell_type": "code",
   "execution_count": 72,
   "id": "3122666e-28de-45a8-b501-965ffd7cdd8e",
   "metadata": {
    "collapsed": true,
    "jupyter": {
     "outputs_hidden": true,
     "source_hidden": true
    }
   },
   "outputs": [
    {
     "name": "stdout",
     "output_type": "stream",
     "text": [
      "3\n",
      "(3, (94, 34, 77))\n",
      "(94, 34, 77)\n",
      "34\n"
     ]
    }
   ],
   "source": [
    "# TUPLE. tuple are immutable. tuple do not support clear, append, sort, pop, insert, del, update, search\n",
    "\n",
    "rating=(2,5,3,(94,34,77),4)\n",
    "print(rating[2])\n",
    "print(rating[2:4])\n",
    "print(rating[3])\n",
    "print(rating[3][1])"
   ]
  },
  {
   "cell_type": "code",
   "execution_count": 13,
   "id": "5235896e-c4e5-45c4-94a9-55fadc1e97d9",
   "metadata": {
    "collapsed": true,
    "jupyter": {
     "outputs_hidden": true,
     "source_hidden": true
    }
   },
   "outputs": [
    {
     "name": "stdout",
     "output_type": "stream",
     "text": [
      "3\n",
      "(1, 2, 3, 4, 5, 6)\n",
      "hi! hi! hi! hi! \n"
     ]
    },
    {
     "name": "stdin",
     "output_type": "stream",
     "text": [
      "enter number:  3\n"
     ]
    },
    {
     "name": "stdout",
     "output_type": "stream",
     "text": [
      "33333\n",
      "True\n",
      "3468['apple', 'banana', 'orange', 'mango']\n",
      "['apple', 'orange', 'mango']\n"
     ]
    }
   ],
   "source": [
    "# tuples\n",
    "t1=(1,2,3)\n",
    "print(len(t1))    # length\n",
    "\n",
    "t2=(1,2,3)\n",
    "t3=(4,5,6)\n",
    "print(t2+t3)      # concatenation\n",
    "\n",
    "t4=(\"hi! \")\n",
    "print(t4 *4)      #repitition\n",
    "\n",
    "n=input(\"enter number: \")   # for user generated integer value, treat number as string\n",
    "print( n * 5)\n",
    "\n",
    "t5=(5,4,3,6)\n",
    "print(3 in(t5))   # membership\n",
    "\n",
    "t6=(3,4,6,8)\n",
    "for x in t6:\n",
    "    print(x, end=\"\")      #iteration (loop)\n",
    "\n",
    "fruits = [\"apple\", \"banana\", \"orange\"] \n",
    "fruits.append(\"mango\")            # add value at end\n",
    "print(fruits)\n",
    "\n",
    "del fruits[1]              # delete value at index number 1\n",
    "print(fruits)"
   ]
  },
  {
   "cell_type": "markdown",
   "id": "e84838e0-b819-48e8-a1a0-1c36f44580a3",
   "metadata": {},
   "source": [
    "LIST"
   ]
  },
  {
   "cell_type": "code",
   "execution_count": 20,
   "id": "07ef3eca-8dfa-49c2-aab3-28b2f19012ea",
   "metadata": {
    "collapsed": true,
    "jupyter": {
     "outputs_hidden": true,
     "source_hidden": true
    }
   },
   "outputs": [
    {
     "name": "stdout",
     "output_type": "stream",
     "text": [
      "['abhishek', 'pankaj', 'rahul', 3, 6, 5]\n",
      "[3, 4, 5, 3, 4, 5]\n",
      "[2, 3, 4, 5]\n"
     ]
    }
   ],
   "source": [
    "# LIST. it is mutable (modify). all the method that i apply previosuly in string is applied in list\n",
    "\n",
    "# concatenation (+)\n",
    "name=[\"abhishek\", \"pankaj\", \"rahul\"]\n",
    "number=[3,6,5]\n",
    "print(name+number)\n",
    "\n",
    "# repeat (*)\n",
    "number2=[3,4,5]\n",
    "b=number2*2\n",
    "print(b)\n",
    "\n",
    "#  range (:)\n",
    "number3=[1,2,3,4,5,6,7,8,9]\n",
    "a=number3[1:5]\n",
    "print(a)"
   ]
  },
  {
   "cell_type": "markdown",
   "id": "d2e6aaa4-eb28-46ca-818a-daff4210d13e",
   "metadata": {},
   "source": [
    "DICT"
   ]
  },
  {
   "cell_type": "code",
   "execution_count": 30,
   "id": "4d416108-a2f9-48f6-99ba-5548a242a1d4",
   "metadata": {
    "collapsed": true,
    "jupyter": {
     "outputs_hidden": true,
     "source_hidden": true
    }
   },
   "outputs": [
    {
     "name": "stdout",
     "output_type": "stream",
     "text": [
      "{'id': 1, 'name': 'abhishek', 'program': 'data science', 'sem': 1, 'date of joining': '2024-05-23'}\n",
      "1\n",
      "1\n",
      "5\n",
      "<class 'dict'>\n",
      "dict_keys(['id', 'name', 'program', 'sem', 'date of joining'])\n",
      "dict_values([1, 'abhishek', 'data science', 1, '2024-05-23'])\n",
      "dict_items([('id', 1), ('name', 'abhishek'), ('program', 'data science'), ('sem', 1), ('date of joining', '2024-05-23')])\n"
     ]
    }
   ],
   "source": [
    "# dictionary. comes in key and pair value\n",
    "stu={\n",
    "    \"id\": 1,\n",
    "    \"name\": \"abhishek\",\n",
    "    \"program\": \"data science\",\n",
    "    \"sem\": 1,\n",
    "    \"date of joining\": \"2024-05-23\"\n",
    "}\n",
    "print(stu)                      # to see all key and value\n",
    "print(stu[\"id\"])                # to see single key value\n",
    "print(stu[\"id\"]), stu[\"name\"]   # to see 2 key value\n",
    "print(len(stu))                 # to see length\n",
    "print(type(stu))                # to see type  \n",
    "\n",
    "a=stu.keys()         \n",
    "print(a)                        # to see only key\n",
    "\n",
    "b = stu.values()\n",
    "print(b)                        # to see only values\n",
    "\n",
    "c=stu.items()\n",
    "print(c)                        # to see them in pair"
   ]
  },
  {
   "cell_type": "code",
   "execution_count": 31,
   "id": "db5e57e0-2f6e-48c0-9f8e-c95be858afff",
   "metadata": {
    "collapsed": true,
    "jupyter": {
     "outputs_hidden": true,
     "source_hidden": true
    }
   },
   "outputs": [
    {
     "name": "stdin",
     "output_type": "stream",
     "text": [
      "enter friend name:  a\n",
      "enter friend lang:  s\n",
      "enter friend name:  d\n",
      "enter friend lang:  d\n",
      "enter friend name:  f\n",
      "enter friend lang:  f\n"
     ]
    },
    {
     "name": "stdout",
     "output_type": "stream",
     "text": [
      "{'a': 's', 'd': 'd', 'f': 'f'}\n"
     ]
    }
   ],
   "source": [
    "# make empty dictionary then ask user 4 name and their language\n",
    "d={}\n",
    "\n",
    "name=input(\"enter friend name: \")\n",
    "lang=input(\"enter friend lang: \")\n",
    "d.update({name: lang})\n",
    "\n",
    "name=input(\"enter friend name: \")\n",
    "lang=input(\"enter friend lang: \")\n",
    "d.update({name: lang})\n",
    "\n",
    "name=input(\"enter friend name: \")\n",
    "lang=input(\"enter friend lang: \")\n",
    "d.update({name: lang})\n",
    "\n",
    "print(d)\n",
    "\n",
    "# if it has same key in 1, it will show only 3 key with last updated value\n",
    "# if it has same value, then it wont change anything"
   ]
  },
  {
   "cell_type": "code",
   "execution_count": 31,
   "id": "a7a4c71f-854d-496f-a567-faa716d8850d",
   "metadata": {
    "collapsed": true,
    "jupyter": {
     "outputs_hidden": true,
     "source_hidden": true
    }
   },
   "outputs": [
    {
     "name": "stdout",
     "output_type": "stream",
     "text": [
      "{'id': 1, 'name': 'pankaj', 'city': 'dehradun', 'country': ['india']}\n"
     ]
    }
   ],
   "source": [
    "# add new key and values in dic. it only add 1 key and value at a time\n",
    "emp={\n",
    "    \"id\": 1,\n",
    "    \"name\": \"pankaj\",\n",
    "    \"city\": \"dehradun\",\n",
    "}\n",
    "emp[\"country\"]=[\"india\"]\n",
    "print(emp)"
   ]
  },
  {
   "cell_type": "code",
   "execution_count": 8,
   "id": "debdcdd5-e11f-41fe-95ff-ded6525155dd",
   "metadata": {
    "collapsed": true,
    "jupyter": {
     "outputs_hidden": true,
     "source_hidden": true
    }
   },
   "outputs": [
    {
     "name": "stdout",
     "output_type": "stream",
     "text": [
      "{'id': 1, 'name': 'pankaj', 'designation': 'accountant', 'salary': 50000}\n"
     ]
    }
   ],
   "source": [
    "# pop method to delete key and value\n",
    "emp={\n",
    "    \"id\": 1,\n",
    "    \"name\": \"pankaj\",\n",
    "    \"city\": \"dehradun\",\n",
    "    \"designation\": \"accountant\",\n",
    "    \"salary\" : 50000\n",
    "}\n",
    "a=emp.pop(\"city\")\n",
    "print(emp)"
   ]
  },
  {
   "cell_type": "code",
   "execution_count": 33,
   "id": "5e5b3d1f-d808-4813-b857-aee6d1d63d70",
   "metadata": {
    "collapsed": true,
    "jupyter": {
     "outputs_hidden": true,
     "source_hidden": true
    }
   },
   "outputs": [
    {
     "name": "stdout",
     "output_type": "stream",
     "text": [
      "{'id': 1, 'name': 'pankaj', 'city': 'dehradun', 'designation': 'accountant', 'salary': 39999}\n"
     ]
    }
   ],
   "source": [
    "# update method to update key and value\n",
    "emp={\n",
    "    \"id\": 1,\n",
    "    \"name\": \"pankaj\",\n",
    "    \"city\": \"dehradun\",\n",
    "    \"designation\": \"accountant\",\n",
    "    \"salary\" : 50000  \n",
    "}\n",
    "emp.update({\"salary\":39999})\n",
    "print(emp)"
   ]
  },
  {
   "cell_type": "code",
   "execution_count": 41,
   "id": "9fcda16f-76da-482a-81ca-12efd8a47187",
   "metadata": {
    "collapsed": true,
    "jupyter": {
     "outputs_hidden": true,
     "source_hidden": true
    }
   },
   "outputs": [
    {
     "name": "stdout",
     "output_type": "stream",
     "text": [
      "{}\n"
     ]
    }
   ],
   "source": [
    "# clear method in a dictionary\n",
    "emp={\n",
    "    \"id\": 1,\n",
    "    \"name\": \"pankaj\",\n",
    "    \"city\": \"dehradun\",\n",
    "    \"designation\": \"accountant\",\n",
    "    \"salary\" : 50000,\n",
    "}\n",
    "emp.clear()\n",
    "print(emp)"
   ]
  },
  {
   "cell_type": "code",
   "execution_count": 34,
   "id": "f4fe232e-06fd-4a0e-a30b-b06d6b0f44f1",
   "metadata": {
    "collapsed": true,
    "jupyter": {
     "outputs_hidden": true,
     "source_hidden": true
    }
   },
   "outputs": [
    {
     "name": "stdout",
     "output_type": "stream",
     "text": [
      "{'id': 1, 'name': 'pankaj', 'city': 'dehradun', 'designation': 'accountant'}\n"
     ]
    }
   ],
   "source": [
    "# delete method. del is a operator not a fucntion, because we dont use parantheisis in it\n",
    "emp={\n",
    "    \"id\": 1,\n",
    "    \"name\": \"pankaj\",\n",
    "    \"city\": \"dehradun\",\n",
    "    \"designation\": \"accountant\",\n",
    "    \"salary\" : 50000  \n",
    "}\n",
    "del emp[\"salary\"]\n",
    "print(emp)"
   ]
  },
  {
   "cell_type": "code",
   "execution_count": 17,
   "id": "5b7ba5a9-2671-4237-b83a-79288ff9d3b4",
   "metadata": {
    "collapsed": true,
    "jupyter": {
     "outputs_hidden": true,
     "source_hidden": true
    }
   },
   "outputs": [
    {
     "name": "stdout",
     "output_type": "stream",
     "text": [
      "{'id': 1, 'name': 'pankaj', 'city': 'dehradun', 'designation': 'accountant'}\n"
     ]
    }
   ],
   "source": [
    "#  popitem method. remove last value\n",
    "emp={\n",
    "    \"id\": 1,\n",
    "    \"name\": \"pankaj\",\n",
    "    \"city\": \"dehradun\",\n",
    "    \"designation\": \"accountant\",\n",
    "    \"salary\" : 50000  \n",
    "}\n",
    "emp.popitem()\n",
    "print(emp)"
   ]
  },
  {
   "cell_type": "markdown",
   "id": "b804c8bc-e3e5-4b89-adaa-5610b1bd0eba",
   "metadata": {},
   "source": [
    "SET"
   ]
  },
  {
   "cell_type": "code",
   "execution_count": 18,
   "id": "23d52956-c717-46fc-bc4f-edac637663ee",
   "metadata": {
    "collapsed": true,
    "jupyter": {
     "outputs_hidden": true,
     "source_hidden": true
    }
   },
   "outputs": [
    {
     "name": "stdout",
     "output_type": "stream",
     "text": [
      "{'pankaj', 2, 3, 'abhishek', 5}\n",
      "<class 'set'>\n"
     ]
    }
   ],
   "source": [
    "# SET. set always display random values. it doesnt have index number so remove random value\n",
    "set1= {2,5,3,\"abhishek\",\"pankaj\",\"pankaj\",5}\n",
    "print(set1)\n",
    "print(type(set1))\n",
    "# print(set1[3])    it will show error becuase set dont have index number"
   ]
  },
  {
   "cell_type": "code",
   "execution_count": 24,
   "id": "ec125c5f-6945-4af0-94d9-68ab2ea62bed",
   "metadata": {
    "collapsed": true,
    "jupyter": {
     "outputs_hidden": true,
     "source_hidden": true
    }
   },
   "outputs": [
    {
     "name": "stdout",
     "output_type": "stream",
     "text": [
      "set()\n"
     ]
    }
   ],
   "source": [
    "# clear in SET\n",
    "set1= {2,5,3,\"abhishek\",\"pankaj\",\"pankaj\",5}\n",
    "set1.clear()\n",
    "print(set1)"
   ]
  },
  {
   "cell_type": "code",
   "execution_count": 26,
   "id": "9523dcf0-4e43-45f7-8919-12dd67f3f9fd",
   "metadata": {
    "collapsed": true,
    "jupyter": {
     "outputs_hidden": true,
     "source_hidden": true
    }
   },
   "outputs": [
    {
     "name": "stdout",
     "output_type": "stream",
     "text": [
      "{2, 4, 5, 'neha'}\n"
     ]
    }
   ],
   "source": [
    "# POP in SET.\n",
    "set={2,5,2,4,\"pankaj\",\"neha\"}\n",
    "set.pop()\n",
    "print(set)"
   ]
  },
  {
   "cell_type": "code",
   "execution_count": 23,
   "id": "7788eb46-44e6-4238-a3c6-0add4a96b66a",
   "metadata": {
    "collapsed": true,
    "jupyter": {
     "outputs_hidden": true,
     "source_hidden": true
    }
   },
   "outputs": [
    {
     "ename": "TypeError",
     "evalue": "set.pop() takes no arguments (1 given)",
     "output_type": "error",
     "traceback": [
      "\u001b[1;31m---------------------------------------------------------------------------\u001b[0m",
      "\u001b[1;31mTypeError\u001b[0m                                 Traceback (most recent call last)",
      "Cell \u001b[1;32mIn[23], line 3\u001b[0m\n\u001b[0;32m      1\u001b[0m \u001b[38;5;66;03m# pop with index number. give error, becuase set doesn't have index number\u001b[39;00m\n\u001b[0;32m      2\u001b[0m set1\u001b[38;5;241m=\u001b[39m {\u001b[38;5;241m2\u001b[39m,\u001b[38;5;241m5\u001b[39m,\u001b[38;5;241m3\u001b[39m,\u001b[38;5;124m\"\u001b[39m\u001b[38;5;124mabhishek\u001b[39m\u001b[38;5;124m\"\u001b[39m,\u001b[38;5;124m\"\u001b[39m\u001b[38;5;124mpankaj\u001b[39m\u001b[38;5;124m\"\u001b[39m,\u001b[38;5;124m\"\u001b[39m\u001b[38;5;124mpankaj\u001b[39m\u001b[38;5;124m\"\u001b[39m,\u001b[38;5;241m5\u001b[39m}\n\u001b[1;32m----> 3\u001b[0m set1\u001b[38;5;241m.\u001b[39mpop(\u001b[38;5;241m1\u001b[39m)\n\u001b[0;32m      4\u001b[0m \u001b[38;5;28mprint\u001b[39m(set1)\n",
      "\u001b[1;31mTypeError\u001b[0m: set.pop() takes no arguments (1 given)"
     ]
    }
   ],
   "source": [
    "# pop with index number. give error, becuase set doesn't have index number\n",
    "set1= {2,5,3,\"abhishek\",\"pankaj\",\"pankaj\",5}\n",
    "set1.pop(1)\n",
    "print(set1)"
   ]
  },
  {
   "cell_type": "code",
   "execution_count": 25,
   "id": "45bc1c18-59bf-468f-a723-83d6609b1258",
   "metadata": {
    "collapsed": true,
    "jupyter": {
     "outputs_hidden": true,
     "source_hidden": true
    }
   },
   "outputs": [
    {
     "name": "stdout",
     "output_type": "stream",
     "text": [
      "{'pankaj', 2, 3, 5}\n"
     ]
    }
   ],
   "source": [
    "# remove in SET. set only keep unique value and remove duplicate\n",
    "set1= {2,5,3,\"abhishek\",\"pankaj\",\"pankaj\",5}\n",
    "set1.remove(\"abhishek\")\n",
    "print(set1)"
   ]
  },
  {
   "cell_type": "code",
   "execution_count": 30,
   "id": "1da9f853-9137-40f3-a143-3c780fea5b17",
   "metadata": {
    "collapsed": true,
    "jupyter": {
     "outputs_hidden": true,
     "source_hidden": true
    }
   },
   "outputs": [
    {
     "name": "stdout",
     "output_type": "stream",
     "text": [
      "{1, 4, 7, 72, 9, 45}\n",
      "{45}\n"
     ]
    }
   ],
   "source": [
    "# SET union and intersection\n",
    "s1={1,4,7,45}  \n",
    "s2={72,45,9}\n",
    "print(s1.union(s2))           # all value without repeating\n",
    "print(s1.intersection(s2))    # common value in both"
   ]
  },
  {
   "cell_type": "markdown",
   "id": "e698d163-982d-4dfc-9667-3f03d1626267",
   "metadata": {},
   "source": [
    "IF-ELSE"
   ]
  },
  {
   "cell_type": "code",
   "execution_count": 37,
   "id": "623564e1-7e71-450a-b85a-90300c274dc1",
   "metadata": {
    "collapsed": true,
    "jupyter": {
     "outputs_hidden": true,
     "source_hidden": true
    }
   },
   "outputs": [
    {
     "name": "stdin",
     "output_type": "stream",
     "text": [
      "enter your age:  29\n"
     ]
    },
    {
     "name": "stdout",
     "output_type": "stream",
     "text": [
      "you can drive heavy vehicle\n"
     ]
    }
   ],
   "source": [
    "# if elif\n",
    "age = int(input(\"enter your age: \"))\n",
    "if age>25:\n",
    "    print(\"you can drive heavy vehicle\")\n",
    "elif age>18 and age<25:\n",
    "    print(\"you can drive light vehicle\")\n",
    "else:\n",
    "    print(\"you cannot drive\")"
   ]
  },
  {
   "cell_type": "code",
   "execution_count": 44,
   "id": "d4e1d8e3-880b-4d32-90c3-15c3deeca8aa",
   "metadata": {
    "collapsed": true,
    "jupyter": {
     "outputs_hidden": true,
     "source_hidden": true
    }
   },
   "outputs": [
    {
     "name": "stdin",
     "output_type": "stream",
     "text": [
      "enter number:  3\n",
      "enter number:  4\n",
      "enter number:  4\n"
     ]
    },
    {
     "name": "stdout",
     "output_type": "stream",
     "text": [
      "4 is greatest number among 3, 4 and 4\n"
     ]
    }
   ],
   "source": [
    "# greatest number among three\n",
    "n1 = int(input(\"enter number: \"))\n",
    "n2 = int(input(\"enter number: \"))\n",
    "n3 = int(input(\"enter number: \"))\n",
    "if (n1>n2 and n1>n3):\n",
    "    print(f\"{n1} is greatest number among {n1}, {n2} and {n3}\")\n",
    "elif (n2>n1 and n2>n3):\n",
    "    print(f\"{n2} is greatest number among {n1}, {n2} and {n3}\")\n",
    "else:\n",
    "    print(f\"{n3} is greatest number among {n1}, {n2} and {n3}\")\n",
    "\n",
    "\n",
    "# in case user gave same input for more than 1 value\n",
    "# Input four numbers from the user\n",
    "# n1 = int(input(\"Enter your number: \"))\n",
    "# n2 = int(input(\"Enter your number: \"))\n",
    "# n3 = int(input(\"Enter your number: \"))\n",
    "\n",
    "# # Use the max function to find the greatest number\n",
    "# greatest = max(n1, n2, n3)\n",
    "\n",
    "# print(\"The greatest number is\", greatest)"
   ]
  },
  {
   "cell_type": "code",
   "execution_count": 45,
   "id": "18fa32ac-5c22-4a53-a2b9-1d19d226fb0a",
   "metadata": {
    "collapsed": true,
    "jupyter": {
     "outputs_hidden": true,
     "source_hidden": true
    }
   },
   "outputs": [
    {
     "name": "stdin",
     "output_type": "stream",
     "text": [
      "enter number:  34\n",
      "enter number:  55\n",
      "enter number:  56\n"
     ]
    },
    {
     "name": "stdout",
     "output_type": "stream",
     "text": [
      "you passed\n"
     ]
    }
   ],
   "source": [
    "# take 3 marks input from user. 40% avg passing, 33% minimum individually\n",
    "n1 = int(input(\"enter number: \"))\n",
    "n2 = int(input(\"enter number: \"))\n",
    "n3 = int(input(\"enter number: \"))\n",
    "avg = (n1 + n2 + n3)/3\n",
    "if (n1>=33 and n2>=33 and n3>=33 and avg>=40):\n",
    "    print(\"you passed\")\n",
    "else:\n",
    "    print(\"you failed\")"
   ]
  },
  {
   "cell_type": "code",
   "execution_count": 49,
   "id": "5302d4d8-a96b-4409-984c-00b0990b83df",
   "metadata": {
    "collapsed": true,
    "jupyter": {
     "outputs_hidden": true,
     "source_hidden": true
    }
   },
   "outputs": [
    {
     "name": "stdin",
     "output_type": "stream",
     "text": [
      "enter your message here:  click here to become rich\n"
     ]
    },
    {
     "name": "stdout",
     "output_type": "stream",
     "text": [
      "this is a spam\n"
     ]
    }
   ],
   "source": [
    "# SPAM filter\n",
    "s1 = \"make money easily\"\n",
    "s2 = \"make quick money\"\n",
    "s3 = \"become rich\"\n",
    "msg = input(\"enter your message here: \")\n",
    "if ((s1 in msg) or (s2 in msg) or (s3 in msg)):\n",
    "    print(\"this is a spam\")\n",
    "else:\n",
    "    print(\"this is not a spam\")"
   ]
  },
  {
   "cell_type": "code",
   "execution_count": null,
   "id": "822fa1b4-8362-48af-8e3a-1c651c5aecf3",
   "metadata": {
    "collapsed": true,
    "jupyter": {
     "outputs_hidden": true,
     "source_hidden": true
    }
   },
   "outputs": [],
   "source": [
    "#  to check if your name is in the list.\n",
    "list= [\"abhishek\",\"rahul\",\"rohit\",\"pankaj\"]\n",
    "name=input(\"enter your name: \")\n",
    "if (name in list):\n",
    "    print(\"your name is in list\")\n",
    "else:\n",
    "    print(\"your name is not in list\")"
   ]
  },
  {
   "cell_type": "markdown",
   "id": "9ce65b82-920f-4f44-97cf-d65c34c861eb",
   "metadata": {},
   "source": [
    "FOR AND WHILE LOOPS"
   ]
  },
  {
   "cell_type": "code",
   "execution_count": 4,
   "id": "d99c37ad-f604-41d0-911e-c06574bf2eb7",
   "metadata": {
    "collapsed": true,
    "jupyter": {
     "outputs_hidden": true,
     "source_hidden": true
    }
   },
   "outputs": [],
   "source": [
    "# for and while do same job but in different way.\n",
    "# Use a for loop when you have a specific range or sequence to iterate over.\n",
    "# Use a while loop when the number of iterations is not known beforehand and depends on a condition being met."
   ]
  },
  {
   "cell_type": "code",
   "execution_count": 1,
   "id": "01ab7f77-5d7c-4791-b042-96dfb7333068",
   "metadata": {
    "collapsed": true,
    "jupyter": {
     "outputs_hidden": true,
     "source_hidden": true
    }
   },
   "outputs": [
    {
     "name": "stdout",
     "output_type": "stream",
     "text": [
      "1\n",
      "2\n",
      "3\n",
      "4\n",
      "5\n"
     ]
    }
   ],
   "source": [
    "# for loop\n",
    "for i in range(1,6):\n",
    "    print(i)"
   ]
  },
  {
   "cell_type": "code",
   "execution_count": 8,
   "id": "3ca4181f-d5a8-487e-9036-9f108aac66fd",
   "metadata": {
    "collapsed": true,
    "jupyter": {
     "outputs_hidden": true,
     "source_hidden": true
    }
   },
   "outputs": [
    {
     "name": "stdout",
     "output_type": "stream",
     "text": [
      "1\n",
      "2\n",
      "3\n",
      "4\n",
      "5\n"
     ]
    }
   ],
   "source": [
    "# while loop\n",
    "i=1\n",
    "while i<6:\n",
    "    print(i)\n",
    "    i+=1"
   ]
  },
  {
   "cell_type": "code",
   "execution_count": 14,
   "id": "aab2b1d1-b12f-4543-9e8e-9c99aacdc117",
   "metadata": {
    "collapsed": true,
    "jupyter": {
     "outputs_hidden": true,
     "source_hidden": true
    }
   },
   "outputs": [
    {
     "name": "stdout",
     "output_type": "stream",
     "text": [
      "abhishek\n",
      "abhishek\n",
      "abhishek\n"
     ]
    }
   ],
   "source": [
    "# print name multiple time using for loop\n",
    "name=\"abhishek\"\n",
    "for i in range(3):\n",
    "    print(name)"
   ]
  },
  {
   "cell_type": "code",
   "execution_count": 23,
   "id": "a8fec256-24fe-4164-8e42-5ff804c7978a",
   "metadata": {
    "collapsed": true,
    "jupyter": {
     "outputs_hidden": true,
     "source_hidden": true
    }
   },
   "outputs": [
    {
     "name": "stdout",
     "output_type": "stream",
     "text": [
      "abhishek\n",
      "abhishek\n",
      "abhishek\n"
     ]
    }
   ],
   "source": [
    "# print name multiple time using while loop\n",
    "i=0\n",
    "while i<3:\n",
    "    print(\"abhishek\")\n",
    "    i+=1"
   ]
  },
  {
   "cell_type": "code",
   "execution_count": 15,
   "id": "ea2c2a62-cc7a-4a82-a7a1-5caf9ec78660",
   "metadata": {
    "collapsed": true,
    "jupyter": {
     "outputs_hidden": true,
     "source_hidden": true
    }
   },
   "outputs": [
    {
     "name": "stdout",
     "output_type": "stream",
     "text": [
      "abhishek abhishek abhishek \n"
     ]
    }
   ],
   "source": [
    "# print name multiple time in same line without using for loop\n",
    "print(\"abhishek \" * 3)"
   ]
  },
  {
   "cell_type": "code",
   "execution_count": 18,
   "id": "5a722b15-8ed9-4db8-85a4-e1eb33ef2770",
   "metadata": {
    "collapsed": true,
    "jupyter": {
     "outputs_hidden": true,
     "source_hidden": true
    }
   },
   "outputs": [
    {
     "name": "stdout",
     "output_type": "stream",
     "text": [
      "\n",
      " abhishek\n",
      " abhishek\n",
      " abhishek\n"
     ]
    }
   ],
   "source": [
    "# print name mulitple time without loop\n",
    "print(\"\\n abhishek\" * 3)"
   ]
  },
  {
   "cell_type": "code",
   "execution_count": 20,
   "id": "b67edb15-281e-4cef-a16c-c3e31b348c64",
   "metadata": {
    "collapsed": true,
    "jupyter": {
     "outputs_hidden": true,
     "source_hidden": true
    }
   },
   "outputs": [
    {
     "name": "stdout",
     "output_type": "stream",
     "text": [
      "\n",
      " 5\n",
      " 5\n",
      " 5\n"
     ]
    }
   ],
   "source": [
    "# display number without loop\n",
    "print(\"\\n 5\" * 3)"
   ]
  },
  {
   "cell_type": "code",
   "execution_count": 28,
   "id": "b548ef73-29b9-433d-be9f-12743b19e971",
   "metadata": {
    "collapsed": true,
    "jupyter": {
     "outputs_hidden": true,
     "source_hidden": true
    }
   },
   "outputs": [
    {
     "name": "stdout",
     "output_type": "stream",
     "text": [
      "abhishek\n",
      "32\n",
      "False\n",
      "pankaj\n"
     ]
    }
   ],
   "source": [
    "# print list using for loop\n",
    "list= [\"abhishek\", 32, False, \"pankaj\"]\n",
    "for i in list:\n",
    "    print(i)"
   ]
  },
  {
   "cell_type": "code",
   "execution_count": 29,
   "id": "99f58215-b179-46a1-ae88-9e3770553931",
   "metadata": {
    "collapsed": true,
    "jupyter": {
     "outputs_hidden": true,
     "source_hidden": true
    }
   },
   "outputs": [
    {
     "name": "stdout",
     "output_type": "stream",
     "text": [
      "abhishek\n",
      "32\n",
      "False\n",
      "pankaj\n"
     ]
    }
   ],
   "source": [
    "# print list using while loop\n",
    "list= [\"abhishek\", 32, False, \"pankaj\"]\n",
    "i=0\n",
    "while i <len(list):\n",
    "    print(list[i])\n",
    "    i+=1"
   ]
  },
  {
   "cell_type": "code",
   "execution_count": 33,
   "id": "1c92671d-9232-409d-99b6-5e197633d5ed",
   "metadata": {
    "collapsed": true,
    "jupyter": {
     "outputs_hidden": true,
     "source_hidden": true
    }
   },
   "outputs": [
    {
     "name": "stdout",
     "output_type": "stream",
     "text": [
      "1\n",
      "2\n",
      "3\n",
      "4\n",
      "5\n",
      "this is for loop with else\n",
      "1\n",
      "2\n",
      "3\n",
      "4\n",
      "5\n",
      "this is while loop with else\n"
     ]
    }
   ],
   "source": [
    "# for and while loop with else\n",
    "for i in range(1,6):\n",
    "    print(i)\n",
    "else:\n",
    "    print(\"this is for loop with else\")\n",
    "\n",
    "i=1\n",
    "while i<6:\n",
    "    print(i)\n",
    "    i+=1\n",
    "else:\n",
    "    print(\"this is while loop with else\")"
   ]
  },
  {
   "cell_type": "code",
   "execution_count": 39,
   "id": "541b71d7-f3a8-4f56-8e4c-4e3b6293c9f8",
   "metadata": {
    "collapsed": true,
    "jupyter": {
     "outputs_hidden": true,
     "source_hidden": true
    }
   },
   "outputs": [
    {
     "name": "stdout",
     "output_type": "stream",
     "text": [
      "0\n",
      "1\n",
      "2\n",
      "3\n"
     ]
    }
   ],
   "source": [
    "# break. it will exit the loop when condition match\n",
    "for i in range(10):\n",
    "    if i==4:\n",
    "        break\n",
    "    print(i)"
   ]
  },
  {
   "cell_type": "code",
   "execution_count": 37,
   "id": "308ad3dd-7b03-497e-9785-715aafccc790",
   "metadata": {
    "collapsed": true,
    "jupyter": {
     "outputs_hidden": true,
     "source_hidden": true
    }
   },
   "outputs": [
    {
     "name": "stdout",
     "output_type": "stream",
     "text": [
      "0\n",
      "1\n",
      "2\n",
      "4\n",
      "5\n"
     ]
    }
   ],
   "source": [
    "# continue. it will skip matching part and execute the rest\n",
    "for i in range(6):\n",
    "    if i==3:\n",
    "        continue\n",
    "    print(i)"
   ]
  },
  {
   "cell_type": "code",
   "execution_count": 42,
   "id": "d975d45c-0ce1-4655-80b1-96c994ec262d",
   "metadata": {
    "collapsed": true,
    "jupyter": {
     "outputs_hidden": true,
     "source_hidden": true
    }
   },
   "outputs": [
    {
     "name": "stdout",
     "output_type": "stream",
     "text": [
      "0\n",
      "1\n",
      "2\n",
      "3\n",
      "4\n"
     ]
    }
   ],
   "source": [
    "# PASS. its a null statement. it tell program to do nothing. when you want to leave the part for later\n",
    "for i in range(10):\n",
    "    pass    # without this, it will throw error.\n",
    "\n",
    "for j in range(5):\n",
    "    print(j)\n",
    "    j+=1"
   ]
  },
  {
   "cell_type": "code",
   "execution_count": 50,
   "id": "11354b26-d109-4aec-a571-4cd649c9bca6",
   "metadata": {
    "collapsed": true,
    "jupyter": {
     "outputs_hidden": true,
     "source_hidden": true
    }
   },
   "outputs": [
    {
     "name": "stdin",
     "output_type": "stream",
     "text": [
      "enter the number:  4\n"
     ]
    },
    {
     "name": "stdout",
     "output_type": "stream",
     "text": [
      "4 * 1 is 4\n",
      "4 * 2 is 8\n",
      "4 * 3 is 12\n",
      "4 * 4 is 16\n",
      "4 * 5 is 20\n",
      "4 * 6 is 24\n",
      "4 * 7 is 28\n",
      "4 * 8 is 32\n",
      "4 * 9 is 36\n",
      "4 * 10 is 40\n"
     ]
    }
   ],
   "source": [
    "# mulitple table using for loop\n",
    "n=int(input(\"enter the number: \"))\n",
    "for i in range(1, 11):\n",
    "    print(f\"{n} * {i} is {n*i}\")"
   ]
  },
  {
   "cell_type": "code",
   "execution_count": 51,
   "id": "4711d412-c34c-46c9-b4e2-6f8357def7e1",
   "metadata": {
    "collapsed": true,
    "jupyter": {
     "outputs_hidden": true,
     "source_hidden": true
    }
   },
   "outputs": [
    {
     "name": "stdin",
     "output_type": "stream",
     "text": [
      "enter the number:  4\n"
     ]
    },
    {
     "name": "stdout",
     "output_type": "stream",
     "text": [
      "4 * 1 is 4\n",
      "4 * 2 is 8\n",
      "4 * 3 is 12\n",
      "4 * 4 is 16\n",
      "4 * 5 is 20\n",
      "4 * 6 is 24\n",
      "4 * 7 is 28\n",
      "4 * 8 is 32\n",
      "4 * 9 is 36\n",
      "4 * 10 is 40\n"
     ]
    }
   ],
   "source": [
    "# table using while loop\n",
    "n=int(input(\"enter the number: \"))\n",
    "i=1\n",
    "while i<=10:\n",
    "    print(f\"{n} * {i} is {n*i}\")\n",
    "    i+=1"
   ]
  },
  {
   "cell_type": "code",
   "execution_count": 54,
   "id": "0ca458b6-2fc8-4097-903d-f4f2c9dcd895",
   "metadata": {
    "collapsed": true,
    "jupyter": {
     "outputs_hidden": true,
     "source_hidden": true
    }
   },
   "outputs": [
    {
     "name": "stdin",
     "output_type": "stream",
     "text": [
      "enter your number:  4\n"
     ]
    },
    {
     "name": "stdout",
     "output_type": "stream",
     "text": [
      "10\n"
     ]
    }
   ],
   "source": [
    "# find sum of first n natural number using while loop. sum start with 0, because we are adding\n",
    "n=int(input(\"enter your number: \"))\n",
    "i=1\n",
    "sum=0\n",
    "while i<=n:\n",
    "    sum+=i\n",
    "    i+=1\n",
    "print(sum)"
   ]
  },
  {
   "cell_type": "code",
   "execution_count": 56,
   "id": "03121fe1-60ec-40f2-bb6c-3e81cd1c49f9",
   "metadata": {
    "collapsed": true,
    "jupyter": {
     "outputs_hidden": true,
     "source_hidden": true
    }
   },
   "outputs": [
    {
     "name": "stdin",
     "output_type": "stream",
     "text": [
      "enter the number:  5\n"
     ]
    },
    {
     "name": "stdout",
     "output_type": "stream",
     "text": [
      "120\n"
     ]
    }
   ],
   "source": [
    "#  factorial of a number using for loop. product start with 1 because we are mulitplying. 5= 1*2*3*4*5\n",
    "n=int(input(\"enter the number: \"))\n",
    "factorial = 1\n",
    "for i in range (1, n+1):\n",
    "    factorial = factorial * i\n",
    "print(factorial)"
   ]
  },
  {
   "cell_type": "markdown",
   "id": "25d1ff0e-f55f-49c0-9159-cd8ee840b6f9",
   "metadata": {},
   "source": [
    "FUNCTION"
   ]
  },
  {
   "cell_type": "code",
   "execution_count": 16,
   "id": "65d550e2-9bfc-4a89-a55c-2a54eb6b9346",
   "metadata": {
    "collapsed": true,
    "jupyter": {
     "outputs_hidden": true,
     "source_hidden": true
    }
   },
   "outputs": [
    {
     "name": "stdin",
     "output_type": "stream",
     "text": [
      "enter your name:  abhishek\n"
     ]
    },
    {
     "name": "stdout",
     "output_type": "stream",
     "text": [
      "hello abhishek, good morning\n"
     ]
    }
   ],
   "source": [
    "# greet user with their name and good morning\n",
    "def greet():\n",
    "    name = input(\"enter your name: \")\n",
    "    print(f\"hello {name}, good morning\")\n",
    "greet()"
   ]
  },
  {
   "cell_type": "code",
   "execution_count": 17,
   "id": "09b52fd5-3a40-4812-a157-4c90f8741db4",
   "metadata": {
    "collapsed": true,
    "jupyter": {
     "outputs_hidden": true,
     "source_hidden": true
    }
   },
   "outputs": [
    {
     "name": "stdin",
     "output_type": "stream",
     "text": [
      "enter first number:  2\n",
      "enter second number  3\n"
     ]
    },
    {
     "data": {
      "text/plain": [
       "5"
      ]
     },
     "execution_count": 17,
     "metadata": {},
     "output_type": "execute_result"
    }
   ],
   "source": [
    "# funtion without argument\n",
    "def add():\n",
    "    n1=int(input(\"enter first number: \"))\n",
    "    n2=int(input(\"enter second number \"))\n",
    "    sum = n1 +n2\n",
    "    return sum\n",
    "add()"
   ]
  },
  {
   "cell_type": "code",
   "execution_count": 20,
   "id": "bc9e6cda-3dd0-4cb9-ad45-07968897c91d",
   "metadata": {
    "collapsed": true,
    "jupyter": {
     "outputs_hidden": true,
     "source_hidden": true
    }
   },
   "outputs": [
    {
     "name": "stdout",
     "output_type": "stream",
     "text": [
      "good day abhishek\n",
      "good day pankaj\n"
     ]
    }
   ],
   "source": [
    "# funtion with single argument\n",
    "def greet(name):\n",
    "    print(f\"good day {name}\")\n",
    "greet(\"abhishek\")\n",
    "greet(\"pankaj\")"
   ]
  },
  {
   "cell_type": "code",
   "execution_count": 29,
   "id": "3ea9a46e-16d2-42b2-bdc4-2853355642a4",
   "metadata": {
    "collapsed": true,
    "jupyter": {
     "outputs_hidden": true,
     "source_hidden": true
    }
   },
   "outputs": [
    {
     "name": "stdout",
     "output_type": "stream",
     "text": [
      "good evening abhishek\n",
      "thanks\n",
      "good evening pankaj\n",
      "thank you\n"
     ]
    }
   ],
   "source": [
    "#  funtion with double arguemnt\n",
    "def greet(name, ending):\n",
    "    print(f\"good evening {name}\") \n",
    "    print(ending)\n",
    "greet(\"abhishek\",\"thanks\")\n",
    "greet(\"pankaj\",\"thank you\")\n",
    "\n",
    "# can be written insde single print \n",
    "# print(f\"Good evening {name} {ending}\")\n",
    "# print(f\"Good evening {name}\", ending)"
   ]
  },
  {
   "cell_type": "code",
   "execution_count": 19,
   "id": "138c12ee-18fd-4d44-aa59-1d89b8f6d475",
   "metadata": {
    "collapsed": true,
    "jupyter": {
     "outputs_hidden": true,
     "source_hidden": true
    }
   },
   "outputs": [
    {
     "name": "stdout",
     "output_type": "stream",
     "text": [
      "good morning abhishek\n",
      "you live in delhi\n",
      "good morning pankaj\n",
      "you live in pune\n"
     ]
    }
   ],
   "source": [
    "# default vlue\n",
    "def greet(name, city=\"pune\"):\n",
    "    print(f\"good morning {name}\")\n",
    "    print(f\"you live in {city}\")\n",
    "greet(\"abhishek\",\"delhi\")\n",
    "greet(\"pankaj\")"
   ]
  },
  {
   "cell_type": "code",
   "execution_count": 20,
   "id": "7890f761-f85d-4708-8564-631e0d24a731",
   "metadata": {
    "collapsed": true,
    "jupyter": {
     "outputs_hidden": true,
     "source_hidden": true
    }
   },
   "outputs": [
    {
     "name": "stdin",
     "output_type": "stream",
     "text": [
      "enter number:  4\n"
     ]
    },
    {
     "name": "stdout",
     "output_type": "stream",
     "text": [
      "factorial of 4 is 24\n"
     ]
    }
   ],
   "source": [
    "# FACTORIAL\n",
    "''' Recursion is a function which call itself\n",
    "factorial(0) = 1\n",
    "factorial(1) = 1\n",
    "factorial(2) = 2 * 1\n",
    "factorial(3) = 3 * 2 * 1\n",
    "factorial(4) = 4 * 3 * 2 * 1\n",
    "factorial(5) = 5 * 4 * 3 * 2 * 1\n",
    "factorial(n) = n * n-1 *........3 * 2 * 1\n",
    "\n",
    "factorial(n) = n * factorial(n-1)'''\n",
    "\n",
    "def factorial(n):\n",
    "    if n==1 or n==0:\n",
    "        return 1\n",
    "    return n * factorial(n-1)\n",
    "\n",
    "n = int(input(\"enter number: \"))\n",
    "print(f\"factorial of {n} is {factorial(n)}\")"
   ]
  },
  {
   "cell_type": "code",
   "execution_count": 17,
   "id": "76ebbef7-f63a-466c-acb1-6ca12d49ba98",
   "metadata": {
    "collapsed": true,
    "jupyter": {
     "outputs_hidden": true,
     "source_hidden": true
    }
   },
   "outputs": [
    {
     "name": "stdout",
     "output_type": "stream",
     "text": [
      "21\n"
     ]
    }
   ],
   "source": [
    "# recursive function to calculate sum of n natural number\n",
    "'''\n",
    "sum(1) = 1\n",
    "sum(2) = 1 + 2\n",
    "sum(3) = 1 + 2 + 3\n",
    "sum(n) = 1 + 2 + 3......n\n",
    "sum(n) = 1 + 2 + 3.......n-1 + n \n",
    "sum(n) = sum(n-1) + n\n",
    "'''\n",
    "def sum(n):\n",
    "    if n==1:\n",
    "        return 1\n",
    "    return sum(n-1) + n \n",
    "print(sum(6))"
   ]
  },
  {
   "cell_type": "code",
   "execution_count": 12,
   "id": "c251ecc2-291d-49ba-99b9-37ba363b9d39",
   "metadata": {
    "collapsed": true,
    "jupyter": {
     "outputs_hidden": true,
     "source_hidden": true
    },
    "scrolled": true
   },
   "outputs": [
    {
     "name": "stdin",
     "output_type": "stream",
     "text": [
      "enter number:  3\n",
      "enter number:  5\n",
      "enter number:  7\n"
     ]
    },
    {
     "name": "stdout",
     "output_type": "stream",
     "text": [
      "7\n"
     ]
    }
   ],
   "source": [
    "# Maximum num using fucntion\n",
    "def max(a,b,c):\n",
    "    if a>b and a>c:\n",
    "        return a\n",
    "    if b>a and b>c:\n",
    "        return b\n",
    "    if c>a and c>b:\n",
    "        return c\n",
    "\n",
    "a =int(input(\"enter number: \"))\n",
    "b =int(input(\"enter number: \"))\n",
    "c =int(input(\"enter number: \"))\n",
    "print(max(a,b,c))"
   ]
  },
  {
   "cell_type": "code",
   "execution_count": 14,
   "id": "125b8afd-4a21-4b4e-9685-10c6cb7d5d2a",
   "metadata": {
    "collapsed": true,
    "jupyter": {
     "outputs_hidden": true,
     "source_hidden": true
    }
   },
   "outputs": [
    {
     "name": "stdin",
     "output_type": "stream",
     "text": [
      "enter temp in farenhite:  4\n"
     ]
    },
    {
     "name": "stdout",
     "output_type": "stream",
     "text": [
      "-15.555555555555555\n"
     ]
    }
   ],
   "source": [
    "# Convert farenhinte to celsius\n",
    "f=int(input(\"enter temp in farenhite: \"))\n",
    "c= 5 * (f-32)/9\n",
    "print(c)   "
   ]
  },
  {
   "cell_type": "code",
   "execution_count": null,
   "id": "00b953e6-55af-4dc4-af2b-ae5cad4043e8",
   "metadata": {
    "collapsed": true,
    "jupyter": {
     "outputs_hidden": true,
     "source_hidden": true
    }
   },
   "outputs": [],
   "source": [
    "# convert farenhinte to celsius using function\n",
    "def temp(f):\n",
    "    return 5*(f-32)/9\n",
    "    # return round(5*(f-32)/9,2)         # to give round of figure till 2 after decimal\n",
    "f=int(input(\"enter temperature in farenhite: \"))\n",
    "print(temp(f))\n",
    "# print(round(temp(f),2))                # to give round of figure till 2 after decimal"
   ]
  },
  {
   "cell_type": "markdown",
   "id": "debc448f-fff3-474d-b0a2-c69a29041ab1",
   "metadata": {},
   "source": [
    "OOPS"
   ]
  },
  {
   "cell_type": "code",
   "execution_count": null,
   "id": "0b5652bc-46c4-413c-92a7-e6155a9c767c",
   "metadata": {
    "collapsed": true,
    "jupyter": {
     "outputs_hidden": true,
     "source_hidden": true
    }
   },
   "outputs": [],
   "source": [
    "''' OOPS (object oriented programming system)\n",
    "\n",
    "1. CLASS is a blueprint for creating objects like placeholder.\n",
    "    class Employee:\n",
    "    # Methods & Variables \n",
    "\n",
    "2. OBJECT is a instance of class.\n",
    "    There are 3 property for objects:\n",
    "    a. State - The attributes of the object.\n",
    "    b. Behavior: The methods of the object.\n",
    "    c. Identity: A unique identifier for the object.\n",
    "\n",
    "3. Self Parameter: Refers to the instance of the class.\n",
    "    harry.getSalary() # here self is harry. it is equivalent to Employee.getSalary(harry)\n",
    "\n",
    "4. STATIC METHOD: A method that does not use the self parameter.\n",
    "    @staticmethod   # decorator to mark greet as a static method\n",
    "    def greet():\n",
    "    print(\"Hello user\")\n",
    "\n",
    "5. init() Constructor: A special method that is run as soon as the object is created.\n",
    "    class Employee:\n",
    "        def __init__(self, name):\n",
    "            self.name = name\n",
    "    \n",
    "        def getSalary(self):\n",
    "            pass\n",
    "\n",
    "    harry = Employee(\"Harry\")\n",
    "\n",
    "6. PILLARS OF OOPS-\n",
    "   1. Polymorphism, 2. Inheritance, 3. Abstraction, 4. Encapsulation.\n",
    "\n",
    "6.1. Polymorphism: Many forms.\n",
    "    A) Function Overloading (Static): Functions with the same name but different parameters.\n",
    "    def abhi(a, b):\n",
    "        print(\"Function with two parameters\")\n",
    "    \n",
    "    def abhi(a, b, c):\n",
    "        print(\"Function with three parameters\")\n",
    "    \n",
    "    B) Function Overriding (Dynamic): A child class provides its own version of a method that is already defined in its parent class.\n",
    "    class Animal:\n",
    "        def speak(self):\n",
    "            return \"Some sound\"\n",
    "    \n",
    "    class Dog(Animal):\n",
    "        def speak(self):\n",
    "            return \"Woof\"\n",
    "    \n",
    "    class Cat(Animal):\n",
    "        def speak(self):\n",
    "            return \"Meow\"\n",
    "\n",
    "    ADVANTAGES: Flexibility, Reusability, Simplified Code, Improved Maintainability\n",
    "\n",
    "6.2. INHERITANCE: is a way of creating a new class from existing class.\n",
    "     a) Parent class  (super or base class)\n",
    "     b) Child class   (sub or derived class)\n",
    "\n",
    "    class Employee:      #parent class\n",
    "        # code\n",
    "    class Programmer (Employee):         #child class\n",
    "        # code\n",
    "    \n",
    "  Types of inheritance:\n",
    "  a. Single level: one class inherits from one base class. \n",
    "  b. Multiple level: one class inherits from mulitple base classes.\n",
    "  c. Mulit level: one class is dereived from another class, which is also derived from another class.\n",
    "  d. Hieracrhical level: mulitple classes inherit from the same base class.\n",
    "  e. Hybrid level: a combination of different types of inheritance.\n",
    "\n",
    "  Advantage of Inheritance - Enhance Code reusability, Hierarchical Organization, Ease of Maintenance, Extensibility.\n",
    "  \n",
    "\n",
    "6.3. ABSTRACTION: Hiding the complex details and showing only the necessary parts.\n",
    "    from abc import ABC, abstractmethod\n",
    "    \n",
    "    class Vehicle(ABC):\n",
    "        @abstractmethod\n",
    "        def start(self):\n",
    "            pass\n",
    "    \n",
    "    class Car(Vehicle):\n",
    "        def start(self):\n",
    "            print(\"Car started\")\n",
    "    \n",
    "    class Motorcycle(Vehicle):\n",
    "        def start(self):\n",
    "            print(\"Motorcycle started\")\n",
    "    \n",
    "    # Usage\n",
    "    vehicles = [Car(), Motorcycle()]\n",
    "    for v in vehicles:\n",
    "        v.start()\n",
    "\n",
    "    ADVANTAGES: Simplified Interface, Improved Focus, Easier Maintenance and Enhancement, Enhanced Design\n",
    "\n",
    "      \n",
    "6.4. ENCAPSULATION: Not showing essential things. it is about bundling the data and methods that\n",
    "     operate on that data into a single unit (a class) and controlling access to that data.\n",
    "    class BankAccount:\n",
    "        def __init__(self, balance=0):\n",
    "            self.__balance = balance\n",
    "    \n",
    "        def deposit(self, amount):\n",
    "            if amount > 0:\n",
    "                self.__balance += amount\n",
    "    \n",
    "        def withdraw(self, amount):\n",
    "            if 0 < amount <= self.__balance:\n",
    "                self.__balance -= amount\n",
    "    \n",
    "        def get_balance(self):\n",
    "            return self.__balance\n",
    "    \n",
    "    # Usage\n",
    "    account = BankAccount(100)\n",
    "    account.deposit(50)\n",
    "    account.withdraw(30)\n",
    "    print(account.get_balance())  # Output: 120\n",
    "\n",
    "    ADVANATGES: Controlled Access, Improved Security, Ease of Maintenance.\n",
    "\n",
    "\n",
    "7. SUPER METHOD: used to access the method of a super class in the derived class.\n",
    "    super().__init__()\n",
    "    # __init__() Calls constructor of the base class\n",
    "\n",
    "8. CLASS METHOD: A method which is bound to the class and not the object of the class.\n",
    "   @classmethod\n",
    "   def (cls, p1, p2):\n",
    "\n",
    "9. GETTERS AND @.SETTERS\n",
    "   class Employee:\n",
    "    def __init__(self, name):\n",
    "        self._name = name\n",
    "\n",
    "    @property\n",
    "    def name(self):\n",
    "        return self._name\n",
    "\n",
    "    @name.setter\n",
    "    def name(self, value):\n",
    "        self._name = value\n",
    "'''"
   ]
  },
  {
   "cell_type": "code",
   "execution_count": 9,
   "id": "8fd013a8-63da-4ee1-b0f0-f7dbb264ce1e",
   "metadata": {
    "collapsed": true,
    "jupyter": {
     "outputs_hidden": true,
     "source_hidden": true
    }
   },
   "outputs": [
    {
     "name": "stdout",
     "output_type": "stream",
     "text": [
      "abhishek 50000 python\n",
      "pankaj 65000 java\n"
     ]
    }
   ],
   "source": [
    "# create a class \"Programmer\" for storing info of employee working at Microsoft\n",
    "class Programmer:\n",
    "    company = \"Microsoft\"\n",
    "    def __init__(self, name, salary, language):\n",
    "        self.name = name\n",
    "        self.salary = salary\n",
    "        self.language = language\n",
    "\n",
    "p = Programmer (\"abhishek\", 50000, \"python\")\n",
    "print(p.name, p.salary, p.language)\n",
    "\n",
    "p2 = Programmer (\"pankaj\", 65000, \"java\")\n",
    "print(p2.name, p2.salary, p2.language)\n",
    "        "
   ]
  },
  {
   "cell_type": "code",
   "execution_count": 16,
   "id": "d77a3960-9f51-4421-a0a6-578d2d6e7f88",
   "metadata": {
    "collapsed": true,
    "jupyter": {
     "outputs_hidden": true,
     "source_hidden": true
    }
   },
   "outputs": [
    {
     "name": "stdout",
     "output_type": "stream",
     "text": [
      " the square of 4 is 16\n",
      " the cube of 4 is 64\n",
      " the squareroot of 4 is 2.0\n"
     ]
    }
   ],
   "source": [
    "# write a class \"calculator\" capable of finding square, cube and square root of a number\n",
    "class calculator:\n",
    "    def __init__(self, n):\n",
    "        self.n = n\n",
    "        \n",
    "    def square(self):\n",
    "        print(f\" the square of {self.n} is {self.n * self.n}\")\n",
    "\n",
    "    def cube(self):\n",
    "        print(f\" the cube of {self.n} is {self.n * self.n * self.n }\")\n",
    "\n",
    "    def squareroot(self):\n",
    "        print(f\" the squareroot of {self.n} is {self.n ** 0.5}\")\n",
    "\n",
    "a = calculator(4)\n",
    "a.square()\n",
    "a.cube()\n",
    "a.squareroot()"
   ]
  },
  {
   "cell_type": "markdown",
   "id": "e305773d-2713-4957-b5c5-44efa721669a",
   "metadata": {},
   "source": [
    "FILE HANDLING"
   ]
  },
  {
   "cell_type": "code",
   "execution_count": null,
   "id": "5ea12f82-44fd-427f-b757-b2495ec63c38",
   "metadata": {
    "collapsed": true,
    "jupyter": {
     "outputs_hidden": true,
     "source_hidden": true
    }
   },
   "outputs": [],
   "source": [
    "# FILE HANDLING\n",
    "# 2 types of file mode - 1) R (to read file) and 2) W (to write file). \n",
    "# to read single line you have to use readline function()\n",
    "# to read the mulitline you have to use read function()\n",
    "# to open the file you have to use open funtion()\n",
    "# to close the file you have to use close funtion()\n",
    "# to read the file you have to use read function() \n",
    "# to write the file you have to use write function()\n"
   ]
  },
  {
   "cell_type": "code",
   "execution_count": 2,
   "id": "5978aab1-e212-4d3c-ae47-7d7671863e58",
   "metadata": {
    "collapsed": true,
    "jupyter": {
     "outputs_hidden": true,
     "source_hidden": true
    }
   },
   "outputs": [],
   "source": [
    "# IMPORT FILE HANDLING. python file handling\n",
    "# go to upload new file -> upload \"python file handling\" file \n",
    "# another method to open and read the file.\n",
    "# fh = file handling\n",
    "# fh = open(\"E:\\IBM-DATA SCIENCE\\4 python for ai\\file handling.txt\")\n",
    "# print(fh.readline())"
   ]
  },
  {
   "cell_type": "code",
   "execution_count": 20,
   "id": "173c6de8-c57d-429b-ba37-b79ac589ad2a",
   "metadata": {
    "collapsed": true,
    "jupyter": {
     "outputs_hidden": true,
     "source_hidden": true
    }
   },
   "outputs": [
    {
     "name": "stdout",
     "output_type": "stream",
     "text": [
      "77\n",
      "\n",
      "\n"
     ]
    }
   ],
   "source": [
    "# readline(). it show single line at a time.\n",
    "# after uploading file in juypter, you dont have to enter whole address.\n",
    "fh = open(\"file handling.txt\")\n",
    "print(fh.readline())\n",
    "print(fh.readline())\n",
    "print(fh.readline())"
   ]
  },
  {
   "cell_type": "code",
   "execution_count": 8,
   "id": "f1c5503c-d9d7-45bd-8e64-40fb85c6362e",
   "metadata": {
    "collapsed": true,
    "jupyter": {
     "outputs_hidden": true,
     "source_hidden": true
    }
   },
   "outputs": [
    {
     "name": "stdout",
     "output_type": "stream",
     "text": [
      "this file is created for doing file handling operation.\n",
      "this is python language\n",
      "my name is abhishek uniyal\n"
     ]
    }
   ],
   "source": [
    "# read(). it show multiple lines\n",
    "fh = open(\"file handling.txt\")\n",
    "print(fh.read())"
   ]
  },
  {
   "cell_type": "code",
   "execution_count": 16,
   "id": "2e66cfe0-388d-4c76-b035-90892c00151f",
   "metadata": {
    "collapsed": true,
    "jupyter": {
     "outputs_hidden": true,
     "source_hidden": true
    }
   },
   "outputs": [
    {
     "name": "stdin",
     "output_type": "stream",
     "text": [
      "enter your numebr:  77\n"
     ]
    },
    {
     "data": {
      "text/plain": [
       "2"
      ]
     },
     "execution_count": 16,
     "metadata": {},
     "output_type": "execute_result"
    }
   ],
   "source": [
    "# how to write the file\n",
    "number = input(\"enter your numebr: \")\n",
    "fh = open(\"file handling.txt\", \"w\")\n",
    "fh.write(number)"
   ]
  },
  {
   "cell_type": "code",
   "execution_count": 19,
   "id": "96afa6d6-70a1-45cf-9f14-d8522be4c88a",
   "metadata": {
    "collapsed": true,
    "jupyter": {
     "outputs_hidden": true,
     "source_hidden": true
    }
   },
   "outputs": [
    {
     "name": "stdout",
     "output_type": "stream",
     "text": [
      "77\n"
     ]
    }
   ],
   "source": [
    "# read the file that we just wrote\n",
    "fh = open(\"file handling.txt\")\n",
    "print(fh.read())"
   ]
  },
  {
   "cell_type": "markdown",
   "id": "dbe0b2ff-5013-4fd2-96ee-1b529a2aa8da",
   "metadata": {},
   "source": [
    "EXCEPTION HANDLING"
   ]
  },
  {
   "cell_type": "code",
   "execution_count": 12,
   "id": "1c66f199-a67f-411f-b770-b8fd44e291a8",
   "metadata": {
    "collapsed": true,
    "jupyter": {
     "outputs_hidden": true,
     "source_hidden": true
    }
   },
   "outputs": [],
   "source": [
    "# for exception handling we have to use try, except, finally and else keyword.\n",
    "# TRY: It is used to wrap the code that might generate an exception. If an exception occurs in the try block,\n",
    "#      the rest of the code in the try block is skipped.\n",
    "# EXCEPT: It is used to handle the exception. It allows you to define how the program should respond to different exceptions.\n",
    "#         You can have multiple except blocks to handle different types of exceptions.\n",
    "# FINALLY: Its optional and contains code that should be executed no matter what, whether an exception was raised or not.\n",
    "#          This is typically used for cleanup actions like closing files or releasing resources."
   ]
  },
  {
   "cell_type": "code",
   "execution_count": 5,
   "id": "ce799fcb-7b2e-4b2c-8989-8aa2a3bb7345",
   "metadata": {
    "collapsed": true,
    "jupyter": {
     "outputs_hidden": true,
     "source_hidden": true
    }
   },
   "outputs": [
    {
     "name": "stdin",
     "output_type": "stream",
     "text": [
      "enter number 1:  3\n",
      "enter number 2:  4\n"
     ]
    },
    {
     "name": "stdout",
     "output_type": "stream",
     "text": [
      "7\n",
      "try and except have worked\n"
     ]
    }
   ],
   "source": [
    "# add 2 num with exception handling \n",
    "try:\n",
    "    n1 = int(input(\"enter number 1: \"))\n",
    "    n2 = int(input(\"enter number 2: \"))\n",
    "    print(n1+n2)\n",
    "except:\n",
    "    print(\"an occured will occur\")\n",
    "finally:\n",
    "    print(\"try and except have worked\")"
   ]
  },
  {
   "cell_type": "code",
   "execution_count": 10,
   "id": "fca08bbd-d94a-4e9e-8d39-810f3d4a8e26",
   "metadata": {
    "collapsed": true,
    "jupyter": {
     "outputs_hidden": true,
     "source_hidden": true
    }
   },
   "outputs": [
    {
     "name": "stdin",
     "output_type": "stream",
     "text": [
      "enter first number for addition:  3\n",
      "enter second number for addition:  5\n"
     ]
    },
    {
     "name": "stdout",
     "output_type": "stream",
     "text": [
      "sum of 3 and 5 is 8\n"
     ]
    },
    {
     "name": "stdin",
     "output_type": "stream",
     "text": [
      "enter first number for subtraction:  3\n",
      "enter second number for subtraction:  9\n"
     ]
    },
    {
     "name": "stdout",
     "output_type": "stream",
     "text": [
      "sub of 3 and 9 is -6\n",
      "try and except have done their work\n"
     ]
    }
   ],
   "source": [
    "#  Function with exception handling\n",
    "try:\n",
    "    def add():\n",
    "        n1 = int(input(\"enter first number for addition: \"))\n",
    "        n2 = int(input(\"enter second number for addition: \"))\n",
    "        print(f\"sum of {n1} and {n2} is {n1+n2}\")\n",
    "\n",
    "    def sub():\n",
    "        n1 = int(input(\"enter first number for subtraction: \"))\n",
    "        n2 = int(input(\"enter second number for subtraction: \"))\n",
    "        print(f\"sub of {n1} and {n2} is {n1-n2}\")\n",
    "\n",
    "    add()\n",
    "    sub()\n",
    "\n",
    "except():\n",
    "    print(\"error will ocured\")\n",
    "finally:\n",
    "    print(\"try and except have done their work\")"
   ]
  },
  {
   "cell_type": "markdown",
   "id": "461a79f1-78d4-47b5-8976-6edf1267922b",
   "metadata": {},
   "source": [
    "PANDA"
   ]
  },
  {
   "cell_type": "code",
   "execution_count": 3,
   "id": "9a08404c-9969-4f8d-99f8-14de72f8246f",
   "metadata": {
    "collapsed": true,
    "jupyter": {
     "outputs_hidden": true,
     "source_hidden": true
    }
   },
   "outputs": [],
   "source": [
    "import pandas as pd"
   ]
  },
  {
   "cell_type": "code",
   "execution_count": 48,
   "id": "4d2d2092-fe5f-4acc-a8dd-f22b1d9f121f",
   "metadata": {
    "collapsed": true,
    "jupyter": {
     "outputs_hidden": true,
     "source_hidden": true
    }
   },
   "outputs": [
    {
     "name": "stdout",
     "output_type": "stream",
     "text": [
      "       Name  Age  Salary\n",
      "0  Abhishek   30   33000\n",
      "1    Pankaj   37   43000\n",
      "2     Rahul   34   53000\n",
      "-----------------------------------------------\n",
      "0    30\n",
      "1    37\n",
      "2    34\n",
      "Name: Age, dtype: int64\n",
      "-------------------------------------------------\n",
      "       Name  Salary\n",
      "0  Abhishek   33000\n",
      "1    Pankaj   43000\n",
      "2     Rahul   53000\n",
      "<class 'pandas.core.frame.DataFrame'>\n"
     ]
    }
   ],
   "source": [
    "# Create a simple DataFrame out of dictionary\n",
    "# data should be stored inside list, even if its a single value.\n",
    "data = {\n",
    "    'Name': ['Abhishek', 'Pankaj', 'Rahul'],\n",
    "    'Age': [30, 37, 34],\n",
    "    'Salary': [33000, 43000, 53000]\n",
    "}\n",
    "df = pd.DataFrame(data)\n",
    "print(df)    # Display the DataFrame\n",
    "print('-----------------------------------------------')\n",
    "\n",
    "s = df['Age']   # Get the Age column as a series Object\n",
    "print(s)\n",
    "print('-------------------------------------------------')\n",
    "\n",
    "x = df[['Name','Salary']]   # to check specific key \n",
    "print(x)\n",
    "\n",
    "print(type(x))"
   ]
  },
  {
   "cell_type": "code",
   "execution_count": 66,
   "id": "91355c32-802f-46b1-9d36-8fc408b46549",
   "metadata": {
    "collapsed": true,
    "jupyter": {
     "outputs_hidden": true,
     "source_hidden": true
    }
   },
   "outputs": [
    {
     "name": "stdout",
     "output_type": "stream",
     "text": [
      "       Name  Age  Salary   City\n",
      "0  Abhishek   30   33000  Delhi\n",
      "1    Pankaj   37   43000     UP\n",
      "2     Rahul   34   53000   Pune\n",
      "------------------------------------------------------\n",
      "37\n",
      "33000\n",
      "-----------------------------------------------------\n",
      "       Name  Age\n",
      "0  Abhishek   30\n",
      "1    Pankaj   37\n",
      "2     Rahul   34\n",
      "-------------------------------------------------------\n",
      "       Name  Age  Salary\n",
      "0  Abhishek   30   33000\n",
      "1    Pankaj   37   43000\n"
     ]
    }
   ],
   "source": [
    "# loc() and iloc()\n",
    "# loc(): is a label-based data selecting method which means that we have to pass the name of the row or column \n",
    "# that we want to select. SYNTAX - loc[row_label, column_label]\n",
    "# iloc(): is an indexed-based selecting method which means that we have to pass an integer index in the method to \n",
    "# select a specific row/column. SYNTAX - iloc[row_index, column_index]\n",
    "data = {\n",
    "    'Name': ['Abhishek', 'Pankaj', 'Rahul'],\n",
    "    'Age': [30, 37, 34],\n",
    "    'Salary': [33000, 43000, 53000],\n",
    "    'City': ['Delhi', 'UP', 'Pune']\n",
    "}\n",
    "df = pd.DataFrame(data)\n",
    "print(df)\n",
    "print('------------------------------------------------------')\n",
    "\n",
    "print(df.loc[1, 'Age'])   # access the column using the name\n",
    "print(df.iloc[0,2])   # Access the value on the first row and the third column\n",
    "print('-----------------------------------------------------')\n",
    "\n",
    "print(df.loc[0:2, 'Name':'Age'])      # slicing using loc()\n",
    "print('-------------------------------------------------------')\n",
    "print(df.iloc[0:2, 0:3])            # slicing using iloc()"
   ]
  },
  {
   "cell_type": "code",
   "execution_count": 67,
   "id": "f17a2c60-11d3-4e55-993e-2ad5fafa8ae4",
   "metadata": {
    "collapsed": true,
    "jupyter": {
     "outputs_hidden": true,
     "source_hidden": true
    }
   },
   "outputs": [
    {
     "name": "stdout",
     "output_type": "stream",
     "text": [
      "Collecting xlrd\n",
      "  Downloading xlrd-2.0.1-py2.py3-none-any.whl.metadata (3.4 kB)\n",
      "Downloading xlrd-2.0.1-py2.py3-none-any.whl (96 kB)\n",
      "   ---------------------------------------- 0.0/96.5 kB ? eta -:--:--\n",
      "   ---------------------------------------- 0.0/96.5 kB ? eta -:--:--\n",
      "   ---------------- ----------------------- 41.0/96.5 kB 653.6 kB/s eta 0:00:01\n",
      "   -------------------------------------- - 92.2/96.5 kB 1.1 MB/s eta 0:00:01\n",
      "   ---------------------------------------- 96.5/96.5 kB 918.0 kB/s eta 0:00:00\n",
      "Installing collected packages: xlrd\n",
      "Successfully installed xlrd-2.0.1\n"
     ]
    }
   ],
   "source": [
    "!pip install xlrd"
   ]
  },
  {
   "cell_type": "code",
   "execution_count": 68,
   "id": "01fb442e-7ee6-41df-9994-2378694ce82c",
   "metadata": {
    "collapsed": true,
    "jupyter": {
     "outputs_hidden": true,
     "source_hidden": true
    }
   },
   "outputs": [
    {
     "name": "stdout",
     "output_type": "stream",
     "text": [
      "Requirement already satisfied: openpyxl in e:\\anaconda\\lib\\site-packages (3.0.10)\n",
      "Requirement already satisfied: et_xmlfile in e:\\anaconda\\lib\\site-packages (from openpyxl) (1.1.0)\n"
     ]
    }
   ],
   "source": [
    "!pip install openpyxl"
   ]
  },
  {
   "cell_type": "code",
   "execution_count": 88,
   "id": "12fca9b4-7901-450b-8769-77d67a754690",
   "metadata": {
    "collapsed": true,
    "jupyter": {
     "outputs_hidden": true,
     "source_hidden": true
    }
   },
   "outputs": [
    {
     "name": "stdout",
     "output_type": "stream",
     "text": [
      "    01-06-2019  Jan     East   Martha  Alexander    Television  95  1,198.00  \\\n",
      "0      1-23-19  Jan  Central  Hermann     Shelli  Home Theater  50       500   \n",
      "1   02-09-2019  Feb  Central  Hermann       Luis    Television  36  1,198.00   \n",
      "2      2-26-19  Feb  Central  Timothy      David    Cell Phone  27       225   \n",
      "3      3-15-19  Mar     West  Timothy    Stephen    Television  56  1,198.00   \n",
      "4   04-01-2019  Apr     East   Martha  Alexander  Home Theater  60       500   \n",
      "5      4-19-19  Apr  Central   Martha     Steven    Television  75  1,198.00   \n",
      "6   05-05-2019  May  Central  Hermann       Luis    Television  90  1,198.00   \n",
      "7      5-22-19  May     West  Douglas    Michael    Television  32  1,198.00   \n",
      "8   06-08-2019  Jun     East   Martha  Alexander  Home Theater  60       500   \n",
      "9      6-25-19  Jun  Central  Hermann      Sigal    Television  90  1,198.00   \n",
      "10  07-12-2019  Jul     East   Martha      Diana  Home Theater  29       500   \n",
      "11     7-29-19  Jul     East  Douglas      Karen  Home Theater  81       500   \n",
      "12     8-15-19  Aug     East   Martha  Alexander    Television  35  1,198.00   \n",
      "13  09-01-2019  Sep  Central  Douglas       John          Desk   2       125   \n",
      "14     9-19-19  Sep     East   Martha  Alexander   Video Games  16      58.5   \n",
      "15  10-05-2019  Oct  Central  Hermann      Sigal  Home Theater  28       500   \n",
      "16    10-22-19  Oct     East   Martha  Alexander    Cell Phone  64       225   \n",
      "17  11-08-2019  Nov     East  Douglas      Karen    Cell Phone  15       225   \n",
      "18    11-25-19  Nov  Central  Hermann     Shelli   Video Games  96      58.5   \n",
      "19  12-12-2019  Dec  Central  Douglas       John    Television  67  1,198.00   \n",
      "20    12-29-19  Dec     East  Douglas      Karen   Video Games  74      58.5   \n",
      "21     1-15-19  Jan  Central  Timothy      David  Home Theater  46       500   \n",
      "22  02-01-2019  Feb  Central  Douglas       John  Home Theater  87       500   \n",
      "23     2-19-19  Feb     East   Martha  Alexander  Home Theater   4       500   \n",
      "24  03-07-2019  Mar     West  Timothy    Stephen  Home Theater   7       500   \n",
      "25     3-24-19  Mar  Central  Hermann       Luis   Video Games  50      58.5   \n",
      "26  04-10-2019  Apr  Central   Martha     Steven    Television  66  1,198.00   \n",
      "27     4-27-19  Apr     East   Martha      Diana    Cell Phone  96       225   \n",
      "28     5-14-19  May  Central  Timothy      David    Television  53  1,198.00   \n",
      "29     5-31-19  May  Central  Timothy      David  Home Theater  80       500   \n",
      "30     6-17-19  Jun  Central  Hermann     Shelli          Desk   5       125   \n",
      "31  07-04-2019  Jul     East   Martha  Alexander   Video Games  62      58.5   \n",
      "32     7-21-19  Jul  Central  Hermann      Sigal   Video Games  55      58.5   \n",
      "33  08-07-2019  Aug  Central  Hermann     Shelli   Video Games  42      58.5   \n",
      "34     8-24-19  Aug     West  Timothy    Stephen          Desk   3       125   \n",
      "35  09-10-2019  Sep  Central  Timothy      David    Television   7  1,198.00   \n",
      "36     9-27-19  Sep     West  Timothy    Stephen    Cell Phone  76       225   \n",
      "37    10-14-19  Oct     West  Douglas    Michael  Home Theater  57       500   \n",
      "38    10-31-19  Oct  Central   Martha     Steven    Television  14  1,198.00   \n",
      "39    11-17-19  Nov  Central  Hermann       Luis  Home Theater  11       500   \n",
      "40  12-04-2019  Dec  Central  Hermann       Luis  Home Theater  94       500   \n",
      "41    12-21-19  Dec  Central   Martha     Steven  Home Theater  28       500   \n",
      "\n",
      "    1,13,810.00  \n",
      "0     25,000.00  \n",
      "1     43,128.00  \n",
      "2      6,075.00  \n",
      "3     67,088.00  \n",
      "4     30,000.00  \n",
      "5     89,850.00  \n",
      "6   1,07,820.00  \n",
      "7     38,336.00  \n",
      "8     30,000.00  \n",
      "9   1,07,820.00  \n",
      "10    14,500.00  \n",
      "11    40,500.00  \n",
      "12    41,930.00  \n",
      "13          250  \n",
      "14          936  \n",
      "15    14,000.00  \n",
      "16    14,400.00  \n",
      "17     3,375.00  \n",
      "18     5,616.00  \n",
      "19    80,266.00  \n",
      "20     4,329.00  \n",
      "21    23,000.00  \n",
      "22    43,500.00  \n",
      "23     2,000.00  \n",
      "24     3,500.00  \n",
      "25     2,925.00  \n",
      "26    79,068.00  \n",
      "27    21,600.00  \n",
      "28    63,494.00  \n",
      "29    40,000.00  \n",
      "30          625  \n",
      "31     3,627.00  \n",
      "32     3,217.50  \n",
      "33     2,457.00  \n",
      "34          375  \n",
      "35     8,386.00  \n",
      "36    17,100.00  \n",
      "37    28,500.00  \n",
      "38    16,772.00  \n",
      "39     5,500.00  \n",
      "40    47,000.00  \n",
      "41    14,000.00  \n"
     ]
    }
   ],
   "source": [
    "# import data from csv file\n",
    "data = pd.read_csv('salesCSV.csv')\n",
    "print(data)"
   ]
  },
  {
   "cell_type": "code",
   "execution_count": 106,
   "id": "c7187797-90b2-450d-bcff-57ac79c726fa",
   "metadata": {
    "collapsed": true,
    "jupyter": {
     "outputs_hidden": true,
     "source_hidden": true
    }
   },
   "outputs": [
    {
     "name": "stdout",
     "output_type": "stream",
     "text": [
      "   01-06-2019  Jan     East   Martha  Alexander    Television  95  1,198.00  \\\n",
      "0     1-23-19  Jan  Central  Hermann     Shelli  Home Theater  50       500   \n",
      "1  02-09-2019  Feb  Central  Hermann       Luis    Television  36  1,198.00   \n",
      "2     2-26-19  Feb  Central  Timothy      David    Cell Phone  27       225   \n",
      "3     3-15-19  Mar     West  Timothy    Stephen    Television  56  1,198.00   \n",
      "4  04-01-2019  Apr     East   Martha  Alexander  Home Theater  60       500   \n",
      "\n",
      "  1,13,810.00  \n",
      "0   25,000.00  \n",
      "1   43,128.00  \n",
      "2    6,075.00  \n",
      "3   67,088.00  \n",
      "4   30,000.00  \n"
     ]
    }
   ],
   "source": [
    "# show top 5 file. by default it show 5 file\n",
    "data = pd.read_csv('salesCSV.csv')\n",
    "print(data.head())\n",
    "#print(data.head(10))            # it will show top 10"
   ]
  },
  {
   "cell_type": "code",
   "execution_count": 90,
   "id": "c6ee439c-de9e-4812-a793-a0c837be0e3d",
   "metadata": {
    "collapsed": true,
    "jupyter": {
     "outputs_hidden": true,
     "source_hidden": true
    }
   },
   "outputs": [
    {
     "data": {
      "text/html": [
       "<div>\n",
       "<style scoped>\n",
       "    .dataframe tbody tr th:only-of-type {\n",
       "        vertical-align: middle;\n",
       "    }\n",
       "\n",
       "    .dataframe tbody tr th {\n",
       "        vertical-align: top;\n",
       "    }\n",
       "\n",
       "    .dataframe thead th {\n",
       "        text-align: right;\n",
       "    }\n",
       "</style>\n",
       "<table border=\"1\" class=\"dataframe\">\n",
       "  <thead>\n",
       "    <tr style=\"text-align: right;\">\n",
       "      <th></th>\n",
       "      <th>01-06-2019</th>\n",
       "      <th>Jan</th>\n",
       "      <th>East</th>\n",
       "      <th>Martha</th>\n",
       "      <th>Alexander</th>\n",
       "      <th>Television</th>\n",
       "      <th>95</th>\n",
       "      <th>1,198.00</th>\n",
       "      <th>1,13,810.00</th>\n",
       "    </tr>\n",
       "  </thead>\n",
       "  <tbody>\n",
       "    <tr>\n",
       "      <th>37</th>\n",
       "      <td>10-14-19</td>\n",
       "      <td>Oct</td>\n",
       "      <td>West</td>\n",
       "      <td>Douglas</td>\n",
       "      <td>Michael</td>\n",
       "      <td>Home Theater</td>\n",
       "      <td>57</td>\n",
       "      <td>500</td>\n",
       "      <td>28,500.00</td>\n",
       "    </tr>\n",
       "    <tr>\n",
       "      <th>38</th>\n",
       "      <td>10-31-19</td>\n",
       "      <td>Oct</td>\n",
       "      <td>Central</td>\n",
       "      <td>Martha</td>\n",
       "      <td>Steven</td>\n",
       "      <td>Television</td>\n",
       "      <td>14</td>\n",
       "      <td>1,198.00</td>\n",
       "      <td>16,772.00</td>\n",
       "    </tr>\n",
       "    <tr>\n",
       "      <th>39</th>\n",
       "      <td>11-17-19</td>\n",
       "      <td>Nov</td>\n",
       "      <td>Central</td>\n",
       "      <td>Hermann</td>\n",
       "      <td>Luis</td>\n",
       "      <td>Home Theater</td>\n",
       "      <td>11</td>\n",
       "      <td>500</td>\n",
       "      <td>5,500.00</td>\n",
       "    </tr>\n",
       "    <tr>\n",
       "      <th>40</th>\n",
       "      <td>12-04-2019</td>\n",
       "      <td>Dec</td>\n",
       "      <td>Central</td>\n",
       "      <td>Hermann</td>\n",
       "      <td>Luis</td>\n",
       "      <td>Home Theater</td>\n",
       "      <td>94</td>\n",
       "      <td>500</td>\n",
       "      <td>47,000.00</td>\n",
       "    </tr>\n",
       "    <tr>\n",
       "      <th>41</th>\n",
       "      <td>12-21-19</td>\n",
       "      <td>Dec</td>\n",
       "      <td>Central</td>\n",
       "      <td>Martha</td>\n",
       "      <td>Steven</td>\n",
       "      <td>Home Theater</td>\n",
       "      <td>28</td>\n",
       "      <td>500</td>\n",
       "      <td>14,000.00</td>\n",
       "    </tr>\n",
       "  </tbody>\n",
       "</table>\n",
       "</div>"
      ],
      "text/plain": [
       "    01-06-2019  Jan     East   Martha Alexander    Television  95  1,198.00  \\\n",
       "37    10-14-19  Oct     West  Douglas   Michael  Home Theater  57       500   \n",
       "38    10-31-19  Oct  Central   Martha    Steven    Television  14  1,198.00   \n",
       "39    11-17-19  Nov  Central  Hermann      Luis  Home Theater  11       500   \n",
       "40  12-04-2019  Dec  Central  Hermann      Luis  Home Theater  94       500   \n",
       "41    12-21-19  Dec  Central   Martha    Steven  Home Theater  28       500   \n",
       "\n",
       "   1,13,810.00  \n",
       "37   28,500.00  \n",
       "38   16,772.00  \n",
       "39    5,500.00  \n",
       "40   47,000.00  \n",
       "41   14,000.00  "
      ]
     },
     "execution_count": 90,
     "metadata": {},
     "output_type": "execute_result"
    }
   ],
   "source": [
    "# show bottom 5 file\n",
    "data.tail()    "
   ]
  },
  {
   "cell_type": "code",
   "execution_count": 1,
   "id": "34acf9d7-7c39-41b3-af74-2c86f7d54396",
   "metadata": {
    "collapsed": true,
    "jupyter": {
     "outputs_hidden": true,
     "source_hidden": true
    }
   },
   "outputs": [
    {
     "ename": "NameError",
     "evalue": "name 'pd' is not defined",
     "output_type": "error",
     "traceback": [
      "\u001b[1;31m---------------------------------------------------------------------------\u001b[0m",
      "\u001b[1;31mNameError\u001b[0m                                 Traceback (most recent call last)",
      "Cell \u001b[1;32mIn[1], line 2\u001b[0m\n\u001b[0;32m      1\u001b[0m \u001b[38;5;66;03m#length of column \u001b[39;00m\n\u001b[1;32m----> 2\u001b[0m data \u001b[38;5;241m=\u001b[39m pd\u001b[38;5;241m.\u001b[39mread_excel(\u001b[38;5;124m'\u001b[39m\u001b[38;5;124mExcel.xlsx\u001b[39m\u001b[38;5;124m'\u001b[39m)\n\u001b[0;32m      3\u001b[0m \u001b[38;5;28mprint\u001b[39m(data)\n\u001b[0;32m      4\u001b[0m \u001b[38;5;28mprint\u001b[39m(\u001b[38;5;124m'\u001b[39m\u001b[38;5;124m--------------------------\u001b[39m\u001b[38;5;124m'\u001b[39m)\n",
      "\u001b[1;31mNameError\u001b[0m: name 'pd' is not defined"
     ]
    }
   ],
   "source": [
    "#length of column \n",
    "data = pd.read_excel('Excel.xlsx')\n",
    "print(data)\n",
    "print('--------------------------')\n",
    "\n",
    "# length of the column\n",
    "x = data[['Product']]\n",
    "print(x)"
   ]
  },
  {
   "cell_type": "code",
   "execution_count": 122,
   "id": "b1eb74ad-2211-4536-85db-f0cf20c0d84f",
   "metadata": {
    "collapsed": true,
    "jupyter": {
     "outputs_hidden": true,
     "source_hidden": true
    }
   },
   "outputs": [
    {
     "name": "stdout",
     "output_type": "stream",
     "text": [
      "pencil\n",
      "---------------------------------------\n",
      "486\n"
     ]
    }
   ],
   "source": [
    "# loc and iloc to find specific value\n",
    "data = pd.read_excel('Excel.xlsx')\n",
    "# print(data)\n",
    "# print('---------------------------------------')\n",
    "\n",
    "# Access the value on the second row and the third column\n",
    "print(data.iloc[1, 2])\n",
    "print('---------------------------------------')\n",
    "\n",
    "# Access the column using the name\n",
    "print(data.loc[1, 'Amount'])"
   ]
  },
  {
   "cell_type": "code",
   "execution_count": 130,
   "id": "fca7393a-bd17-4d77-b9af-bf1afd895670",
   "metadata": {
    "collapsed": true,
    "jupyter": {
     "outputs_hidden": true,
     "source_hidden": true
    }
   },
   "outputs": [
    {
     "name": "stdout",
     "output_type": "stream",
     "text": [
      "   Zone Name Product\n",
      "0  East  ABC    Book\n",
      "1  East  ABC  pencil\n",
      "---------------------------------------\n",
      "   Zone Name Product  Amount\n",
      "0  East  ABC    Book     485\n",
      "1  East  ABC  pencil     486\n",
      "2  East  ABC  Rubber     447\n",
      "3  East  ABC     Ink     115\n",
      "4  East  ABC    cell     333\n"
     ]
    }
   ],
   "source": [
    "# slicing using loc() and iloc()\n",
    "data = pd.read_excel('Excel.xlsx')\n",
    "# print(data)\n",
    "# print('---------------------------------------')\n",
    "\n",
    "print(data.iloc[0:2, 0:3])\n",
    "print('---------------------------------------')\n",
    "\n",
    "print(data.loc[0:4, 'Zone':'Amount'])"
   ]
  },
  {
   "cell_type": "markdown",
   "id": "7dd6fe90-a5c4-428e-ad5b-f8f7fd188e8e",
   "metadata": {},
   "source": [
    "NUMPY"
   ]
  },
  {
   "cell_type": "code",
   "execution_count": 1,
   "id": "40d6b026-ed5e-4739-a228-254456573b7a",
   "metadata": {
    "collapsed": true,
    "jupyter": {
     "outputs_hidden": true,
     "source_hidden": true
    }
   },
   "outputs": [],
   "source": [
    "import numpy as np"
   ]
  },
  {
   "cell_type": "code",
   "execution_count": 76,
   "id": "7d1711e1-09ff-4528-856e-cd68e8b13414",
   "metadata": {
    "collapsed": true,
    "jupyter": {
     "outputs_hidden": true,
     "source_hidden": true
    }
   },
   "outputs": [
    {
     "name": "stdout",
     "output_type": "stream",
     "text": [
      "<class 'numpy.ndarray'>\n"
     ]
    }
   ],
   "source": [
    "# convert list into numpy array list \n",
    "list = [3,5,7,9]\n",
    "type(list)\n",
    "a =np.array(list)\n",
    "print(type(a))"
   ]
  },
  {
   "cell_type": "code",
   "execution_count": 71,
   "id": "a236fdba-9254-403a-a199-11b74bfe9167",
   "metadata": {
    "collapsed": true,
    "jupyter": {
     "outputs_hidden": true,
     "source_hidden": true
    }
   },
   "outputs": [
    {
     "name": "stdout",
     "output_type": "stream",
     "text": [
      "[1 3 4 6 7]\n",
      "<class 'numpy.ndarray'>\n",
      "1.26.4\n"
     ]
    },
    {
     "data": {
      "text/plain": [
       "dtype('int32')"
      ]
     },
     "execution_count": 71,
     "metadata": {},
     "output_type": "execute_result"
    }
   ],
   "source": [
    "# array object in NumPy is called ndarray. each element is of the same type\n",
    "a = np.array([1,3,4,6,7])\n",
    "print(a)\n",
    "print(type(a))    # type of array\n",
    "print(np.__version__)\n",
    "a.dtype     # type of the values stored in numpy array"
   ]
  },
  {
   "cell_type": "code",
   "execution_count": 11,
   "id": "5466a100-4bb8-4bcd-ab5d-e6c8e1a35c43",
   "metadata": {
    "collapsed": true,
    "jupyter": {
     "outputs_hidden": true,
     "source_hidden": true
    }
   },
   "outputs": [
    {
     "name": "stdout",
     "output_type": "stream",
     "text": [
      "[ 2 33 46 34]\n",
      "[ 2 99 46 34]\n"
     ]
    }
   ],
   "source": [
    "# Assign value\n",
    "c = np.array([2, 33, 46, 34])\n",
    "print(c)\n",
    "\n",
    "c[1] = 99      # change value of 4 at index numebr 1 to 99        \n",
    "print(c)"
   ]
  },
  {
   "cell_type": "code",
   "execution_count": 19,
   "id": "2b777b6c-a23e-424c-a25e-a7fe3aa00c5f",
   "metadata": {
    "collapsed": true,
    "jupyter": {
     "outputs_hidden": true,
     "source_hidden": true
    }
   },
   "outputs": [
    {
     "name": "stdout",
     "output_type": "stream",
     "text": [
      "[33 46 34 77]\n",
      "[33 34 72 34]\n"
     ]
    }
   ],
   "source": [
    "# Slicing\n",
    "c = np.array([2, 33, 46, 34, 77, 72, 69, 34, 63, 48])\n",
    "print(c[1:5])\n",
    "print(c[1:8:2])   # start:end:step"
   ]
  },
  {
   "cell_type": "code",
   "execution_count": 79,
   "id": "1c1cf059-9bec-4916-a20f-42a71f5e77c8",
   "metadata": {
    "collapsed": true,
    "jupyter": {
     "outputs_hidden": true,
     "source_hidden": true
    }
   },
   "outputs": [
    {
     "name": "stdout",
     "output_type": "stream",
     "text": [
      "10\n",
      "1\n",
      "(10,)\n"
     ]
    }
   ],
   "source": [
    "# others attribute\n",
    "c = np.array([2, 33, 46, 34, 77, 72, 69, 34, 63, 48])\n",
    "print(c.size)              # Get size of numpy array\n",
    "print(c.ndim)              # Get the number of dimensions of numpy array\n",
    "print(c.shape)             # Get the shape/size of numpy array"
   ]
  },
  {
   "cell_type": "code",
   "execution_count": 38,
   "id": "666fbba5-2cda-4579-bc8b-ffcc322b8363",
   "metadata": {
    "collapsed": true,
    "jupyter": {
     "outputs_hidden": true,
     "source_hidden": true
    }
   },
   "outputs": [
    {
     "name": "stdout",
     "output_type": "stream",
     "text": [
      "Mean of value in a is: 5.0\n",
      "Standard deviation of value in a is: 2.23606797749979\n",
      "Maximum value in a is: 8\n",
      "minimum value in a is: 2\n"
     ]
    }
   ],
   "source": [
    "# Numpy Statistical Functions\n",
    "a = np.array([2, 4, 6, 8])\n",
    "\n",
    "mean = a.mean()                            # Get the mean of numpy array\n",
    "print(f'Mean of value in a is: {mean}')\n",
    "\n",
    "standard_deviation=a.std()                 # Get the standard deviation of numpy array\n",
    "print(f'Standard deviation of value in a is: {standard_deviation}')\n",
    "\n",
    "max = a.max()        # Get the biggest value in the numpy array\n",
    "print(f'Maximum value in a is: {max}')\n",
    "\n",
    "min = a.min()\n",
    "print(f'minimum value in a is: {min}')"
   ]
  },
  {
   "cell_type": "code",
   "execution_count": 91,
   "id": "edea1575-e1bc-47ed-9989-a82174f1908a",
   "metadata": {
    "collapsed": true,
    "jupyter": {
     "outputs_hidden": true,
     "source_hidden": true
    }
   },
   "outputs": [
    {
     "name": "stdout",
     "output_type": "stream",
     "text": [
      "addition: [12 24 36]\n",
      "subtraction: [-10 -20 -30]\n",
      "mulitplication [11 44 99]\n",
      "division: [0.09090909 0.09090909 0.09090909]\n",
      "dot product: 154\n"
     ]
    }
   ],
   "source": [
    "# operation on single dimensional array\n",
    "a = np.array([1,2,3])\n",
    "b = np.array([11,22,33])\n",
    "\n",
    "# array addition. first element: 1 + 11 = 12, second element: 2 + 22 = 24, third element: 3 + 33 = 36\n",
    "c = np.add(a, b)\n",
    "print(f'addition: {c}')   \n",
    "\n",
    "# array subtraction. first element: 1 - 11 = -10, second element: 2 - 22 = -20, third element: 3 - 33 = -30 \n",
    "d = np.subtract(a, b)    \n",
    "print(f'subtraction: {d}')\n",
    "\n",
    "# array mulitplication. first element: 1 * 11 = 11, second element: 2 * 22 = 44, third element: 3 * 33 = 99\n",
    "e = np.multiply(a, b)     \n",
    "print(f'mulitplication {e}')     \n",
    "\n",
    "# array division. first element: 1 / 11 = 0.090, second element: 2 / 22 = 0.090, third element: 3 / 33 = 0.090\n",
    "f = np.divide(a, b)        \n",
    "print(f'division: {f}')        \n",
    "\n",
    "# dot prodcut.  a.b = a1.b1 + a2.b2 + a3.b3 -> 1.11 + 2.22 + 3.33 => 11 + 44 + 99 => 154\n",
    "g = np.dot(a, b)\n",
    "print(f'dot product: {g}') "
   ]
  },
  {
   "cell_type": "code",
   "execution_count": 69,
   "id": "71d96260-b0c8-4155-8e42-7d9852bfe787",
   "metadata": {
    "collapsed": true,
    "jupyter": {
     "outputs_hidden": true,
     "source_hidden": true
    }
   },
   "outputs": [
    {
     "data": {
      "image/png": "[encoded data removed]",
      "text/plain": [
       "<Figure size 640x480 with 1 Axes>"
      ]
     },
     "metadata": {},
     "output_type": "display_data"
    }
   ],
   "source": [
    "# this is after array addition funtion program, original code didnt run. had to modify it by chatgpt.\n",
    "# didnt unertand the code.\n",
    "import matplotlib.pyplot as plt\n",
    "\n",
    "def Plotvec1(u, z, v):\n",
    "    plt.figure()  # Create a new figure\n",
    "    ax = plt.gca()  # Get the current axes\n",
    "\n",
    "    ax.arrow(0, 0, *u, head_width=0.05, color='r', head_length=0.1)  # Add an arrow for vector u\n",
    "    plt.text(*(np.array(u) + 0.1), 'u')  # Add text for vector u\n",
    "    \n",
    "    ax.arrow(0, 0, *v, head_width=0.05, color='b', head_length=0.1)  # Add an arrow for vector v\n",
    "    plt.text(*(np.array(v) + 0.1), 'v')  # Add text for vector v\n",
    "    \n",
    "    ax.arrow(0, 0, *z, head_width=0.05, head_length=0.1)  # Add an arrow for vector z\n",
    "    plt.text(*(np.array(z) + 0.1), 'z')  # Add text for vector z\n",
    "    \n",
    "    plt.ylim(-2, 2)  # Set y-axis limits\n",
    "    plt.xlim(-2, 2)  # Set x-axis limits\n",
    "    plt.grid(True)  # Add grid for better visibility\n",
    "    plt.show()  # Display the plot\n",
    "\n",
    "# Example usage:\n",
    "u = np.array([1, 1])\n",
    "v = np.array([1, -1])\n",
    "z = np.array([-1, 1])\n",
    "Plotvec1(u, z, v)\n"
   ]
  },
  {
   "cell_type": "code",
   "execution_count": 87,
   "id": "c09d3ef6-bed2-4170-aac5-76f135c2268f",
   "metadata": {
    "collapsed": true,
    "jupyter": {
     "outputs_hidden": true,
     "source_hidden": true
    }
   },
   "outputs": [
    {
     "name": "stdout",
     "output_type": "stream",
     "text": [
      "9\n",
      "2\n",
      "(3, 3)\n",
      "23\n",
      "23\n",
      "[11 12]\n",
      "[13 23]\n"
     ]
    }
   ],
   "source": [
    "# 2D Numpy array\n",
    "list = [[11, 12, 13], [21, 22, 23], [31, 32, 33]]\n",
    "#                     C0     C1     C2   column -> \n",
    "#  row 1       0      11     12     13 \n",
    "#  row 2       1      21     22     23\n",
    "#  row 3       2      31     32     33\n",
    "\n",
    "a = np.array(list)         # convert list into numpy array\n",
    "\n",
    "print(a.size)              # Get size of numpy array\n",
    "print(a.ndim)              # Get the number of dimensions of numpy array\n",
    "print(a.shape)             # Get the shape/size of numpy array\n",
    "print(a[1,2])              # Access the element on the second row and third column\n",
    "print(a[1][2])             # alternate way to do it\n",
    "print(a[0, 0:2])           # Access the element on the first row and first and second columns\n",
    "print(a[0:2, 2])           # Access the element on the first and second rows and third column\n"
   ]
  },
  {
   "cell_type": "code",
   "execution_count": 120,
   "id": "c93f95c3-1b24-4d49-a606-374ded9efcc1",
   "metadata": {
    "collapsed": true,
    "jupyter": {
     "outputs_hidden": true,
     "source_hidden": true
    }
   },
   "outputs": [
    {
     "name": "stdout",
     "output_type": "stream",
     "text": [
      "[[3 1]\n",
      " [1 3]]\n"
     ]
    }
   ],
   "source": [
    "# operation on 2d array\n",
    "x = np.array([[1,0], [0,1]])\n",
    "y = np.array([[2,1], [1,2]])\n",
    "z = x + y \n",
    "\n",
    "print(z)\n",
    "\n",
    "# output\n",
    "#  x = [ [1, 0],                      y = [ [2, 1],\n",
    "#       [0, 1] ]                           [1, 2] ]\n",
    "\n",
    "# Top-left element: 1+2 = 3\n",
    "# Top-right element: 0+1 = 1\n",
    "# Bottom-left element: 0+1 =1\n",
    "# Bottom-right element: 1+2 =3"
   ]
  },
  {
   "cell_type": "code",
   "execution_count": 117,
   "id": "6bd49148-a77a-434e-b296-fc048eb540ac",
   "metadata": {
    "collapsed": true,
    "jupyter": {
     "outputs_hidden": true,
     "source_hidden": true
    }
   },
   "outputs": [
    {
     "name": "stdout",
     "output_type": "stream",
     "text": [
      "[[2 4]\n",
      " [6 8]]\n"
     ]
    }
   ],
   "source": [
    "# Mulitple it by 2\n",
    "a = np.array([[1,2],[3,4]])\n",
    "b = 2 * a\n",
    "print(b)"
   ]
  },
  {
   "cell_type": "code",
   "execution_count": 123,
   "id": "1f15c669-4ecb-4418-abcc-ed3ddffc420d",
   "metadata": {
    "collapsed": true,
    "jupyter": {
     "outputs_hidden": true,
     "source_hidden": true
    }
   },
   "outputs": [
    {
     "name": "stdout",
     "output_type": "stream",
     "text": [
      "[[ 2  9]\n",
      " [20 10]]\n"
     ]
    }
   ],
   "source": [
    "# mulitplication of 2d array\n",
    "x = np.array([[2,3],[4,5]])\n",
    "y = np.array([[1,3],[5,2]])\n",
    "z = x * y\n",
    "print(z)\n",
    "\n",
    "# output\n",
    "# x = 2 3                y = 1 3\n",
    "#     4 5                    5 2 \n",
    "\n",
    "# Top-left element: 2 *1 = 2\n",
    "# Top-right element: 3 * 3 = 9\n",
    "# Bottom-left element: 4 * 5 = 20\n",
    "# Bottom-right element: 5 * 2 = 10"
   ]
  },
  {
   "cell_type": "code",
   "execution_count": 144,
   "id": "3265705a-79df-4dd7-8d98-60742805a725",
   "metadata": {
    "collapsed": true,
    "jupyter": {
     "outputs_hidden": true,
     "source_hidden": true
    }
   },
   "outputs": [
    {
     "name": "stdout",
     "output_type": "stream",
     "text": [
      "[[13 13]\n",
      " [14 11]]\n",
      "-----------------------------------------------------\n",
      "[[ 0.42016704  0.42016704]\n",
      " [ 0.99060736 -0.99999021]]\n"
     ]
    }
   ],
   "source": [
    "# dot product. the number of columns in the first matrix must match the number of rows in the second matrix.\n",
    "x = np.array([[1,2,3],[2,1,3]])\n",
    "y = np.array([[2,1],[1,3],[3,2]])\n",
    "z = np.dot(x, y)\n",
    "print(z) \n",
    "print('-----------------------------------------------------')\n",
    "\n",
    "# Calculate the sine of Z (trignometry concept)\n",
    "print(np.sin(z))\n",
    "\n",
    "# output logic for dot product\n",
    "# x = 1 2 3                      y = 2 1\n",
    "#     2 1 3                          1 3\n",
    "#                                    3 2  \n",
    "\n",
    "# Top-left Element:     (1⋅2)+(2⋅1)+(3⋅3) = 13\n",
    "# Top-right Element:    (1⋅1)+(2⋅3)+(3⋅2) = 13\n",
    "# Bottom-left Element:  (2⋅2)+(1⋅1)+(3⋅3) = 14\n",
    "# Bottom-right Element: (2⋅1)+(1⋅3)+(3⋅2) = 11"
   ]
  },
  {
   "cell_type": "code",
   "execution_count": 141,
   "id": "1a3c75ab-dcdc-409b-8fae-02e22f1b575b",
   "metadata": {
    "collapsed": true,
    "jupyter": {
     "outputs_hidden": true,
     "source_hidden": true
    }
   },
   "outputs": [
    {
     "name": "stdout",
     "output_type": "stream",
     "text": [
      "[[1 2 3]\n",
      " [1 2 3]]\n"
     ]
    }
   ],
   "source": [
    "# transpose matrix\n",
    "a = np.array([[1,1],[2,2],[3,3]])\n",
    "print(a.T)\n",
    "\n",
    "# Original matrix:\n",
    "# [[1, 1]\n",
    "#  [2, 2]\n",
    "#  [3, 3]]"
   ]
  },
  {
   "cell_type": "markdown",
   "id": "c2874d69-265c-463c-b8b5-4bf2348bea12",
   "metadata": {},
   "source": [
    "API"
   ]
  },
  {
   "cell_type": "code",
   "execution_count": null,
   "id": "7d6a4c91-4992-4055-a9cd-e871d95d372d",
   "metadata": {
    "collapsed": true,
    "jupyter": {
     "outputs_hidden": true,
     "source_hidden": true
    }
   },
   "outputs": [],
   "source": [
    "# An API lets two pieces of software talk to each other. REST API allows you to access resources via the internet\n",
    "# Rest APIs function by sending a <b>request</b>, the request is communicated via HTTP message.\n",
    "# The HTTP message usually contains a JSON file."
   ]
  },
  {
   "cell_type": "code",
   "execution_count": 69,
   "id": "6ae0d544-7ffc-469d-a892-192d17732927",
   "metadata": {
    "collapsed": true,
    "jupyter": {
     "outputs_hidden": true,
     "source_hidden": true
    }
   },
   "outputs": [
    {
     "name": "stdout",
     "output_type": "stream",
     "text": [
      "           Country  GDP (Million USD)\n",
      "1    United States           26854.60\n",
      "2            China           19373.59\n",
      "3            Japan            4409.74\n",
      "4          Germany            4308.85\n",
      "5            India            3736.88\n",
      "6   United Kingdom            3158.94\n",
      "7           France            2923.49\n",
      "8            Italy            2169.74\n",
      "9           Canada            2089.67\n",
      "10          Brazil            2081.24\n"
     ]
    }
   ],
   "source": [
    "# PRACTICE PROJECT: GDP Data extraction and processing\n",
    "# Project Scenario:\n",
    "# An international firm that is looking to expand its business in different countries across the world has recruited you.\n",
    "# You have been hired as a junior Data Engineer and are tasked with creating a script that can extract the list of he top 10 largest\n",
    "# economies of the world in descending order of their GDPs in Billion USD (rounded to 2 decimal places), as logged by the IMF.\n",
    "# URL: https://web.archive.org/web/20230902185326/https://en.wikipedia.org/wiki/List_of_countries_by_GDP_%28nominal%29\n",
    "\n",
    "import pandas as pd\n",
    "import numpy as np\n",
    "\n",
    "# while running this program on local system, it might give warning. it doesn't affect execution of code.\n",
    "# You can also use this section to suppress warnings generated by your code:\n",
    "\n",
    "# def warn(*args, **kwargs):\n",
    "#     pass\n",
    "# import warnings\n",
    "# warnings.warn = warn\n",
    "# warnings.filterwarnings('ignore')\n",
    "\n",
    "# warning removal code end here\n",
    "\n",
    "# Extract tables from webpage using Pandas. Retain table number 3 as the required dataframe.\n",
    "url = \"https://web.archive.org/web/20230902185326/https://en.wikipedia.org/wiki/List_of_countries_by_GDP_%28nominal%29\"\n",
    "tables = pd.read_html(url)\n",
    "df = tables[3]\n",
    "\n",
    "# Replace the column headers with column numbers. Retain table number 3 as the required dataframe.\n",
    "df.columns = range(df.shape[1])\n",
    "\n",
    "# Retain columns with index 0 and 2 (name of country and value of GDP quoted by IMF)\n",
    "df = df[[0,2]]\n",
    "\n",
    "# Retain the Rows with index 1 to 10, indicating the top 10 economies of the world.\n",
    "df = df.iloc[1:11,:]\n",
    "\n",
    "# Assign column names as \"Country\" and \"GDP (Million USD)\"\n",
    "df.columns = ['Country','GDP (Million USD)']\n",
    "\n",
    "# Change the data type of the 'GDP (Million USD)' column to integer. Use astype() method.\n",
    "df['GDP (Million USD)'] = df['GDP (Million USD)'].astype(int)\n",
    "\n",
    "# Convert the GDP value in Million USD to Billion USD\n",
    "df[['GDP (Million USD)']] = df[['GDP (Million USD)']]/1000\n",
    "\n",
    "# Use numpy.round() method to round the value to 2 decimal places.\n",
    "df[['GDP (Million USD)']] = np.round(df[['GDP (Million USD)']], 2)\n",
    "\n",
    "# Rename the column header from 'GDP (Million USD)' to 'GDP (Billion USD)'\n",
    "df.rename(columns = {'GDP (Million USD)' : 'GDP (Billion USD)'})\n",
    "\n",
    "# Save the DataFrame to the CSV file named \"Largest_economies.csv\" in the specified directory\n",
    "df.to_csv(r'E:\\IBM-DATA SCIENCE\\4 python for ai\\Largest_economies.csv', index=False)\n",
    "print(df)\n",
    "\n",
    "# Explanation:\n",
    "# 1 Import Libraries: Import the necessary pandas and numpy libraries.\n",
    "# 2 Extract Tables: Use pd.read_html to extract tables from the specified URL and store them in a list. \n",
    "#   The third table (index 3) is selected as it contains the required data.\n",
    "# 3 Adjust Column Headers: Replace the column headers with numbers for easier reference and select only\n",
    "#   the relevant columns (index 0 and 2).\n",
    "# 4 Filter Rows: Retain only the rows corresponding to the top 10 economies.\n",
    "# 5 Rename Columns: Assign meaningful column names.\n",
    "# 6 Change Data Type: Convert the 'GDP (Million USD)' column to integer type.\n",
    "# 7 Convert Units: Convert the GDP values from million USD to billion USD and round them to two decimal places.\n",
    "# 8 Drop Unneeded Column: Remove the original 'GDP (Million USD)' column as it's no longer needed.\n",
    "# 9 Save to CSV: Save the resulting DataFrame to a CSV file named \"Largest_economies.csv\" without including the index column.\n",
    "# 10 Display DataFrame: Print the resulting DataFrame to verify the results"
   ]
  },
  {
   "cell_type": "code",
   "execution_count": 66,
   "id": "b0a4ab7e-9da2-477d-a326-c3284b269103",
   "metadata": {
    "collapsed": true,
    "jupyter": {
     "outputs_hidden": true,
     "source_hidden": true
    }
   },
   "outputs": [
    {
     "name": "stdout",
     "output_type": "stream",
     "text": [
      "<!DOCTYPE html>\n",
      "<html class=\"client-nojs vector-feature-language-in-header-enabled vector-feature-language-in-main-page-header-disabled vector-feature-sticky-header-disabled vector-feature-page-tools-pinned-disabled vector-feature-toc-pinned-clientpref-1 vector-feature-main-menu-pinned-disabled vector-feature-limited-width-clientpref-1 vector-feature-limited-width-content-enabled vector-feature-custom-font-size-clientpref-1 vector-feature-appearance-enabled vector-feature-appearance-pinned-clien\n",
      "-----------------------------------------------------------------\n",
      "Jump to content\n",
      "Main page\n",
      "Contents\n",
      "Current events\n",
      "Random article\n",
      "About Wikipedia\n",
      "Contact us\n",
      "Donate\n",
      "Help\n",
      "Learn to edit\n",
      "Community portal\n",
      "Recent changes\n",
      "Upload file\n",
      "\n",
      "\n",
      "\n",
      "\n",
      "\n",
      "\n",
      "\n",
      "\n",
      "Search\n",
      "\n",
      "Create account\n",
      "Log in\n",
      " Create account\n",
      " Log in\n",
      "learn more\n",
      "Contributions\n",
      "Talk\n",
      "\n",
      "(Top)\n",
      "\n",
      "\n",
      "\n",
      "1\n",
      "History\n",
      "\n",
      "\n",
      "\n",
      "\n",
      "2\n",
      "Corporate affairs\n",
      "\n",
      "\n",
      "\n",
      "\n",
      "2.1\n",
      "Business trends\n",
      "\n",
      "\n",
      "\n",
      "\n",
      "2.2\n",
      "Headquarters and offices\n",
      "\n",
      "\n",
      "\n",
      "\n",
      "3\n",
      "Products and services\n",
      "\n",
      "\n",
      "\n",
      "\n",
      "4\n",
      "Research\n",
      "\n",
      "\n",
      "\n",
      "\n",
      "5\n",
      "Brand and reputation\n",
      "\n",
      "\n",
      "\n",
      "\n",
      "6\n",
      "People and culture\n",
      "\n",
      "\n",
      "\n",
      "\n",
      "6.1\n",
      "Employees\n",
      "\n",
      "\n",
      "\n",
      "\n",
      "6.1.1\n",
      "IBM alumni\n",
      "\n",
      "\n",
      "\n",
      "\n",
      "6.2\n",
      "Board and shareholders\n",
      "\n",
      "\n",
      "\n",
      "\n",
      "7\n",
      "See also\n",
      "\n",
      "\n",
      "\n",
      "\n",
      "8\n",
      "Notes\n",
      "\n",
      "\n",
      "\n",
      "\n",
      "9\n",
      "References\n",
      "\n",
      "\n",
      "\n",
      "\n",
      "10\n",
      "Further reading\n",
      "\n",
      "\n",
      "\n",
      "\n",
      "11\n",
      "External links\n",
      "\n",
      "\n",
      "Afrikaans\n",
      "Alemannisch\n",
      "العربية\n",
      "Asturianu\n",
      "Azərbaycanca\n",
      "تۆرکجه\n",
      "বাংলা\n",
      "閩南語 / Bân-lâm-gú\n",
      "Башҡортса\n",
      "Беларуская\n",
      "Беларуская (тарашкевіца)\n",
      "Български\n",
      "Bosanski\n",
      "Català\n",
      "Чӑвашла\n",
      "Čeština\n",
      "Dansk\n",
      "Deutsch\n",
      "Eesti\n",
      "Ελληνικά\n",
      "Español\n",
      "Esperanto\n",
      "Euskara\n",
      "فارسی\n",
      "Français\n",
      "Gaeilge\n",
      "Galego\n",
      "Gĩkũyũ\n",
      "한국어\n",
      "Հայերեն\n",
      "हिन्दी\n",
      "Hrvatski\n",
      "Ido\n",
      "Bahasa Indonesia\n",
      "Interlingue\n",
      "Íslenska\n",
      "Italiano\n",
      "עברית\n",
      "Jawa\n",
      "ಕನ್ನಡ\n",
      "ქართული\n",
      "Қазақша\n",
      "Kiswahili\n",
      "Kurdî\n",
      "Кыргызча\n",
      "Latina\n",
      "Latviešu\n",
      "Lëtzebuergesch\n",
      "Lietuvių\n",
      "Magyar\n",
      "मैथिली\n",
      "Македонски\n",
      "മലയാളം\n",
      "मराठी\n",
      "مصرى\n",
      "Bahasa Melayu\n",
      "Монгол\n",
      "Nederlands\n",
      "नेपाली\n",
      "日本語\n",
      "Norsk bokmål\n",
      "Norsk nynorsk\n",
      "Occitan\n",
      "ଓଡ଼ିଆ\n",
      "Oʻzbekcha / ўзбекча\n",
      "ਪੰਜਾਬੀ\n",
      "پنجابی\n",
      "Piemontèis\n",
      "Polski\n",
      "Português\n",
      "Qaraqalpaqsha\n",
      "Română\n",
      "Runa Simi\n",
      "Русский\n",
      "Саха тыла\n",
      "Scots\n",
      "Shqip\n",
      "සිංහල\n",
      "Simple English\n",
      "Slovenčina\n",
      "Slovenščina\n",
      "کوردی\n",
      "Српски / srpski\n",
      "Srpskohrvatski / српскохрватски\n",
      "Suomi\n",
      "Svenska\n",
      "Tagalog\n",
      "தமிழ்\n",
      "Татарча / tatarça\n",
      "ไทย\n",
      "Тоҷикӣ\n",
      "Türkçe\n",
      "Українська\n",
      "اردو\n",
      "Tiếng Việt\n",
      "Winaray\n",
      "吴语\n",
      "ייִדיש\n",
      "粵語\n",
      "中文\n",
      "Edit links\n",
      "Article\n",
      "Talk\n",
      "Read\n",
      "Edit\n",
      "View history\n",
      "Read\n",
      "Edit\n",
      "View history\n",
      "What links here\n",
      "Related changes\n",
      "Upload file\n",
      "Special pages\n",
      "Permanent link\n",
      "Page information\n",
      "Cite this page\n",
      "Get shortened URL\n",
      "Download QR code\n",
      "Wikidata item\n",
      "Download as PDF\n",
      "Printable version\n",
      "Wikimedia Commons\n",
      "Wikinews\n",
      "Wikiquote\n",
      "IBM (disambiguation)\n",
      "Big Blue (disambiguation)\n",
      "\n",
      "Paul Rand\n",
      "\n",
      "Armonk, New York\n",
      "Trade name\n",
      "Computing-Tabulating-Recording Company\n",
      "Public\n",
      "Traded as\n",
      "NYSE\n",
      "IBM\n",
      "DJIA\n",
      "S&P 100\n",
      "S&P 500\n",
      "ISIN\n",
      "ISIN\n",
      "US4592001014\n",
      "Information technology\n",
      "Bundy Manufacturing Company\n",
      "Computing Scale Company of America\n",
      "International Time Recording Company\n",
      "Tabulating Machine Company\n",
      "Computing-Tabulating-Recording Company\n",
      "Computing-Tabulating-Recording Company\n",
      "Endicott, New York\n",
      "[1]\n",
      "George Winthrop Fairchild\n",
      "Charles Ranlett Flint\n",
      "Herman Hollerith\n",
      "Armonk, New York\n",
      "Arvind Krishna\n",
      "chairman\n",
      "CEO\n",
      "[2]\n",
      "[3]\n",
      "Gary Cohn\n",
      "vice chairman\n",
      "[4]\n",
      "Automation\n",
      "Robotics\n",
      "Artificial intelligence\n",
      "Cloud computing\n",
      "Consulting\n",
      "Blockchain\n",
      "Computer hardware\n",
      "Software\n",
      "Quantum computing\n",
      "IBM Cloud\n",
      "IBM Cognos Analytics\n",
      "IBM Planning Analytics\n",
      "SQL\n",
      "Watson\n",
      "Watsonx\n",
      "Information Management Software\n",
      "SPSS\n",
      "ILOG\n",
      "Tivoli Software\n",
      "WebSphere\n",
      "alphaWorks\n",
      "Mashup Center\n",
      "PureQuery\n",
      "Fortran\n",
      "IBM Quantum Experience\n",
      "Mainframe\n",
      "Power Systems\n",
      "IBM storage\n",
      "IBM Q System One\n",
      "Full List\n",
      "Outsourcing\n",
      "Professional services\n",
      "Managed services\n",
      "US$\n",
      "Operating income\n",
      "Net income\n",
      "Total assets\n",
      "Total equity\n",
      "Subsidiaries\n",
      "List of subsidiaries\n",
      "ibm.com\n",
      "[5]\n",
      "trademark\n",
      "[6]\n",
      "multinational\n",
      "technology company\n",
      "Armonk, New York\n",
      "[7]\n",
      "[8]\n",
      "U.S.\n",
      "patents\n",
      "[9]\n",
      "[10]\n",
      "[11]\n",
      "Computing-Tabulating-Recording Company\n",
      "holding company\n",
      "punch-card tabulating systems\n",
      "IBM mainframe\n",
      "System/360\n",
      "computing platform\n",
      "[12]\n",
      "microcomputer\n",
      "IBM Personal Computer\n",
      "PC\n",
      "[13]\n",
      "[14]\n",
      "intellectual property\n",
      "commodity production\n",
      "Lenovo Group\n",
      "computer services\n",
      "software\n",
      "supercomputers\n",
      "scientific research\n",
      "consistently ranked\n",
      "[12]\n",
      "[15]\n",
      "technological innovations\n",
      "automated teller machine\n",
      "dynamic random-access memory\n",
      "floppy disk\n",
      "hard disk drive\n",
      "magnetic stripe card\n",
      "relational database\n",
      "SQL programming language\n",
      "UPC barcode\n",
      "computer chips\n",
      "quantum computing\n",
      "artificial intelligence\n",
      "data infrastructure\n",
      "[16]\n",
      "[17]\n",
      "[18]\n",
      "Nobel Prizes\n",
      "Turing Awards\n",
      "[19]\n",
      "publicly traded company\n",
      "Dow Jones Industrial Average\n",
      "world's largest employers\n",
      "[20]\n",
      "[21]\n",
      "largest overall company by revenue in the United States\n",
      "[22]\n",
      "edit\n",
      "History of IBM\n",
      "[23]\n",
      "[24]\n",
      "Herman Hollerith\n",
      "Electric Tabulating Machine\n",
      "[25]\n",
      "Willard Bundy\n",
      "time clock\n",
      "[26]\n",
      "amalgamated\n",
      "Charles Ranlett Flint\n",
      "Computing-Tabulating-Recording Company\n",
      "[1]\n",
      "[27]\n",
      "Binghamton\n",
      "Dayton, Ohio\n",
      "Detroit, Michigan\n",
      "Washington, D.C.\n",
      "Toronto\n",
      "[28]\n",
      "Thomas J. Watson, Sr.\n",
      "National Cash Register Company\n",
      "John Henry Patterson\n",
      "[29]\n",
      "antitrust\n",
      "[30]\n",
      "[31]\n",
      "[32]\n",
      "[33]\n",
      "THINK\n",
      "[32]\n",
      "[32]\n",
      "[34]\n",
      "[35]\n",
      "[36]\n",
      "\n",
      "NACA\n",
      "IBM type 704\n",
      "Nazis\n",
      "Dehomag\n",
      "Holocaust\n",
      "[37]\n",
      "[38]\n",
      "M1 Carbine\n",
      "Automatic Sequence Controlled Calculator\n",
      "IBM 701\n",
      "IBM 305 RAMAC\n",
      "7000\n",
      "1400\n",
      "artificial intelligence\n",
      "Arthur L. Samuel\n",
      "Poughkeepsie\n",
      "IBM 704\n",
      "FORTRAN\n",
      "SABRE reservation system\n",
      "American Airlines\n",
      "Selectric\n",
      "\n",
      "IBM System/360\n",
      "University of Michigan\n",
      "\n",
      "Saturn V Instrument Unit\n",
      "IBM System/360\n",
      "IBM System/370\n",
      "IBM mainframe\n",
      "mainframe computer\n",
      "OS/VS1\n",
      "MVS\n",
      "CICS\n",
      "[39]\n",
      "Sherman Antitrust Act\n",
      "[40]\n",
      "Forrest Parry\n",
      "magnetic stripe card\n",
      "George J. Laurer\n",
      "Universal Product Code\n",
      "[41]\n",
      "World Bank\n",
      "financial swaps\n",
      "[42]\n",
      "IBM PC\n",
      "[43]\n",
      "[44]\n",
      "AdStar\n",
      "Lexmark\n",
      "[45]\n",
      "Clayton & Dubilier\n",
      "leveraged buyout\n",
      "[46]\n",
      "[47]\n",
      "[48]\n",
      "[49]\n",
      "[50]\n",
      "Ambra Computer Corporation\n",
      "clone\n",
      "PowerPC\n",
      "workstations\n",
      "[51]\n",
      "[52]\n",
      "[53]\n",
      "Lou Gerstner\n",
      "RJR Nabisco\n",
      "[54]\n",
      "PwC\n",
      "IBM Global Services\n",
      "[55]\n",
      "[56]\n",
      "\n",
      "hard-disk drive\n",
      "DRAM\n",
      "UPC bar code\n",
      "magnetic stripe card\n",
      "[57]\n",
      "Compaq\n",
      "Dell\n",
      "[58]\n",
      "[59]\n",
      "LG\n",
      "South Korean\n",
      "[60]\n",
      "[61]\n",
      "[62]\n",
      "[63]\n",
      "Xnote\n",
      "[64]\n",
      "sold all of its personal computer business\n",
      "Lenovo\n",
      "[65]\n",
      "SPSS Inc.\n",
      "Blue Gene\n",
      "National Medal of Technology and Innovation\n",
      "Barack Obama\n",
      "Watson\n",
      "Jeopardy!\n",
      "Kenexa\n",
      "[66]\n",
      "web hosting service\n",
      "[67]\n",
      "Davao City\n",
      "[68]\n",
      "x86\n",
      "[69]\n",
      "Power ISA\n",
      "Apple Inc.\n",
      "[70]\n",
      "[71]\n",
      "[72]\n",
      "[73]\n",
      "Tencent\n",
      "[74]\n",
      "Cisco\n",
      "[75]\n",
      "UnderArmour\n",
      "[76]\n",
      "Box\n",
      "[77]\n",
      "Microsoft\n",
      "[78]\n",
      "VMware\n",
      "[79]\n",
      "CSC\n",
      "[80]\n",
      "Macy's\n",
      "[81]\n",
      "Sesame Workshop\n",
      "[82]\n",
      "Sesame Street\n",
      "Salesforce.com\n",
      "[83]\n",
      "[84]\n",
      "Cleversafe\n",
      "The Weather Company\n",
      "Weather.com\n",
      "[85]\n",
      "[86]\n",
      "A Boy and His Atom\n",
      "Ustream\n",
      "[87]\n",
      "[88]\n",
      "[89]\n",
      "Groupon\n",
      "[90]\n",
      "The Weather Company\n",
      "[91]\n",
      "Red Hat\n",
      "[92]\n",
      "[93]\n",
      "[94]\n",
      "[95]\n",
      "John Kelly III\n",
      "Brad Smith\n",
      "Microsoft\n",
      "Vatican\n",
      "Artificial Intelligence (AI)\n",
      "[96]\n",
      "[97]\n",
      "Kyndryl\n",
      "[98]\n",
      "[99]\n",
      "[100]\n",
      "[101]\n",
      "[102]\n",
      "[103]\n",
      "[104]\n",
      "[105]\n",
      "Russian invasion of Ukraine\n",
      "[106]\n",
      "[107]\n",
      "[108]\n",
      "[109]\n",
      "[110]\n",
      "Software AG\n",
      "webMethods\n",
      "[111]\n",
      "edit\n",
      "edit\n",
      "[112]\n",
      "Fortune 500\n",
      "[113]\n",
      "[114]\n",
      "[115]\n",
      "[116]\n",
      "[117]\n",
      "[118]\n",
      "[a]\n",
      "edit\n",
      "\n",
      "Armonk, New York\n",
      "[119]\n",
      "[120]\n",
      "[121]\n",
      "[122]\n",
      "[123]\n",
      "[update]\n",
      "[2]\n",
      "IBM Watson\n",
      "Astor Place\n",
      "Austin, Texas\n",
      "Research Triangle Park (Raleigh-Durham), North Carolina\n",
      "Rochester, Minnesota\n",
      "Silicon Valley, California\n",
      "1250 René-Lévesque\n",
      "One Atlantic Center\n",
      "Pangu Plaza\n",
      "[124]\n",
      "Beijing National Stadium (\"Bird's Nest\")\n",
      "2008 Summer Olympics\n",
      "IBM India Private Limited\n",
      "Bangalore\n",
      "Coimbatore\n",
      "Chennai\n",
      "Kochi\n",
      "Ahmedabad\n",
      "Delhi\n",
      "Kolkata\n",
      "Mumbai\n",
      "Pune\n",
      "Gurugram\n",
      "Noida\n",
      "Bhubaneshwar\n",
      "Surat\n",
      "Visakhapatnam\n",
      "Hyderabad\n",
      "Bangalore\n",
      "Jamshedpur\n",
      "IBM Rome Software Lab\n",
      "Hursley House\n",
      "330 North Wabash\n",
      "Cambridge Scientific Center\n",
      "IBM Toronto Software Lab\n",
      "IBM Building (Seattle)\n",
      "IBM Hakozaki Facility\n",
      "IBM Yamato Facility\n",
      "IBM Canada Head Office Building\n",
      "[125]\n",
      "IBM Somers Office Complex\n",
      "Spango Valley\n",
      "Tour Descartes\n",
      "Marcel Breuer\n",
      "Eero Saarinen\n",
      "Ludwig Mies van der Rohe\n",
      "I.M. Pei\n",
      "Ricardo Legorreta\n",
      "Honor Award\n",
      "National Building Museum\n",
      "[126]\n",
      "United States Environmental Protection Agency\n",
      "Fortune 500\n",
      "commuter\n",
      "[127]\n",
      "Endicott, New York\n",
      "[128]\n",
      "[129]\n",
      "edit\n",
      "List of IBM products\n",
      "\n",
      "Blue Gene\n",
      "National Medal of Technology and Innovation\n",
      "[update]\n",
      "cloud computing\n",
      "commerce\n",
      "data\n",
      "analytics\n",
      "Internet of things\n",
      "[130]\n",
      "IT infrastructure\n",
      "mobile\n",
      "[131]\n",
      "cybersecurity\n",
      "[132]\n",
      "IBM Cloud\n",
      "infrastructure as a service\n",
      "software as a service\n",
      "platform as a service\n",
      "cloud delivery models\n",
      "Bluemix\n",
      "SoftLayer\n",
      "dedicated server\n",
      "managed hosting\n",
      "cloud computing\n",
      "[133]\n",
      "cryptographic splitting\n",
      "[134]\n",
      "Hardware\n",
      "Power microprocessors\n",
      "Xbox 360\n",
      "[135]\n",
      "PlayStation 3\n",
      "Nintendo\n",
      "Wii U\n",
      "[136]\n",
      "[137]\n",
      "Secure Blue\n",
      "[138]\n",
      "TrueNorth\n",
      "neuromorphic\n",
      "CMOS\n",
      "integrated circuit\n",
      "[139]\n",
      "all-flash arrays\n",
      "[140]\n",
      "IT outsourcing\n",
      "data centers\n",
      "[141]\n",
      "IBM Developer\n",
      "SPSS\n",
      "statistical analysis\n",
      "Kenexa\n",
      "retention\n",
      "buzzword\n",
      "BrassRing\n",
      "[142]\n",
      "The Weather Company\n",
      "weather.com\n",
      "Weather Underground\n",
      "[143]\n",
      "Smarter Planet\n",
      "sustainable development\n",
      "[144]\n",
      "[145]\n",
      "smart grids\n",
      "[146]\n",
      "water management\n",
      "[147]\n",
      "[148]\n",
      "[149]\n",
      "developerWorks\n",
      "software developers\n",
      "[150]\n",
      "IBM Watson\n",
      "natural language processing\n",
      "unstructured data\n",
      "[151]\n",
      "Jeopardy!\n",
      "Ken Jennings\n",
      "Brad Rutter\n",
      "Memorial Sloan Kettering Cancer Center\n",
      "oncology\n",
      "melanoma\n",
      "[152]\n",
      "[153]\n",
      "\n",
      "IBM Q System One\n",
      "IBM Q System One\n",
      "[154]\n",
      "New York City Police Department\n",
      "IBM Cognos Analytics\n",
      "CompStat\n",
      "[155]\n",
      "[156]\n",
      "[157]\n",
      "[158]\n",
      "Amazon Web Services\n",
      "[159]\n",
      "[160]\n",
      "Watsonx\n",
      "Generative AI\n",
      "Granite\n",
      "LLMs\n",
      "fine tuning\n",
      "[161]\n",
      "open-sourced\n",
      "Hugging Face\n",
      "[162]\n",
      "Lexmark\n",
      "ThinkPad\n",
      "ThinkCentre\n",
      "Lenovo\n",
      "fabless\n",
      "semiconductors\n",
      "GlobalFoundries\n",
      "Kyndryl\n",
      "[163]\n",
      "[164]\n",
      "Turbonomic\n",
      "[165]\n",
      "Watson Health\n",
      "Francisco Partners\n",
      "[166]\n",
      "Rapidus\n",
      "[167]\n",
      "[168]\n",
      "edit\n",
      "\n",
      "Thomas J. Watson Research Center\n",
      "Yorktown Heights, New York\n",
      "\n",
      "IBM Fellow\n",
      "Benoit Mandelbrot\n",
      "fractal geometry\n",
      "Columbia University\n",
      "IBM Research\n",
      "[169]\n",
      "Thomas J. Watson Research Center\n",
      "Almaden lab\n",
      "Australia lab\n",
      "Brazil lab\n",
      "Haifa lab\n",
      "Bangalore\n",
      "Tokyo lab\n",
      "Zurichlab\n",
      "Nairobi\n",
      "R&D\n",
      "[170]\n",
      "Watson\n",
      "[171]\n",
      "Open Source Initiative\n",
      "Linux\n",
      "[172]\n",
      "Linux Technology Center\n",
      "Linux kernel\n",
      "[173]\n",
      "open-source licenses\n",
      "platform-independent\n",
      "software framework\n",
      "Eclipse\n",
      "[174]\n",
      "ICU\n",
      "Java\n",
      "relational database management system\n",
      "Apache Derby\n",
      "open source\n",
      "SCO v. IBM\n",
      "inventions\n",
      "automated teller machine (ATM)\n",
      "dynamic random access memory (DRAM)\n",
      "electronic keypunch\n",
      "financial swap\n",
      "floppy disk\n",
      "hard disk drive\n",
      "magnetic stripe card\n",
      "relational database\n",
      "RISC\n",
      "SABRE airline reservation system\n",
      "SQL\n",
      "Universal Product Code (UPC)\n",
      "virtual machine\n",
      "scanning tunneling microscope\n",
      "individual xenon atoms\n",
      "[175]\n",
      "patents\n",
      "patents\n",
      "[9]\n",
      "Leo Esaki\n",
      "Gerd Binnig\n",
      "Heinrich Rohrer\n",
      "scanning tunneling microscope\n",
      "[176]\n",
      "Georg Bednorz\n",
      "Alex Müller\n",
      "superconductivity\n",
      "Turing Award\n",
      "Frances E. Allen\n",
      "[177]\n",
      "National Medals of Technology (USA)\n",
      "National Medals of Science (USA)\n",
      "edit\n",
      "\n",
      "John F. Kennedy International Airport\n",
      "[178]\n",
      "[179]\n",
      "dress code\n",
      "[178]\n",
      "[180]\n",
      "graphic designer\n",
      "Paul Rand\n",
      "[181]\n",
      "Helvetica\n",
      "IBM Plex\n",
      "Masters Tournament\n",
      "major championships\n",
      "iPhone\n",
      "[182]\n",
      "Ginni Rometty\n",
      "Augusta National Golf Club\n",
      "[183]\n",
      "U.S. Open\n",
      "Wimbledon\n",
      "[184]\n",
      "Olympic Games\n",
      "[185]\n",
      "National Football League\n",
      "[186]\n",
      "[187]\n",
      "Fortune\n",
      "green company\n",
      "Newsweek\n",
      "[188]\n",
      "Barron's\n",
      "[189]\n",
      "Fortune\n",
      "Fast Company\n",
      "technology consulting\n",
      "Vault\n",
      "[190]\n",
      "[191]\n",
      "Drucker Institute\n",
      "[192]\n",
      "2022 Russian invasion of Ukraine\n",
      "Polish Humanitarian Action\n",
      "People in Need\n",
      "[193]\n",
      "ESG\n",
      "CO2e emissions\n",
      "[194]\n",
      "[195]\n",
      "edit\n",
      "edit\n",
      "IBM and unions\n",
      "List of IBM CEOs\n",
      "\n",
      "\n",
      "IBM Watson\n",
      "Jeopardy!\n",
      "group life insurance\n",
      "Thomas J. Watson, Jr.\n",
      "Brown vs. Board of Education\n",
      "Civil Rights Act of 1964\n",
      "Human Rights Campaign\n",
      "[196]\n",
      "health benefits\n",
      "genetic information\n",
      "Working Mother\n",
      "[197]\n",
      "human resources\n",
      "[198]\n",
      "humanitarian work\n",
      "[199]\n",
      "interns\n",
      "Extreme Blue\n",
      "[200]\n",
      "[201]\n",
      "Master Inventor\n",
      "IBM Fellow\n",
      "[202]\n",
      "Louis V. Gerstner Jr.\n",
      "[203]\n",
      "[204]\n",
      "[205]\n",
      "[206]\n",
      "[207]\n",
      "unions represent some IBM workers\n",
      "[208]\n",
      "American football\n",
      "X-League\n",
      "Big Blue\n",
      "[209]\n",
      "Mac\n",
      "PC\n",
      "Linux distribution\n",
      "[210]\n",
      "[211]\n",
      "edit\n",
      "Apple Inc.\n",
      "Tim Cook\n",
      "[212]\n",
      "EDS\n",
      "Ross Perot\n",
      "Microsoft\n",
      "John W. Thompson\n",
      "SAP\n",
      "Hasso Plattner\n",
      "Gartner\n",
      "Gideon Gartner\n",
      "Advanced Micro Devices (AMD)\n",
      "Lisa Su\n",
      "[213]\n",
      "Cadence Design Systems\n",
      "Anirudh Devgan\n",
      "[214]\n",
      "Citizens Financial Group\n",
      "Ellen Alemany\n",
      "Yahoo!\n",
      "Alfred Amoroso\n",
      "AT&T\n",
      "C. Michael Armstrong\n",
      "Xerox Corporation\n",
      "David T. Kearns\n",
      "G. Richard Thoman\n",
      "[215]\n",
      "Fair Isaac Corporation\n",
      "Mark N. Greene\n",
      "[216]\n",
      "Citrix Systems\n",
      "Ed Iacobucci\n",
      "ASOS.com\n",
      "Lenovo\n",
      "Steve Ward\n",
      "Teradata\n",
      "Kenneth Simonds\n",
      "Patricia Roberts Harris\n",
      "United States Secretary of Housing and Urban Development\n",
      "African American\n",
      "woman\n",
      "United States Cabinet\n",
      "[217]\n",
      "Samuel K. Skinner\n",
      "U.S. Secretary of Transportation\n",
      "White House Chief of Staff\n",
      "U.S. Senators\n",
      "Mack Mattingly\n",
      "Thom Tillis\n",
      "Wisconsin\n",
      "Scott Walker\n",
      "[218]\n",
      "U.S. Ambassadors\n",
      "Vincent Obsitnik\n",
      "Slovakia\n",
      "Arthur K. Watson\n",
      "France\n",
      "Thomas Watson Jr.\n",
      "Soviet Union\n",
      "U.S. Representatives\n",
      "Todd Akin\n",
      "[219]\n",
      "Glenn Andrews\n",
      "Robert Garcia\n",
      "Katherine Harris\n",
      "[220]\n",
      "Amo Houghton\n",
      "Jim Ross Lightfoot\n",
      "Thomas J. Manton\n",
      "Donald W. Riegle Jr.\n",
      "Ed Zschau\n",
      "NASA\n",
      "Michael J. Massimino\n",
      "Canadian astronaut\n",
      "Governor General\n",
      "Julie Payette\n",
      "Dave Matthews\n",
      "[221]\n",
      "Harvey Mudd College\n",
      "Maria Klawe\n",
      "Western Governors University\n",
      "Robert Mendenhall\n",
      "University of Kentucky\n",
      "Lee T. Todd Jr.\n",
      "University of Iowa\n",
      "Bruce Harreld\n",
      "NFL\n",
      "Bill Carollo\n",
      "[222]\n",
      "Rangers F.C.\n",
      "John McClelland\n",
      "Nobel Prize in Literature\n",
      "J. M. Coetzee\n",
      "Thomas Watson Jr.\n",
      "11th national president\n",
      "Boy Scouts of America\n",
      "edit\n",
      "Anthem\n",
      "Dow Chemical\n",
      "Johnson and Johnson\n",
      "Royal Dutch Shell\n",
      "UPS\n",
      "Vanguard\n",
      "Cornell University\n",
      "U.S. Navy admiral\n",
      "[223]\n",
      "[224]\n",
      "Warren Buffett\n",
      "holding company\n",
      "Berkshire Hathaway\n",
      "[225]\n",
      "[226]\n",
      "edit\n",
      "List of electronics brands\n",
      "List of largest Internet companies\n",
      "List of largest manufacturing companies by revenue\n",
      "Tech companies in the New York City metropolitan region\n",
      "Top 100 US Federal Contractors\n",
      "Quantum Energy Teleportation\n",
      "edit\n",
      "^\n",
      "Kyndryl\n",
      "edit\n",
      "a\n",
      "b\n",
      "Appendix to Hearings Before the Committee on Patents, House of Representatives, Seventy-Fourth Congress, on H. R. 4523, Part III\n",
      "archived\n",
      "a\n",
      "b\n",
      "\"IBM Is Blowing Up Its Annual Performance Review\"\n",
      "Archived\n",
      "^\n",
      "\"IBM – Arvind Krishna – Chief Executive Officer\"\n",
      "Archived\n",
      "^\n",
      "\"IBM Newsroom - Gary Cohn\"\n",
      "^\n",
      "\"US SEC: Form 10-K IBM\"\n",
      "U.S. Securities and Exchange Commission\n",
      "^\n",
      "\"IBM100 - The Making of International Business Machines\"\n",
      "the original\n",
      "^\n",
      "\"Trust and responsibility. Earned and practiced daily\"\n",
      "^\n",
      "\"10-K\"\n",
      "Archived\n",
      "a\n",
      "b\n",
      "\"Top Patent Holders of 2020\"\n",
      "Archived\n",
      "^\n",
      "\"2021 Top 50 US Patent Assignees\"\n",
      "^\n",
      "\"Why IBM is no longer interested in breaking patent records–and how it plans to measure innovation in the age of open source and quantum computing\"\n",
      "Archived\n",
      "a\n",
      "b\n",
      "\"IBM | Founding, History, & Products | Britannica\"\n",
      "^\n",
      "ISBN\n",
      "0-470-86412-5\n",
      "^\n",
      "\"Origin of the IBM PC | Low End Mac\"\n",
      "^\n",
      "\"IBM Tops U.S. Patent List for 28th Consecutive Year with Innovations in Artificial Intelligence, Hybrid Cloud, Quantum Computing and Cyber-Security\"\n",
      "^\n",
      "\"IBM unveils new quantum computing chip to 'explore new frontiers of science'\"\n",
      "ISSN\n",
      "0261-3077\n",
      "^\n",
      "\"The Evolution Of AI: From IBM And AWS To OpenAI and Anthropic\"\n",
      "^\n",
      "\"IBM Realigns Its Storage Business To Match Data-Driven Enterprise Needs\"\n",
      "^\n",
      "\"About us\"\n",
      "^\n",
      "\"Fortune 500\"\n",
      "^\n",
      "Schofield, Jack\n",
      "\"IBM shows growth after 22 straight quarters of declining revenues, but has it turned the corner?\"\n",
      "the original\n",
      "^\n",
      "\"IBM Brand Ranking | All Brand Rankings where IBM is listed!\"\n",
      "^\n",
      "Images of America: IBM in Endicott\n",
      "Arcadia Publishing\n",
      "ISBN\n",
      "0-7385-3700-4\n",
      "Archived\n",
      "^\n",
      "\"Dey dial recorder, early 20th century\"\n",
      "Archived\n",
      "^\n",
      "\"Hollerith 1890 Census Tabulator\"\n",
      "Columbia University\n",
      "Archived\n",
      "^\n",
      "\"Employee Punch Clocks\"\n",
      "the original\n",
      "^\n",
      "\"Tabulating Concerns Unite: Flint & Co. Bring Four Together with $19,000,000 capital\"\n",
      "Archived\n",
      "^\n",
      "\"The origins of IBM | IBM\"\n",
      "^\n",
      "The Lengthening Shadow: The Life of Thomas J. Watson\n",
      "89–93\n",
      "^\n",
      "ISBN\n",
      "978-1-000-87875-2\n",
      "^\n",
      "a\n",
      "b\n",
      "c\n",
      "\"Chronological History of IBM, 1910s\"\n",
      "Archived\n",
      "^\n",
      "Wherever Men Trade: The Romance of the Cash Register\n",
      "ISBN\n",
      "978-0-405-04713-8\n",
      "OCLC\n",
      "243101\n",
      "^\n",
      "^\n",
      "\"Made in the USA: American tech inventions\"\n",
      "^\n",
      "^\n",
      "IBM and the Holocaust: The Strategic Alliance Between Nazi Germany and America's Most Powerful Corporation\n",
      "ISBN\n",
      "978-0-914153-10-8\n",
      "^\n",
      "ISBN\n",
      "978-1-4594-0987-3\n",
      "^\n",
      "Campbell-Kelly, Martin\n",
      "MIT Press\n",
      "^\n",
      "\"Monopolization: Corporate Strategy, the IBM Cases, and the Transformation of the Law\"\n",
      "Texas Law Review\n",
      "Archived\n",
      "^\n",
      "\"The history of the UPC bar code and how the bar code symbol and system became a world standard\"\n",
      "Archived\n",
      "^\n",
      "McGraw Hill\n",
      "^\n",
      "\"'Break Up IBM,' Cry Some Investors Who See Value in Those Baby Blues\"\n",
      "^\n",
      "\"Big Blue still breaking up its bureaucracy\"\n",
      "^\n",
      "\"Facts, Figures on IBM's 13 Decentralized Firms\"\n",
      "^\n",
      "\"The Executive Computer; Can I.B.M. Learn From a Unit It Freed?\"\n",
      "^\n",
      "\"IBM Plans Division For Its PC Business; One Executive Expected to Be Put in Control\"\n",
      "the original\n",
      "^\n",
      "\"With New Approach and Executive Team, IBM Seeks a Rebirth\"\n",
      "the original\n",
      "^\n",
      "\"IBM to Unveil New Structure of PC Business\"\n",
      "^\n",
      "\"IBM reports record loss of $8 billion\"\n",
      "^\n",
      "\"I.B.M. and Dell Stake Out the Little Picture in PC's\"\n",
      "the original\n",
      "^\n",
      "\"IBM Power Personal Systems group to be folded into PC Co\"\n",
      "^\n",
      "\"Life science: Fade or flourish ?\"\n",
      "the original\n",
      "^\n",
      "\"IBM Archives: Louis V. Gerstner, Jr\"\n",
      "Archived\n",
      "^\n",
      "\"IBM to acquire PwC Consulting for $3.5 billion\"\n",
      "^\n",
      "\"IBM grabs consulting giant for $3.5 billion\"\n",
      "^\n",
      "\"Not Your Father's PC Company Anymore\"\n",
      "^\n",
      "\"The Strategy For I.B.M.: Loss-Leader PC Sales\"\n",
      "ISSN\n",
      "0362-4331\n",
      "^\n",
      "\"Big Blue to combine PC division with PSG\"\n",
      "^\n",
      "\"IBM, LG Electronics Call Halt To PC Joint Venture in Korea\"\n",
      "The Wall Street Journal\n",
      "ISSN\n",
      "0099-9660\n",
      "^\n",
      "\"LG, IBM to split by end of year\"\n",
      "Korea JoongAng Daily\n",
      "^\n",
      "\"IBM, LG Electronics to End Joint Venture\"\n",
      "Forbes\n",
      "the original\n",
      "^\n",
      "Vance, Ashlee\n",
      "\"South Korea slams IBM with server slush fund charges\"\n",
      "^\n",
      "\"Laptop Retrospective\"\n",
      "^\n",
      "\"Lenovo Completes Acquisition Of IBM's Personal Computing Division\"\n",
      "Archived\n",
      "^\n",
      "\"IBM Plans to Acquire Texas Memory Systems\"\n",
      "Archived\n",
      "^\n",
      "\"IBM to buy website hosting service SoftLayer\"\n",
      "Archived\n",
      "^\n",
      "\"Inside the Video Surveillance Program IBM Built for Philippine Strongman Rodrigo Duterte\"\n",
      "Archived\n",
      "^\n",
      "\"Lenovo says $2.1 billion IBM x86 server deal to close on Wednesday\"\n",
      "Archived\n",
      "^\n",
      "\"Apple + IBM\"\n",
      "Archived\n",
      "^\n",
      "\"Apple Teams Up With IBM For Huge, Expansive Enterprise Push\"\n",
      "Archived\n",
      "^\n",
      "\"Landmark IBM Twitter partnership to help businesses make decisions\"\n",
      "Archived\n",
      "^\n",
      "\"IBM Announces Marketing Partnership With Facebook\"\n",
      "Archived\n",
      "^\n",
      "\"Tencent teams up with IBM to offer business software over the cloud\"\n",
      "Archived\n",
      "^\n",
      "\"Cisco and IBM's New Partnership Is a Lot About Talk\"\n",
      "Archived\n",
      "^\n",
      "\"IBM, Under Armour Team Up To Bring Cognitive Computing To Fitness Apps\"\n",
      "Archived\n",
      "^\n",
      "\"IBM, Box Cloud Partnership: What It Means\"\n",
      "Archived\n",
      "^\n",
      "\"Microsoft just made a deal with IBM – and Apple should be nervous\"\n",
      "Archived\n",
      "^\n",
      "\"VMware and SugarCRM expand partnerships with IBM, make services available on IBM Cloud\"\n",
      "Archived\n",
      "^\n",
      "\"IBM, CSC Expand Their Cloud Deal to the Mainframe\"\n",
      "^\n",
      "\"Macy's Taps IBM, Satisfi for In-Store Shopping Companion\"\n",
      "^\n",
      "\"Sesame Workshop, IBM partner to use Watson for preschoolers\"\n",
      "Archived\n",
      "^\n",
      "\"IBM, Salesforce Strike Global Partnership on Cloud, AI\"\n",
      "Archived\n",
      "^\n",
      "\"IBM Buys Merge Healthcare to Boost Watson Health Cloud\"\n",
      "Archived\n",
      "^\n",
      "\"IBM Agrees to Acquire Weather Channel's Digital Assets\"\n",
      "Archived\n",
      "^\n",
      "\"IBM to Acquire the Weather Company\"\n",
      "Archived\n",
      "^\n",
      "\"IBM acquires Ustream, launches cloud video unit\"\n",
      "Archived\n",
      "^\n",
      "\"IBM Acquires Ustream: Behind the Acquisition\"\n",
      "Archived\n",
      "^\n",
      "\"Big Blue isn't so big anymore\"\n",
      "Archived\n",
      "^\n",
      "\"Groupon sues 'once-great' IBM over patent\"\n",
      "Archived\n",
      "^\n",
      "\"IBM Buys Digital Part of The Weather Company\"\n",
      "Archived\n",
      "^\n",
      "\"IBM to Acquire Red Hat for About $33 Billion\"\n",
      "The Wall Street Journal\n",
      "ISSN\n",
      "0099-9660\n",
      "Archived\n",
      "^\n",
      "\"IBM to Acquire Linux Distributor Red Hat for $33.4 Billion\"\n",
      "Archived\n",
      "^\n",
      "\"IBM to acquire Red Hat, completely changing the cloud landscape and becoming world's #1 hybrid cloud provider\"\n",
      "Archived\n",
      "^\n",
      "\"IBM Closes Landmark Acquisition of Red Hat for $34 Billion; Defines Open, Hybrid Cloud Future\"\n",
      "Archived\n",
      "^\n",
      "\"Cisco Systems joins Microsoft, IBM in Vatican pledge to ensure ethical use and development of AI\"\n",
      "The Associated Press\n",
      "^\n",
      "\"IBM To Accelerate Hybrid Cloud Growth Strategy And Execute Spin-Off Of Market-Leading Managed Infrastructure Services Unit\"\n",
      "Archived\n",
      "^\n",
      "\"IBM to break up 109-year old company to focus on cloud growth\"\n",
      "Archived\n",
      "^\n",
      "\"IBM spins off a quarter of the company to focus on the cloud\"\n",
      "Archived\n",
      "^\n",
      "\"IBM shares rise on plans to spin off its IT infrastructure unit and focus on the cloud business\"\n",
      "Archived\n",
      "^\n",
      "\"IBM to Spin Off Services Unit to Accelerate Cloud-Computing Pivot\"\n",
      "Archived\n",
      "^\n",
      "\"IBM Splits Into Two Companies\"\n",
      "Archived\n",
      "^\n",
      "\"IBM Spinning Off Infrastructure Managed Services Group To Focus On Cloud Is A Good Move\"\n",
      "Archived\n",
      "^\n",
      "\"IBM names Martin Schroeter as CEO of $19B NewCo services spinoff\"\n",
      "Archived\n",
      "^\n",
      "\"IBM names former financial chief Martin Schroeter as head of new IT infrastructure services company\"\n",
      "The Economic Times\n",
      "Reuters\n",
      "Archived\n",
      "^\n",
      "\"Update on Our Actions: War in Ukraine\"\n",
      "^\n",
      "\"IBM finally shutters Russian operations, lays off staff\"\n",
      "^\n",
      "\"IBM Extends Watson.x Governance & Compliance with Manta Acquisition\"\n",
      "^\n",
      "\"IBM suspends ads on X after corporate ads appeared next to pro-Nazi content\"\n",
      "Archived\n",
      "^\n",
      "\"Advertisers Push Back at Social Media Firms over Antisemitism\"\n",
      "Archived\n",
      "^\n",
      "\"IBM to buy Software AG's enterprise integration platforms for $2.3 billion\"\n",
      "^\n",
      "\"IBM Market Cap 2010–2023 | IBM\"\n",
      "Archived\n",
      "^\n",
      "\"Fortune 500\"\n",
      "Archived\n",
      "^\n",
      "\"The Truth About IBM's Buybacks\"\n",
      "Archived\n",
      "^\n",
      "\"IBM and the financial engineering economy: James Saft\"\n",
      "Archived\n",
      "^\n",
      "\"Boring IBM Just Got a Lot More Interesting\"\n",
      "Archived\n",
      "^\n",
      "\"IBM Fundamentalanalyse | KGV | Kennzahlen\"\n",
      "^\n",
      "\"IBM 2008-2016\"\n",
      "the original\n",
      "^\n",
      "\"Contact Us\"\n",
      "Archived\n",
      "^\n",
      "\"Dominance Ended, I.B.M. Fights Back\"\n",
      "Archived\n",
      "^\n",
      "\"IBM's New Headquarters Reflects A Change in Corporate Style\"\n",
      "The New York Times\n",
      "Archived\n",
      "^\n",
      "\"On the Dedication of the Louis V. Gerstner, Jr., Center for Learning – THINK Blog\"\n",
      "Archived\n",
      "^\n",
      "\"Property Overview\"\n",
      "the original\n",
      "^\n",
      "\"Company Overview of IBM China Company Limited\"\n",
      "Archived\n",
      "^\n",
      "\"Watson IoT Headquarters\"\n",
      "Archived\n",
      "^\n",
      "The Washington Post\n",
      "^\n",
      "\"Environmental Protection\"\n",
      "Archived\n",
      "^\n",
      "\"Village of Endicott Environmental Investigations\"\n",
      "Archived\n",
      "^\n",
      "\"In an I.B.M. Village, Pollution Fears Taint Relations With Neighbors\"\n",
      "Archived\n",
      "^\n",
      "\"IBM Investing $3B in Internet of Things\"\n",
      "Archived\n",
      "^\n",
      "\"Digital workplace services\"\n",
      "Archived\n",
      "^\n",
      "\"IBM Products\"\n",
      "Archived\n",
      "^\n",
      "\"Data Center Knowledge – SoftLayer: $78 Million in First Quarter Revenue\"\n",
      "Archived\n",
      "^\n",
      "\"Cloud computing news: Security\"\n",
      "Archived\n",
      "^\n",
      "\"IBM delivers Power-based chip for Microsoft Xbox 360 worldwide launch\"\n",
      "Archived\n",
      "^\n",
      "\"IBM microprocessors drive the new Nintendo WiiU console\"\n",
      "Archived\n",
      "^\n",
      "\"IBM's 45nm SOI microprocessors at core of Nintendo Wii U\"\n",
      "the original\n",
      "^\n",
      "\"Building a smarter planet\"\n",
      "Archived\n",
      "^\n",
      "\"New research initiative sees IBM commit $3 bn\"\n",
      "the original\n",
      "^\n",
      "\"IBM launches flash arrays for smaller enterprises, aims to court EMC, Dell customers\"\n",
      "Archived\n",
      "^\n",
      "\"IBM. Global locations for your global business\"\n",
      "Archived\n",
      "^\n",
      "\"Kenexa Corporation | Company Profile from Hoover's\"\n",
      "Archived\n",
      "^\n",
      "\"IBM to Acquire the Weather Company\"\n",
      "Archived\n",
      "^\n",
      "\"Big Blue's Smarter Marketing Playbook\"\n",
      "Archived\n",
      "^\n",
      "\"At IBM Research, a constant quest for the bleeding edge\"\n",
      "^\n",
      "\"Smart Grid\"\n",
      "the original\n",
      "^\n",
      "\"Smarter Water Management\"\n",
      "the original\n",
      "^\n",
      "\"Smart traffic\"\n",
      "the original\n",
      "^\n",
      "\"Smarter Buildings\"\n",
      "the original\n",
      "^\n",
      "\"About developerWorks\"\n",
      "IBM developerWorks\n",
      "Archived\n",
      "^\n",
      "\"What is Watson?\"\n",
      "Archived\n",
      "^\n",
      "\"Watson Oncology\"\n",
      "the original\n",
      "^\n",
      "\"IBM's Watson Now A Customer Service Agent, Coming To Smartphones Soon\"\n",
      "Archived\n",
      "^\n",
      "\"IBM Unveils Q System One Quantum Computer\"\n",
      "Archived\n",
      "^\n",
      "\"NYPD changes the crime control equation by transforming the way it uses information\"\n",
      "Archived\n",
      "^\n",
      "\"IBM to build Europe's first quantum computer in Germany\"\n",
      "Archived\n",
      "^\n",
      "\"IBM Policy\"\n",
      "^\n",
      "\"IBM exits facial recognition business, calls for police reform\"\n",
      "^\n",
      "\"IBM steps up its cloud partnership strategy with AWS deal\"\n",
      "^\n",
      "\"How Quantum Computing Will Transform Our World\"\n",
      "^\n",
      "\"IBM rolls out new generative AI features and models\"\n",
      "^\n",
      "\"IBM Makes Granite AI Models Open-Source Under New InstructLab Platform\"\n",
      "ExtremeTech\n",
      "^\n",
      "\"IBM to Spin off $19B Business to Focus on Cloud Computing\"\n",
      "^\n",
      "\"IBM to name infrastructure services business 'Kyndryl' after spinoff\"\n",
      "Archived\n",
      "^\n",
      "\"IBM to Acquire Software Provider Turbonomic for Over $1.5 Billion\"\n",
      "Archived\n",
      "^\n",
      "\"IBM sells Watson Health assets to investment firm Francisco Partners\"\n",
      "ZDNet\n",
      "Archived\n",
      "^\n",
      "\"IBM and Rapidus Form Strategic Partnership to Build Advanced Semiconductor Technology and Ecosystem in Japan\"\n",
      "^\n",
      "\"GlobalFoundries sues IBM, says trade secrets were unlawfully given to Japan's Rapidus\"\n",
      "^\n",
      "\"IBM Research: Global labs\"\n",
      "Archived\n",
      "^\n",
      "\"IBM's expenditure on research and development from 2005 to 2015 (in billion U.S. dollars)\"\n",
      "Archived\n",
      "^\n",
      "\"Ginni Rometty just set a big goal for IBM: spending $4 billion to bring in $40 billion\"\n",
      "Archived\n",
      "^\n",
      "\"IBM launches biggest Linux lineup ever\"\n",
      "the original\n",
      "^\n",
      "\"IBM invests in Brazil Linux Tech Center\"\n",
      "LWN.net\n",
      "Archived\n",
      "^\n",
      "\"Interview: The Eclipse code donation\"\n",
      "the original\n",
      "^\n",
      "\"IBM Archives: \"IBM\" atoms\"\n",
      "Archived\n",
      "^\n",
      "\"The Nobel Prize in Physics 1986 – Press Release\"\n",
      "Archived\n",
      "^\n",
      "Communications of the ACM\n",
      "doi\n",
      "10.1145/1866739.1866752\n",
      "ISSN\n",
      "0001-0782\n",
      "S2CID\n",
      "11847872\n",
      "a\n",
      "b\n",
      "Postphenomenology: A Critical Companion to Ihde\n",
      "State University of New York Press\n",
      "ISBN\n",
      "0-7914-6787-2\n",
      "Archived\n",
      "^\n",
      "Logos, Letterheads & Business Cards: Design for Profit\n",
      "ISBN\n",
      "2-88046-750-0\n",
      "permanent dead link\n",
      "^\n",
      "The Essential Guide to Computing: The Story of Information Technology\n",
      "55\n",
      "ISBN\n",
      "0-13-019469-7\n",
      "^\n",
      "\"IBM Archives\"\n",
      "Archived\n",
      "^\n",
      "\"IBM and Masters Celebrate 20 Years\"\n",
      "Archived\n",
      "^\n",
      "\"IBM CEO Ginni Rometty is Augusta National's third female member\"\n",
      "Archived\n",
      "^\n",
      "\"Why IBM dominates the U.S. Open\"\n",
      "Archived\n",
      "^\n",
      "\"IBM, Olympics Part Ways After 40 Years\"\n",
      "Archived\n",
      "^\n",
      "\"IBM Ends Its NFL Sponsorship Over Difference in Views\"\n",
      "Archived\n",
      "^\n",
      "\"Best Global Brands Ranking for 2012\"\n",
      "the original\n",
      "^\n",
      "\"IBM #1 in Green Rankingss for 2012\"\n",
      "Archived\n",
      "^\n",
      "\"The World's Most Respected Companies\"\n",
      "Archived\n",
      "^\n",
      "\"Tech Consulting Firm Rankings 2012: Best Firms in Each Practice Area\"\n",
      "the original\n",
      "^\n",
      "\"The World's Most Valuable Brands\"\n",
      "Forbes\n",
      "the original\n",
      "^\n",
      "\"The Best-Managed Companies of 2020—and How They Got That Way\"\n",
      "Archived\n",
      "^\n",
      "\"Tech companies increase donations to Ukraine\"\n",
      "^\n",
      "\"IBM's ESG Datasheet for 2020Q4\"\n",
      "the original\n",
      "Alt URL\n",
      "Archived\n",
      "Wayback Machine\n",
      "^\n",
      "\"IBM Commits To Net Zero Greenhouse Gas Emissions By 2030\"\n",
      "^\n",
      "\"International Business Machines Corp. (IBM) profile\"\n",
      "permanent dead link\n",
      "^\n",
      "\"IBM\"\n",
      "Archived\n",
      "^\n",
      "\"The IBM Corporate Service Corps\"\n",
      "Archived\n",
      "^\n",
      "\"Why IBM Gives Top Employees a Month to Do Service Abroad\"\n",
      "Archived\n",
      "^\n",
      "\"Extreme Blue web page\"\n",
      "Archived\n",
      "^\n",
      "\"IBM Launches Distinguished Designer Program\"\n",
      "^\n",
      "Strategic Marketing Communications: New Ways to Build and Integrate Communications\n",
      "ISBN\n",
      "0-7494-2918-6\n",
      "Archived\n",
      "^\n",
      "\"IBM Attire\"\n",
      "Archived\n",
      "^\n",
      "\"IBM stands for 'I've Been Moved'\"\n",
      "Archived\n",
      "^\n",
      "\"IBM stands for \"I'm by myself' for teleworkers of the blue giant\"\n",
      "Archived\n",
      "^\n",
      "Intelligent Mentoring\n",
      "ISBN\n",
      "978-0-13-700949-7\n",
      "Archived\n",
      "^\n",
      "\"The Union Avoidance Industry in the United States\"\n",
      "doi\n",
      "10.1111/j.1467-8543.2006.00518.x\n",
      "S2CID\n",
      "155066215\n",
      "the original\n",
      "^\n",
      "\"IBM Global Unions Links\"\n",
      "the original\n",
      "^\n",
      "\"In Japan, IBM employees have formed a football team complete with pro stadium, cheerleaders and televised games\"\n",
      "Archived\n",
      "^\n",
      "\"Switch to Macs from PCs reportedly saves IBM $270 per user\"\n",
      "the original\n",
      "^\n",
      "\"After overhauling its performance review system, IBM now uses an app to give and receive real-time feedback\"\n",
      "Archived\n",
      "^\n",
      "\"Timothy D. Cook Profile\"\n",
      "the original\n",
      "^\n",
      "\"Executive Biographies – Lisa Su\"\n",
      "Archived\n",
      "^\n",
      "\"Leadership Team\"\n",
      "Archived\n",
      "^\n",
      "^\n",
      "\"Fair Isaac CEO: FICO criticism isn't 'fair'\"\n",
      "Archived\n",
      "^\n",
      "DeLaat, Jacqueline\n",
      "Women in World History, Vol. 7: Harr-I\n",
      "ISBN\n",
      "0-7876-4066-2\n",
      "^\n",
      "\"Wisconsin Gov. Scott Walker: A 2016 Contender But Not A College Graduate\"\n",
      "Archived\n",
      "^\n",
      "\"Official Manual of the State of Missouri, 1993–1994\"\n",
      "permanent dead link\n",
      "^\n",
      "\"Katherine Harris' Biography\"\n",
      "Project Vote Smart\n",
      "Archived\n",
      "^\n",
      "\"POP/JAZZ; A Band That Built a Career From the Ground Up\"\n",
      "The New York Times\n",
      "Archived\n",
      "^\n",
      "\"Board of Directors — Officers\"\n",
      "the original\n",
      "^\n",
      "\"Board of Directors\"\n",
      "Archived\n",
      "^\n",
      "\"International Business Machines Corporation Common Stock (IBM) Institutional Holdings\"\n",
      "^\n",
      "\"Warren Buffett never liked tech stocks. So why does he own Apple?\"\n",
      "The Washington Post\n",
      "Archived\n",
      "^\n",
      "\"Warren Buffett says Berkshire Hathaway has sold completely out of IBM\"\n",
      "Archived\n",
      "edit\n",
      "History of IBM § Further reading\n",
      "ISBN\n",
      "978-0-7099-3828-6\n",
      "Oxford University Press\n",
      "Black, Edwin\n",
      "IBM and the Holocaust: The Strategic Alliance Between Nazi Germany and America's Most Powerful Corporation\n",
      "ISBN\n",
      "0-914153-10-2\n",
      "Big Blues: The Unmaking of IBM\n",
      "ISBN\n",
      "978-0-517-59197-0\n",
      "Gerstner, Louis V. Jr.\n",
      "ISBN\n",
      "0-00-715448-8\n",
      "ISBN\n",
      "978-0-9833734-6-9\n",
      "ISBN\n",
      "978-0-8166-7039-0\n",
      "The Global IBM: Leadership in Multinational Management\n",
      "374\n",
      "ISBN\n",
      "978-0-396-09259-9\n",
      "ISBN\n",
      "0-87584-654-8\n",
      "MIT Press\n",
      "Steinhilper, Ulrich\n",
      "ISBN\n",
      "1-872836-75-5\n",
      "ISBN\n",
      "978-1-4401-9258-6\n",
      "Watson, Thomas Jr.\n",
      "Father, Son & Co: My Life at IBM and Beyond\n",
      "ISBN\n",
      "0-553-29023-1\n",
      "edit\n",
      "sister projects\n",
      "Definitions\n",
      "Media\n",
      "News\n",
      "Quotations\n",
      "Texts\n",
      "Textbooks\n",
      "Resources\n",
      "Official website\n",
      "\n",
      "IBM companies\n",
      "OpenCorporates\n",
      "Google\n",
      "SEC filings\n",
      "Yahoo!\n",
      "v\n",
      "t\n",
      "e\n",
      "IBM\n",
      "History\n",
      "History\n",
      "Mergers and acquisitions\n",
      "PC business acquisition by Lenovo\n",
      "Products\n",
      "Mainframe\n",
      "IBM Z\n",
      "Power microprocessors\n",
      "Power Systems\n",
      "Storage\n",
      "FlashSystem\n",
      "DS8000\n",
      "Q System One\n",
      "Q System Two\n",
      "Eagle\n",
      "Osprey\n",
      "Heron\n",
      "Condor\n",
      "Blue Gene\n",
      "Cell microprocessors\n",
      "PowerPC\n",
      "Midrange computer\n",
      "Personal Computer\n",
      "Selectric\n",
      "ThinkPad\n",
      "alphaWorks\n",
      "Carbon Design System\n",
      "Cloud\n",
      "Cloudant\n",
      "Cognos Analytics\n",
      "Connections\n",
      "Criminal Reduction Utilising Statistical History\n",
      "Fortran\n",
      "ILOG\n",
      "Information Management Software\n",
      "Lotus Software\n",
      "Mainframe operating systems\n",
      "Mashup Center\n",
      "Planning Analytics\n",
      "PureQuery\n",
      "Quantum Platform\n",
      "Qiskit\n",
      "OpenQASM\n",
      "Rational Software\n",
      "SPSS\n",
      "Tivoli Software\n",
      "Service Automation Manager\n",
      "Watson\n",
      "Watsonx\n",
      "Granite\n",
      "WebSphere\n",
      "Apptio\n",
      "Center for The Business of Government\n",
      "Consulting\n",
      "Promontory\n",
      "Kenexa\n",
      "International subsidiaries\n",
      "India\n",
      "Press\n",
      "Red Hat\n",
      "Research\n",
      "AdStar\n",
      "AIM alliance\n",
      "Kaleida Labs\n",
      "Taligent\n",
      "Ambra Computer\n",
      "Cognos\n",
      "EduQuest\n",
      "Kyndryl\n",
      "Lexmark\n",
      "Merative\n",
      "Microelectronics\n",
      "Product Center\n",
      "Science Research Associates\n",
      "Service Bureau\n",
      "The Weather Company\n",
      "Weather Underground\n",
      "1250 René-Lévesque\n",
      "One Atlantic Center\n",
      "Rome Software Lab\n",
      "Toronto Software Lab\n",
      "330 North Wabash\n",
      "Honolulu\n",
      "Seattle\n",
      "Thomas J. Watson Research Center\n",
      "Hakozaki Facility\n",
      "Yamato Facility\n",
      "Cambridge Scientific Center\n",
      "IBM Hursley\n",
      "Canada Head Office Building\n",
      "IBM Rochester\n",
      "Deep Thunder\n",
      "Developer\n",
      "Develothon\n",
      "Fellow\n",
      "The Great Mind Challenge\n",
      "Linux Technology Center\n",
      "SkillsBuild\n",
      "Smarter Planet\n",
      "Virtual Universe Community\n",
      "World Community Grid\n",
      "Think conference\n",
      "Automated teller machine\n",
      "Cynefin framework\n",
      "DRAM\n",
      "Electronic keypunch\n",
      "Floppy disk\n",
      "Hard disk drive\n",
      "Magnetic stripe card\n",
      "Relational model\n",
      "Sabre airline reservation system\n",
      "Scanning tunneling microscope\n",
      "Financial swaps\n",
      "Universal Product Code\n",
      "Big Blue\n",
      "Commercial Processing Workload\n",
      "Customer engineer\n",
      "Globally integrated enterprise\n",
      "e-business\n",
      "Think slogan\n",
      "CEOs\n",
      "Thomas J. Watson\n",
      "Thomas Watson Jr.\n",
      "T. Vincent Learson\n",
      "Frank T. Cary\n",
      "John R. Opel\n",
      "John Fellows Akers\n",
      "Louis V. Gerstner Jr.\n",
      "Samuel J. Palmisano\n",
      "Ginni Rometty\n",
      "Arvind Krishna\n",
      "Thomas Buberl\n",
      "David Farr\n",
      "Alex Gorsky\n",
      "Michelle J. Howard\n",
      "Arvind Krishna\n",
      "Andrew Liveris\n",
      "Martha E. Pollack\n",
      "Joseph R. Swedish\n",
      "Peter R. Voser\n",
      "A Boy and His Atom\n",
      "American football\n",
      "Rugby union\n",
      "Common Public License\n",
      "IBM Public License\n",
      "Deep Blue\n",
      "Deep Thought\n",
      "Dynamic infrastructure\n",
      "GlobalFoundries\n",
      "GUIDE International\n",
      "IBM and the Holocaust\n",
      "International chess tournament\n",
      "Lucifer cipher\n",
      "Mathematica\n",
      "IBM Plex\n",
      "SHARE computing\n",
      "ScicomP\n",
      "Unions\n",
      "Category\n",
      "Commons\n",
      "Navigational boxes\n",
      "FOSS\n",
      "Midrange computers\n",
      "Operating systems\n",
      "Personal computers\n",
      "System/360\n",
      "System/370\n",
      "Typewriters\n",
      "Vacuum tube computers\n",
      "v\n",
      "t\n",
      "e\n",
      "Dow Jones Industrial Average\n",
      "3M\n",
      "Amazon\n",
      "American Express\n",
      "Amgen\n",
      "Apple\n",
      "Boeing\n",
      "Caterpillar\n",
      "Chevron\n",
      "Cisco\n",
      "Coca-Cola\n",
      "Disney\n",
      "Dow\n",
      "Goldman Sachs\n",
      "Home Depot\n",
      "Honeywell\n",
      "IBM\n",
      "Intel\n",
      "Johnson & Johnson\n",
      "JPMorgan Chase\n",
      "McDonald's\n",
      "Merck\n",
      "Microsoft\n",
      "Nike\n",
      "Procter & Gamble\n",
      "Salesforce\n",
      "Travelers\n",
      "UnitedHealth\n",
      "Verizon\n",
      "Visa\n",
      "Walmart\n",
      "v\n",
      "t\n",
      "e\n",
      "Acer\n",
      "Apple\n",
      "Asus\n",
      "Dell\n",
      "Fujitsu\n",
      "Huawei\n",
      "HP\n",
      "Lenovo\n",
      "LG\n",
      "Microsoft\n",
      "MSI\n",
      "NEC\n",
      "Panasonic\n",
      "Razer\n",
      "Samsung\n",
      "Sharp\n",
      "Dynabook\n",
      "Vaio\n",
      "Cisco\n",
      "Dell EMC\n",
      "HPE\n",
      "IBM\n",
      "Inspur\n",
      "NetApp\n",
      "Oracle\n",
      "Fujitsu\n",
      "HPE\n",
      "IBM\n",
      "Largest IT companies\n",
      "Computer hardware manufacturers\n",
      "Home computer hardware companies\n",
      "Server hardware\n",
      "Mainframe computers\n",
      "v\n",
      "t\n",
      "e\n",
      "information storage\n",
      "ADATA\n",
      "Amazon\n",
      "Apple\n",
      "Dell\n",
      "Dell EMC\n",
      "Fujitsu\n",
      "Google\n",
      "Hitachi Data Systems\n",
      "Hewlett Packard Enterprise\n",
      "IBM\n",
      "Kingston Technology\n",
      "Kioxia\n",
      "Microsoft\n",
      "NetApp\n",
      "Oracle\n",
      "Plextor\n",
      "Samsung\n",
      "Seagate\n",
      "Silicon Power\n",
      "Sony\n",
      "Transcend Information\n",
      "Western Digital\n",
      "v\n",
      "t\n",
      "e\n",
      "software\n",
      "Adobe\n",
      "Amadeus IT Group\n",
      "Amazon\n",
      "Apple\n",
      "Autodesk\n",
      "Citrix\n",
      "FIS\n",
      "Google\n",
      "HPE\n",
      "IBM\n",
      "Intuit\n",
      "Infor\n",
      "Microsoft\n",
      "Oracle\n",
      "Quest Software\n",
      "Sage Group\n",
      "SAP\n",
      "Tencent\n",
      "Largest IT companies\n",
      "Largest software companies\n",
      "Category:Software companies\n",
      "v\n",
      "t\n",
      "e\n",
      "Electronics industry in the United States\n",
      "Home appliances\n",
      "Apple\n",
      "Bose\n",
      "Cisco\n",
      "Corsair\n",
      "Dell\n",
      "Dolby Laboratories\n",
      "Element Electronics\n",
      "Emerson Radio\n",
      "Harman\n",
      "Honeywell\n",
      "HP\n",
      "InFocus\n",
      "Jensen Electronics\n",
      "Kenmore\n",
      "Kingston\n",
      "Kimball\n",
      "Koss\n",
      "Lexmark\n",
      "Logitech\n",
      "Magnavox\n",
      "Marantz\n",
      "Memorex\n",
      "Microsoft\n",
      "Monster\n",
      "Plantronics\n",
      "Planar Systems\n",
      "Razer\n",
      "Seagate\n",
      "Seiki Digital\n",
      "Skullcandy\n",
      "Turtle Beach\n",
      "ViewSonic\n",
      "Vizio\n",
      "Western Digital\n",
      "HGST\n",
      "SanDisk\n",
      "Westinghouse Electric Company\n",
      "Westinghouse Electronics\n",
      "Xerox\n",
      "Electronic components\n",
      "3M\n",
      "Achronix\n",
      "Analog Devices\n",
      "Maxim Integrated\n",
      "Applied Materials\n",
      "Altera\n",
      "AVX\n",
      "Cirque\n",
      "Diodes Inc.\n",
      "Flex\n",
      "Jabil\n",
      "KEMET\n",
      "Maxwell Technologies\n",
      "Sanmina\n",
      "Vishay\n",
      "Semiconductor devices\n",
      "AMD\n",
      "Ampere Computing\n",
      "Apple\n",
      "Broadcom\n",
      "Cypress Semiconductor\n",
      "GlobalFoundries\n",
      "IBM\n",
      "Intel\n",
      "Interlink\n",
      "KLA-Tencor\n",
      "Lam Research\n",
      "Lattice\n",
      "Marvell Technology\n",
      "Microchip\n",
      "Atmel\n",
      "Micron\n",
      "NetApp\n",
      "Nimbus Data\n",
      "Nvidia\n",
      "Mellanox\n",
      "NXP\n",
      "onsemi\n",
      "Qualcomm\n",
      "Silicon Image\n",
      "Synaptics\n",
      "Tabula\n",
      "Texas Instruments\n",
      "Xilinx\n",
      "Zilog\n",
      "Mobile devices\n",
      "Apple\n",
      "BLU\n",
      "Google\n",
      "Lenovo\n",
      "Motorola Mobility\n",
      "Cadence Design Systems\n",
      "Cray\n",
      "GE\n",
      "RCA\n",
      "Oracle Corporation\n",
      "Synopsys\n",
      "Actel\n",
      "Atari Corporation\n",
      "Commodore\n",
      "Compaq\n",
      "Fairchild\n",
      "Freescale\n",
      "LSI\n",
      "Microsemi\n",
      "National Semiconductor\n",
      "Palm\n",
      "Philco\n",
      "RCA\n",
      "Signetics\n",
      "Silicon Graphics\n",
      "Solectron\n",
      "Sun Microsystems\n",
      "Zenith Electronics\n",
      "Authority control databases\n",
      "\n",
      "ISNI\n",
      "VIAF\n",
      "Norway\n",
      "Spain\n",
      "France\n",
      "BnF data\n",
      "Catalonia\n",
      "Germany\n",
      "Israel\n",
      "United States\n",
      "Sweden\n",
      "Latvia\n",
      "Japan\n",
      "Czech Republic\n",
      "Australia\n",
      "Greece\n",
      "Korea\n",
      "Croatia\n",
      "Poland\n",
      "Portugal\n",
      "CiNii\n",
      "MusicBrainz\n",
      "Museum of Modern Art\n",
      "2\n",
      "ULAN\n",
      "Trove\n",
      "SNAC\n",
      "IdRef\n",
      "Portals\n",
      "Companies\n",
      "Telecommunication\n",
      "\n",
      "Electronics\n",
      "\n",
      "Technology\n",
      "https://en.wikipedia.org/w/index.php?title=IBM&oldid=1238154440\n",
      "Categories\n",
      "IBM\n",
      "1911 establishments in New York (state)\n",
      "Technology companies established in 1911\n",
      "American companies established in 1911\n",
      "Cloud computing providers\n",
      "Collier Trophy recipients\n",
      "Companies based in Westchester County, New York\n",
      "Companies in the Dow Jones Industrial Average\n",
      "Companies in the Dow Jones Global Titans 50\n",
      "Companies in the S&P 500 Dividend Aristocrats\n",
      "Companies listed on the New York Stock Exchange\n",
      "Computer companies of the United States\n",
      "Computer hardware companies\n",
      "Computer systems companies\n",
      "Data companies\n",
      "Data quality companies\n",
      "Display technology companies\n",
      "Electronics companies of the United States\n",
      "Information technology consulting firms of the United States\n",
      "Multinational companies headquartered in the United States\n",
      "National Medal of Technology recipients\n",
      "Outsourcing companies\n",
      "Point of sale companies\n",
      "Software companies based in New York (state)\n",
      "Storage Area Network companies\n",
      "Software companies of the United States\n",
      "International information technology consulting firms\n",
      "Pages with non-numeric formatnum arguments\n",
      "CS1 German-language sources (de)\n",
      "All articles with dead external links\n",
      "Articles with dead external links from August 2023\n",
      "Articles with permanently dead external links\n",
      "Webarchive template wayback links\n",
      "Articles with dead external links from July 2018\n",
      "Articles with dead external links from March 2018\n",
      "Articles with short description\n",
      "Short description matches Wikidata\n",
      "Use American English from February 2019\n",
      "All Wikipedia articles written in American English\n",
      "Use mdy dates from February 2023\n",
      "Articles containing potentially dated statements from 2016\n",
      "All articles containing potentially dated statements\n",
      "Wikipedia articles containing buzzwords from October 2020\n",
      "Pages using Sister project links with default search\n",
      "OpenCorporates groupings\n",
      "Articles with ISNI identifiers\n",
      "Articles with VIAF identifiers\n",
      "Articles with BIBSYS identifiers\n",
      "Articles with BNE identifiers\n",
      "Articles with BNF identifiers\n",
      "Articles with BNFdata identifiers\n",
      "Articles with CANTICN identifiers\n",
      "Articles with GND identifiers\n",
      "Articles with J9U identifiers\n",
      "Articles with LCCN identifiers\n",
      "Articles with Libris identifiers\n",
      "Articles with LNB identifiers\n",
      "Articles with NDL identifiers\n",
      "Articles with NKC identifiers\n",
      "Articles with NLA identifiers\n",
      "Articles with NLG identifiers\n",
      "Articles with NLK identifiers\n",
      "Articles with NSK identifiers\n",
      "Articles with PLWABN identifiers\n",
      "Articles with PortugalA identifiers\n",
      "Articles with CINII identifiers\n",
      "Articles with MusicBrainz identifiers\n",
      "Articles with MoMA identifiers\n",
      "Articles with ULAN identifiers\n",
      "Articles with Trove identifiers\n",
      "Articles with SNAC-ID identifiers\n",
      "Articles with SUDOC identifiers\n",
      "Creative Commons Attribution-ShareAlike License 4.0\n",
      "\n",
      "Terms of Use\n",
      "Privacy Policy\n",
      "Wikimedia Foundation, Inc.\n",
      "Privacy policy\n",
      "About Wikipedia\n",
      "Disclaimers\n",
      "Contact Wikipedia\n",
      "Code of Conduct\n",
      "Developers\n",
      "Statistics\n",
      "Cookie statement\n",
      "Mobile view\n",
      "\n",
      "\n"
     ]
    }
   ],
   "source": [
    "# BeautifulSoup: is a Python library used for web scraping purposes to pull the data out of HTML and XML files.\n",
    "# Import Beautiful Soup to parse the web page content\n",
    "import requests\n",
    "from bs4 import BeautifulSoup\n",
    "\n",
    "# Specify the URL of the webpage you want to scrape\n",
    "url = 'https://en.wikipedia.org/wiki/IBM'\n",
    "\n",
    "# Send an HTTP GET request to the webpage\n",
    "response = requests.get(url)\n",
    "\n",
    "# Store the HTML content in a variable\n",
    "html_content = response.text\n",
    "\n",
    "# Create a BeautifulSoup object to parse the HTML\n",
    "soup = BeautifulSoup(html_content, 'html.parser')\n",
    "\n",
    "# Display a snippet of the HTML content\n",
    "print(html_content[:500])\n",
    "print('-----------------------------------------------------------------')\n",
    "\n",
    "# Navigating the HTML structure.\n",
    "# Find all <a> tags (anchor tags) in the HTML\n",
    "links = soup.find_all('a')\n",
    "\n",
    "# Iterate through the list of links and print their text\n",
    "for link in links:\n",
    "    print(link.text)"
   ]
  },
  {
   "cell_type": "code",
   "execution_count": 57,
   "id": "1f31591e-485b-49c7-9162-cd0908866da8",
   "metadata": {
    "collapsed": true,
    "jupyter": {
     "outputs_hidden": true,
     "source_hidden": true
    }
   },
   "outputs": [
    {
     "name": "stdout",
     "output_type": "stream",
     "text": [
      "                  name   id           family             order         genus  \\\n",
      "0            Persimmon   52        Ebenaceae           Rosales     Diospyros   \n",
      "1           Strawberry    3         Rosaceae           Rosales      Fragaria   \n",
      "2               Banana    1         Musaceae      Zingiberales          Musa   \n",
      "3               Tomato    5       Solanaceae         Solanales       Solanum   \n",
      "4                 Pear    4         Rosaceae           Rosales         Pyrus   \n",
      "5               Durian   60        Malvaceae          Malvales         Durio   \n",
      "6           Blackberry   64         Rosaceae           Rosales         Rubus   \n",
      "7          Lingonberry   65        Ericaceae          Ericales     Vaccinium   \n",
      "8                 Kiwi   66    Actinidiaceae  Struthioniformes       Apteryx   \n",
      "9               Lychee   67      Sapindaceae        Sapindales        Litchi   \n",
      "10           Pineapple   10     Bromeliaceae            Poales        Ananas   \n",
      "11                 Fig   68         Moraceae           Rosales         Ficus   \n",
      "12          Gooseberry   69  Grossulariaceae      Saxifragales         Ribes   \n",
      "13        Passionfruit   70   Passifloraceae      Malpighiales    Passiflora   \n",
      "14                Plum   71         Rosaceae           Rosales        Prunus   \n",
      "15              Orange    2         Rutaceae        Sapindales        Citrus   \n",
      "16          GreenApple   72         Rosaceae           Rosales         Malus   \n",
      "17           Raspberry   23         Rosaceae           Rosales         Rubus   \n",
      "18          Watermelon   25    Cucurbitaceae      Cucurbitales     Citrullus   \n",
      "19               Lemon   26         Rutaceae        Sapindales        Citrus   \n",
      "20               Mango   27    Anacardiaceae        Sapindales     Mangifera   \n",
      "21           Blueberry   33         Rosaceae           Rosales      Fragaria   \n",
      "22               Apple    6         Rosaceae           Rosales         Malus   \n",
      "23               Guava   37        Myrtaceae          Myrtales       Psidium   \n",
      "24             Apricot   35         Rosaceae           Rosales        Prunus   \n",
      "25               Melon   41    Cucurbitaceae     Cucurbitaceae       Cucumis   \n",
      "26           Tangerine   77         Rutaceae        Sapindales        Citrus   \n",
      "27            Pitahaya   78        Cactaceae    Caryophyllales     Cactaceae   \n",
      "28                Lime   44         Rutaceae        Sapindales        Citrus   \n",
      "29         Pomegranate   79       Lythraceae          Myrtales        Punica   \n",
      "30         Dragonfruit   80        Cactaceae    Caryophyllales  Selenicereus   \n",
      "31               Grape   81         Vitaceae           Vitales         Vitis   \n",
      "32               Morus   82         Moraceae           Rosales         Morus   \n",
      "33              Feijoa   76        Myrtaceae        Myrtoideae    Sellowiana   \n",
      "34             Avocado   84        Lauraceae          Laurales        Persea   \n",
      "35           Kiwifruit   85    Actinidiaceae          Ericales     Actinidia   \n",
      "36           Cranberry   87        Ericaceae          Ericales     Vaccinium   \n",
      "37              Cherry    9         Rosaceae           Rosales        Prunus   \n",
      "38               Peach   86         Rosaceae           Rosales        Prunus   \n",
      "39           Jackfruit   94         Moraceae           Rosales    Artocarpus   \n",
      "40        Horned Melon   95    Cucurbitaceae      Cucurbitales       Cucumis   \n",
      "41            Hazelnut   96       Betulaceae           Fagales       Corylus   \n",
      "42              Pomelo   98         Rutaceae        Sapindales        Citrus   \n",
      "43          Mangosteen   99       Clusiaceae      Malpighiales      Garcinia   \n",
      "44             Pumpkin  100    Cucurbitaceae      Cucurbitales     Cucurbita   \n",
      "45  Japanese Persimmon  101        Ebenaceae          Ericales     Diospyros   \n",
      "46              Papaya   42       Caricaceae       Brassicales        Carica   \n",
      "47              Annona  103       Annonaceae           Rosales       Annonas   \n",
      "48   Ceylon Gooseberry  104       Salicaceae      Malpighiales      Dovyalis   \n",
      "\n",
      "    nutritions.calories  nutritions.fat  nutritions.sugar  \\\n",
      "0                    81            0.00             18.00   \n",
      "1                    29            0.40              5.40   \n",
      "2                    96            0.20             17.20   \n",
      "3                    74            0.20              2.60   \n",
      "4                    57            0.10             10.00   \n",
      "5                   147            5.30              6.75   \n",
      "6                    40            0.40              4.50   \n",
      "7                    50            0.34              5.74   \n",
      "8                    61            0.50              9.00   \n",
      "9                    66            0.44             15.00   \n",
      "10                   50            0.12              9.85   \n",
      "11                   74            0.30             16.00   \n",
      "12                   44            0.60              0.00   \n",
      "13                   97            0.70             11.20   \n",
      "14                   46            0.28              9.92   \n",
      "15                   43            0.20              8.20   \n",
      "16                   21            0.10              6.40   \n",
      "17                   53            0.70              4.40   \n",
      "18                   30            0.20              6.00   \n",
      "19                   29            0.30              2.50   \n",
      "20                   60            0.38             13.70   \n",
      "21                   29            0.40              5.40   \n",
      "22                   52            0.40             10.30   \n",
      "23                   68            1.00              9.00   \n",
      "24                   15            0.10              3.20   \n",
      "25                   34            0.00              8.00   \n",
      "26                   45            0.40              9.10   \n",
      "27                   36            0.40              3.00   \n",
      "28                   25            0.10              1.70   \n",
      "29                   83            1.20             13.70   \n",
      "30                   60            1.50              8.00   \n",
      "31                   69            0.16             16.00   \n",
      "32                   43            0.39              8.10   \n",
      "33                   44            0.40              3.00   \n",
      "34                  160           14.66              0.66   \n",
      "35                   61            0.50              8.90   \n",
      "36                   46            0.10              4.00   \n",
      "37                   50            0.30              8.00   \n",
      "38                   39            0.25              8.40   \n",
      "39                   95            0.00             19.10   \n",
      "40                   44            1.26              0.50   \n",
      "41                  628           61.00              4.30   \n",
      "42                   37            0.00              8.50   \n",
      "43                   73            0.58             16.11   \n",
      "44                   25            0.30              3.30   \n",
      "45                   70            0.20             13.00   \n",
      "46                   39            0.30              4.40   \n",
      "47                   92            0.29              3.40   \n",
      "48                   47            0.30              8.10   \n",
      "\n",
      "    nutritions.carbohydrates  nutritions.protein  \n",
      "0                      18.00                0.00  \n",
      "1                       5.50                0.80  \n",
      "2                      22.00                1.00  \n",
      "3                       3.90                0.90  \n",
      "4                      15.00                0.40  \n",
      "5                      27.10                1.50  \n",
      "6                       9.00                1.30  \n",
      "7                      11.30                0.75  \n",
      "8                      15.00                1.10  \n",
      "9                      17.00                0.80  \n",
      "10                     13.12                0.54  \n",
      "11                     19.00                0.80  \n",
      "12                     10.00                0.90  \n",
      "13                     22.40                2.20  \n",
      "14                     11.40                0.70  \n",
      "15                      8.30                1.00  \n",
      "16                      3.10                0.40  \n",
      "17                     12.00                1.20  \n",
      "18                      8.00                0.60  \n",
      "19                      9.00                1.10  \n",
      "20                     15.00                0.82  \n",
      "21                      5.50                0.00  \n",
      "22                     11.40                0.30  \n",
      "23                     14.00                2.60  \n",
      "24                      3.90                0.50  \n",
      "25                      8.00                0.00  \n",
      "26                      8.30                0.00  \n",
      "27                      7.00                1.00  \n",
      "28                      8.40                0.30  \n",
      "29                     18.70                1.70  \n",
      "30                      9.00                9.00  \n",
      "31                     18.10                0.72  \n",
      "32                      9.80                1.44  \n",
      "33                      8.00                0.60  \n",
      "34                      8.53                2.00  \n",
      "35                     14.60                1.14  \n",
      "36                     12.20                0.40  \n",
      "37                     12.00                1.00  \n",
      "38                      9.50                0.90  \n",
      "39                     23.20                1.72  \n",
      "40                      7.56                1.78  \n",
      "41                     17.00               15.00  \n",
      "42                      9.67                0.82  \n",
      "43                     17.91                0.41  \n",
      "44                      4.60                1.10  \n",
      "45                     19.00                0.60  \n",
      "46                      5.80                0.50  \n",
      "47                     19.10                1.50  \n",
      "48                      9.60                1.20  \n"
     ]
    }
   ],
   "source": [
    "# Fruitvice API\n",
    "import requests\n",
    "import json\n",
    "\n",
    "# fruityvice API using requests.get(\"url\") funtion.\n",
    "data = requests.get(\"https://fruityvice.com/api/fruit/all\")\n",
    "\n",
    "# retrieve results using json.loads() function.\n",
    "results = json.loads(data.text)\n",
    "\n",
    "# convert our json data into pandas data frame.\n",
    "pd.DataFrame(results)\n",
    "\n",
    "# The result is in a nested json format. The 'nutrition' column contains multiple subcolumns,\n",
    "# so the data needs to be 'flattened' or normalized.\n",
    "df = pd.json_normalize(results)\n",
    "print(df)\n",
    "\n",
    "#  to know the family and genus of a cherry. its not working\n",
    "# cherry = df.loc[df['name'] == 'cherry']\n",
    "# (cherry.iloc[0]['family']) , (cherry.iloc[0]['genus'])"
   ]
  },
  {
   "cell_type": "code",
   "execution_count": 61,
   "id": "5f410c42-8463-4734-aea0-c98d8bb92944",
   "metadata": {
    "collapsed": true,
    "jupyter": {
     "outputs_hidden": true,
     "source_hidden": true
    }
   },
   "outputs": [],
   "source": [
    "# Scrapy: is an open-source and collaborative web crawling framework for Python. It is used to extract the data from the website.\n",
    "import scrapy\n",
    "class QuotesSpider(scrapy.Spider):\n",
    "    name = \"quotes\"\n",
    "    start_urls = ['http://quotes.toscrape.com/tag/humor/',]\n",
    "    def parse(self, response):\n",
    "        for quote in response.css('div.quote'):\n",
    "            yield {'quote': quote.css('span.text::text').get()}"
   ]
  },
  {
   "cell_type": "code",
   "execution_count": 63,
   "id": "14524afb-d809-4382-8e7c-86fe70f4cd02",
   "metadata": {
    "collapsed": true,
    "jupyter": {
     "outputs_hidden": true,
     "source_hidden": true
    }
   },
   "outputs": [],
   "source": [
    "# Selenium: is a tool used for controlling web browsers through programs and automating browser tasks.\n",
    "# from selenium import webdriver\n",
    "# driver = webdriver.Firefox()\n",
    "# driver.get(\"http://www.example.com\")"
   ]
  },
  {
   "cell_type": "code",
   "execution_count": 68,
   "id": "09ca5bb5-77ff-46ab-bc7e-c12f3e256094",
   "metadata": {
    "collapsed": true,
    "jupyter": {
     "outputs_hidden": true,
     "source_hidden": true
    }
   },
   "outputs": [
    {
     "name": "stdout",
     "output_type": "stream",
     "text": [
      "    Rank                                Bank name  \\\n",
      "0      1  Industrial and Commercial Bank of China   \n",
      "1      2               Agricultural Bank of China   \n",
      "2      3                  China Construction Bank   \n",
      "3      4                            Bank of China   \n",
      "4      5                           JPMorgan Chase   \n",
      "..   ...                                      ...   \n",
      "94    95                           Bank of Ningbo   \n",
      "95    96                                SEB Group   \n",
      "96    97                         Raiffeisen Group   \n",
      "97    98                            Handelsbanken   \n",
      "98   100                                      DNB   \n",
      "\n",
      "    Total assets (2023) (US$ billion)  \n",
      "0                             6303.44  \n",
      "1                             5623.12  \n",
      "2                             5400.28  \n",
      "3                             4578.28  \n",
      "4                             3875.39  \n",
      "..                                ...  \n",
      "94                             365.96  \n",
      "95                             358.79  \n",
      "96                             352.87  \n",
      "97                             351.79  \n",
      "98                             339.21  \n",
      "\n",
      "[99 rows x 3 columns]\n"
     ]
    }
   ],
   "source": [
    "# Web Scraping Tables using Pandas. we use pandas.read_html()\n",
    "\n",
    "import pandas as pd\n",
    "URL = 'https://en.wikipedia.org/wiki/List_of_largest_banks'\n",
    "tables = pd.read_html(URL)\n",
    "df = tables[0]\n",
    "print(df)"
   ]
  },
  {
   "cell_type": "code",
   "execution_count": 75,
   "id": "ba557df9-661e-4c84-9ad4-609d6f52ddeb",
   "metadata": {
    "collapsed": true,
    "jupyter": {
     "outputs_hidden": true,
     "source_hidden": true
    }
   },
   "outputs": [],
   "source": [
    "# Data Engineering Process:\n",
    "# 1. Extract - Getting data from multiple sources that are stored in diff formats(JSON, CSV, XLSX etc.).\n",
    "# 2. Transform - Removing the data that we don't need for further analysis and converting the data\n",
    "#                 in the format that all the data from the multiple sources is in the same format.\n",
    "# 3. Load - Loading the data inside a data warehouse. Data warehouse essentially contains large volumes of data\n",
    "#            that are accessed to gather insights."
   ]
  },
  {
   "cell_type": "code",
   "execution_count": 81,
   "id": "b1c8f575-26ba-4c8b-b151-fa3a2501d5a5",
   "metadata": {
    "collapsed": true,
    "jupyter": {
     "outputs_hidden": true,
     "source_hidden": true
    }
   },
   "outputs": [
    {
     "name": "stdout",
     "output_type": "stream",
     "text": [
      "     Pregnancies  Glucose  BloodPressure  SkinThickness  Insulin   BMI  \\\n",
      "0              6      148             72             35        0  33.6   \n",
      "1              1       85             66             29        0  26.6   \n",
      "2              8      183             64              0        0  23.3   \n",
      "3              1       89             66             23       94  28.1   \n",
      "4              0      137             40             35      168  43.1   \n",
      "..           ...      ...            ...            ...      ...   ...   \n",
      "763           10      101             76             48      180  32.9   \n",
      "764            2      122             70             27        0  36.8   \n",
      "765            5      121             72             23      112  26.2   \n",
      "766            1      126             60              0        0  30.1   \n",
      "767            1       93             70             31        0  30.4   \n",
      "\n",
      "     DiabetesPedigreeFunction  Age  Outcome  \n",
      "0                       0.627   50        1  \n",
      "1                       0.351   31        0  \n",
      "2                       0.672   32        1  \n",
      "3                       0.167   21        0  \n",
      "4                       2.288   33        1  \n",
      "..                        ...  ...      ...  \n",
      "763                     0.171   63        0  \n",
      "764                     0.340   27        0  \n",
      "765                     0.245   30        0  \n",
      "766                     0.349   47        1  \n",
      "767                     0.315   23        0  \n",
      "\n",
      "[768 rows x 9 columns]\n"
     ]
    },
    {
     "data": {
      "image/png": "[encoded data removed]",
      "text/plain": [
       "<Figure size 640x480 with 1 Axes>"
      ]
     },
     "metadata": {},
     "output_type": "display_data"
    }
   ],
   "source": [
    "# Context:** This dataset is originally from the \"NIODADAKD\". The objective of the dataset is to diagnostically predict \n",
    "# whether or not a patient has diabetes, based on certain diagnostic measurements included in the dataset.\n",
    "import aiohttp\n",
    "import asyncio\n",
    "import pandas as pd\n",
    "\n",
    "# import libraries FOR VISUALIZATION\n",
    "import matplotlib.pyplot as plt\n",
    "import seaborn as sns\n",
    "\n",
    "async def download(url, filename):\n",
    "    async with aiohttp.ClientSession() as session:\n",
    "        async with session.get(url) as response:\n",
    "            if response.status == 200:\n",
    "                with open(filename, \"wb\") as f:\n",
    "                    f.write(await response.read())\n",
    "\n",
    "# URL and filename\n",
    "url = \"https://cf-courses-data.s3.us.cloud-object-storage.appdomain.cloud/IBMDeveloperSkillsNetwork-PY0101EN-SkillsNetwork/labs/Module%205/data/diabetes.csv\"\n",
    "filename = \"diabetes.csv\"\n",
    "\n",
    "# Run the download function\n",
    "await download(url, filename)\n",
    "\n",
    "# Load the downloaded file into a DataFrame\n",
    "df = pd.read_csv(filename)\n",
    "print(df)\n",
    "\n",
    "# for visualization\n",
    "labels= 'Not Diabetic','Diabetic'\n",
    "plt.pie(df['Outcome'].value_counts(),labels=labels,autopct='%0.02f%%')\n",
    "plt.legend()\n",
    "plt.show()\n",
    "\n",
    "# Explanation:\n",
    "# Importing Libraries: I imported aiohttp for making asynchronous HTTP requests, asyncio for handling the event loop, and pandas for data manipulation.\n",
    "# download Function: This function uses aiohttp to fetch the content from the URL and writes it to a file.\n",
    "# URL and Filename: These are defined separately to avoid confusion.\n",
    "# Running the Download: The await keyword is used to run the asynchronous download function.\n",
    "# Reading the CSV: After downloading the file, it is read into a pandas DataFrame.\n",
    "\n",
    "# As you can see in diiagram, 65.10% females are not Diabetic and 34.90% are Diabetic."
   ]
  },
  {
   "cell_type": "code",
   "execution_count": 143,
   "id": "c5f9786e-01f4-4c6f-b79d-225092715a8f",
   "metadata": {
    "collapsed": true,
    "jupyter": {
     "outputs_hidden": true,
     "source_hidden": true
    }
   },
   "outputs": [],
   "source": [
    "# how to insert image in the cell. save the cell as markdown and then do this.\n",
    "# ![numpy image](file address)\n",
    "# ![numpy image](C:\\\\Users\\\\abhis\\\\OneDrive\\\\Desktop\\\\numpy.jpg)\n",
    "# without alt text \"numpy image\". numpy image is the description of the image\n",
    "# ![](file address)\n",
    "\n",
    "\n",
    "\n",
    "\n",
    "\n",
    "\n",
    "\n",
    "\n",
    "\n"
   ]
  }
 ],
 "metadata": {
  "kernelspec": {
   "display_name": "Python 3 (ipykernel)",
   "language": "python",
   "name": "python3"
  },
  "language_info": {
   "codemirror_mode": {
    "name": "ipython",
    "version": 3
   },
   "file_extension": ".py",
   "mimetype": "text/x-python",
   "name": "python",
   "nbconvert_exporter": "python",
   "pygments_lexer": "ipython3",
   "version": "3.11.7"
  }
 },
 "nbformat": 4,
 "nbformat_minor": 5
}
