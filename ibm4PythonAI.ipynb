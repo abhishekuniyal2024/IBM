{
 "cells": [
  {
   "cell_type": "markdown",
   "id": "ec18f3fe-fbc7-4d0d-8865-d335deb11773",
   "metadata": {},
   "source": [
    "22 JULY. IBM Python for AI"
   ]
  },
  {
   "cell_type": "code",
   "execution_count": 1,
   "id": "ba86c790-935d-4985-8afa-2f724bad4ec1",
   "metadata": {
    "collapsed": true,
    "jupyter": {
     "outputs_hidden": true
    }
   },
   "outputs": [
    {
     "name": "stdout",
     "output_type": "stream",
     "text": [
      "hey\n"
     ]
    }
   ],
   "source": [
    "print(\"hey\")"
   ]
  },
  {
   "cell_type": "code",
   "execution_count": 5,
   "id": "58c355d5-6da5-47b2-9f6d-2fcc652065bd",
   "metadata": {
    "collapsed": true,
    "jupyter": {
     "outputs_hidden": true
    }
   },
   "outputs": [
    {
     "name": "stdout",
     "output_type": "stream",
     "text": [
      "3.11.7 | packaged by Anaconda, Inc. | (main, Dec 15 2023, 18:05:47) [MSC v.1916 64 bit (AMD64)]\n"
     ]
    }
   ],
   "source": [
    "# Check the Python Version\n",
    "import sys\n",
    "print(sys.version)    #this line will print the python version"
   ]
  },
  {
   "cell_type": "code",
   "execution_count": 21,
   "id": "7cddfad1-292d-42fc-82be-433b6297f9b4",
   "metadata": {
    "collapsed": true,
    "jupyter": {
     "outputs_hidden": true
    }
   },
   "outputs": [
    {
     "name": "stdout",
     "output_type": "stream",
     "text": [
      "<class 'str'>\n",
      "<class 'int'>\n",
      "<class 'float'>\n",
      "<class 'bool'>\n"
     ]
    }
   ],
   "source": [
    "# types in PYthon\n",
    "a=\"abishek\"\n",
    "b=2\n",
    "c=3.5\n",
    "d=5>2\n",
    "\n",
    "print(type(a))\n",
    "print(type(b))\n",
    "print(type(c))\n",
    "print(type(d))"
   ]
  },
  {
   "cell_type": "code",
   "execution_count": 29,
   "id": "071b1b39-f540-4326-8497-53d827fee0c7",
   "metadata": {
    "collapsed": true,
    "jupyter": {
     "outputs_hidden": true
    }
   },
   "outputs": [
    {
     "name": "stdout",
     "output_type": "stream",
     "text": [
      "<class 'float'>\n",
      "<class 'int'>\n",
      "<class 'str'>\n",
      "<class 'bool'>\n",
      "<class 'int'>\n"
     ]
    }
   ],
   "source": [
    "# Typecasting -  changing data type\n",
    "n=3.0\n",
    "print(type(n))\n",
    "\n",
    "b=int(n)\n",
    "print(type(b))\n",
    "\n",
    "c=str(n)\n",
    "print(type(c))\n",
    "\n",
    "d=True\n",
    "print(type(d))\n",
    "e=int(d)\n",
    "print(type(e))"
   ]
  },
  {
   "cell_type": "code",
   "execution_count": 32,
   "id": "c34c9113-c46c-4eb5-8cd0-d456de854407",
   "metadata": {
    "collapsed": true,
    "jupyter": {
     "outputs_hidden": true
    }
   },
   "outputs": [
    {
     "name": "stdout",
     "output_type": "stream",
     "text": [
      "10\n",
      "5.0\n",
      "5.0\n"
     ]
    }
   ],
   "source": [
    "# Expression \n",
    "# Write an expression to add 30 and 20 and subtract 40\n",
    "print(30+20-40)\n",
    "# Write an expression to subtract 5 from 55 and divide the result by 10\n",
    "print((55-5)/10)\n",
    "# Write an expression to multiply 6 with 10 and divide the result by 12\n",
    "print((6*10)/12)"
   ]
  },
  {
   "cell_type": "code",
   "execution_count": 7,
   "id": "9c297020-b3d7-497c-87fb-f1bc5041f103",
   "metadata": {},
   "outputs": [
    {
     "name": "stdout",
     "output_type": "stream",
     "text": [
      "abhishek welcome\n",
      "hello abhishek welcome\n",
      "my name is abhishek and i live in india\n",
      "my name is abhishek and my country is india\n",
      "My name is abhishek and I stay in india.\n"
     ]
    }
   ],
   "source": [
    "# STRING\n",
    "name=\"abhishek\"\n",
    "country=\"india\"\n",
    "print(name + \" welcome\")\n",
    "print(\"hello\",name + \" welcome\")\n",
    "print(f\"my name is {name} and i live in {country}\")\n",
    "print(\"my name is\",name + \" and my country is\",country)\n",
    "print(\"My name is {} and I stay in {}.\".format(name, country))"
   ]
  },
  {
   "cell_type": "code",
   "execution_count": 29,
   "id": "9031de4e-e595-443d-8236-0a671a866fc6",
   "metadata": {},
   "outputs": [
    {
     "name": "stdout",
     "output_type": "stream",
     "text": [
      "my name is abhishek. \n",
      " I live in india\n",
      "--------------------------------------------------------------\n",
      "my name is abhishek \\n. i live in india\n",
      "--------------------------------------------------------------\n",
      "Raw String: C:\\new_folder\\file.txt\n"
     ]
    }
   ],
   "source": [
    "# Raw String. for handling textual data, especially when dealing with escape characters\n",
    "str= \"my name is abhishek. \\n I live in india\"\n",
    "print(str)\n",
    "print(\"--------------------------------------------------------------\")\n",
    "\n",
    "# \\n is not interpreted as a newline character, but rather as two separate characters, ‘’ and ‘n’\n",
    "raw_str=r\"my name is abhishek \\n. i live in india\"    #\n",
    "print(raw_str)\n",
    "print(\"--------------------------------------------------------------\")\n",
    "\n",
    "# another example, which is more realstic. without raw string, it will take \\n as next line.\n",
    "raw_string = r\"C:\\new_folder\\file.txt\"\n",
    "print(\"Raw String:\", raw_string)"
   ]
  },
  {
   "cell_type": "code",
   "execution_count": 59,
   "id": "e87a9ec0-1790-48b8-ad0b-ef1baaedab75",
   "metadata": {
    "collapsed": true,
    "jupyter": {
     "outputs_hidden": true
    }
   },
   "outputs": [
    {
     "name": "stdout",
     "output_type": "stream",
     "text": [
      "hey i am \n",
      "abhishek\n",
      "--------------------------------------------\n",
      "hey i am \tabhishek\n",
      "--------------------------------------------\n",
      "hey i amabhishelk\n",
      "--------------------------------------------\n",
      "hey i am \\ abhishek\n",
      "--------------------------------------------\n",
      "hey i am \\ abhishek\n"
     ]
    }
   ],
   "source": [
    "# escape sequence\n",
    "\n",
    "# \\n new line escape. enter new line\n",
    "print(\"hey i am \\nabhishek\")\n",
    "print(\"--------------------------------------------\")\n",
    "\n",
    "# \\t tab escape. it work as tab key, give space\n",
    "print(\"hey i am \\tabhishek\")\n",
    "print(\"--------------------------------------------\")\n",
    "\n",
    "# \\b backspace. it works as backspace key, revmove space\n",
    "print(\"hey i am \\babhishelk\")\n",
    "print(\"--------------------------------------------\")\n",
    "\n",
    "# Include back slash in string\n",
    "print(\"hey i am \\\\ abhishek\")\n",
    "print(\"--------------------------------------------\")\n",
    "\n",
    "# r will tell python that string will be display as raw string\n",
    "print(r\"hey i am \\ abhishek\")"
   ]
  },
  {
   "cell_type": "code",
   "execution_count": 43,
   "id": "6673c489-1469-42dd-ab45-e9b66cd18d2b",
   "metadata": {},
   "outputs": [
    {
     "name": "stdout",
     "output_type": "stream",
     "text": [
      "hi, world\n"
     ]
    }
   ],
   "source": [
    "# how to use strip string. to remove space from beginning and end both side\n",
    "a=\" hi, world \"\n",
    "print(a.strip())"
   ]
  },
  {
   "cell_type": "code",
   "execution_count": 47,
   "id": "aa4274a3-c39b-4307-82c3-d330ed41703a",
   "metadata": {},
   "outputs": [
    {
     "name": "stdout",
     "output_type": "stream",
     "text": [
      "hi world\n"
     ]
    }
   ],
   "source": [
    "# how to use replace string method(). most important\n",
    "b=\"hello world\"\n",
    "print(b.replace(\"hello\",\"hi\"))"
   ]
  },
  {
   "cell_type": "code",
   "execution_count": 45,
   "id": "4597797f-14a8-4522-9ae4-ceb565444567",
   "metadata": {},
   "outputs": [
    {
     "name": "stdout",
     "output_type": "stream",
     "text": [
      "['hello', 'python', 'programmer', '23']\n"
     ]
    }
   ],
   "source": [
    "#  how to use split string method(). split method split into substring\n",
    "t1= \"hello python programmer 23\"\n",
    "print(t1.split())"
   ]
  },
  {
   "cell_type": "code",
   "execution_count": 27,
   "id": "ef01f74e-16cb-4c69-9c7c-cf66f5f29ecc",
   "metadata": {},
   "outputs": [
    {
     "name": "stdout",
     "output_type": "stream",
     "text": [
      "before upper: Thriller is the sixth studio album\n",
      "After upper: THRILLER IS THE SIXTH STUDIO ALBUM\n",
      "After lower: thriller is the sixth studio album\n",
      "Is It A Title:  False\n",
      "34\n",
      "r\n",
      "hril\n",
      "mubla oiduts htxis eht si rellirhT\n",
      "iller is the sixth studio\n"
     ]
    }
   ],
   "source": [
    "# string manipulation and function\n",
    "\n",
    "a = \"Thriller is the sixth studio album\"\n",
    "print(\"before upper:\", a)\n",
    "b = a.upper()\n",
    "print(\"After upper:\", b)\n",
    "c = a.lower()\n",
    "print(\"After lower:\",c)\n",
    "\n",
    "print(\"Is It A Title: \",a.istitle())\n",
    "print(len(a))         # print length of string\n",
    "print(a[2])           # print character of index number 2\n",
    "print(a[1:5])         # print from 1 to 4\n",
    "print(a[::-1])        # print string in reverse\n",
    "print(a[3:-6])        # print from 3 to 28"
   ]
  },
  {
   "cell_type": "code",
   "execution_count": 12,
   "id": "751dc679-f2dc-4218-a548-bd8e988dcfa4",
   "metadata": {},
   "outputs": [
    {
     "name": "stdout",
     "output_type": "stream",
     "text": [
      "my name is Pankaj\n"
     ]
    }
   ],
   "source": [
    "# replace string \n",
    "name=\"my name is Abhishek\"\n",
    "name_find=name.replace(\"Abhishek\",\"Pankaj\")\n",
    "print(name_find)"
   ]
  },
  {
   "cell_type": "code",
   "execution_count": 48,
   "id": "bc192915-dcfa-49f0-a7ac-ca3ab7863461",
   "metadata": {},
   "outputs": [
    {
     "name": "stdout",
     "output_type": "stream",
     "text": [
      "['abhishek', 'pankaj', 'rahul', 'rohit']\n"
     ]
    }
   ],
   "source": [
    "#  append method in list. it always add element at end of the index\n",
    "name=[\"abhishek\",\"pankaj\",\"rahul\"]\n",
    "name.append(\"rohit\")\n",
    "print(name)"
   ]
  },
  {
   "cell_type": "code",
   "execution_count": 50,
   "id": "0091331b-bff5-442f-b64f-8eb21d311934",
   "metadata": {},
   "outputs": [
    {
     "name": "stdout",
     "output_type": "stream",
     "text": [
      "['abhishek', 'pankaj', 'SHARMA', 'rahul', 'rohit']\n"
     ]
    }
   ],
   "source": [
    "# insert() method ise use to add element at selected index number like index[2]\n",
    "name=[\"abhishek\",\"pankaj\",\"rahul\",\"rohit\"]\n",
    "name.insert(2,\"SHARMA\")\n",
    "print(name)"
   ]
  },
  {
   "cell_type": "code",
   "execution_count": 51,
   "id": "e613a11c-1f8d-429a-8821-057c2cc74cdb",
   "metadata": {},
   "outputs": [
    {
     "name": "stdout",
     "output_type": "stream",
     "text": [
      "['abhishek', 'pankaj', 'rahul']\n"
     ]
    }
   ],
   "source": [
    "# pop method () in a list. it always delete value from end of the index number\n",
    "name=[\"abhishek\",\"pankaj\",\"rahul\",\"rohit\"]\n",
    "name.pop()\n",
    "print(name)"
   ]
  },
  {
   "cell_type": "code",
   "execution_count": 52,
   "id": "17934418-8350-4604-92ff-86170e37d9bb",
   "metadata": {},
   "outputs": [
    {
     "name": "stdout",
     "output_type": "stream",
     "text": [
      "['abhishek', 'pankaj', 'rohit', 'kunal']\n"
     ]
    }
   ],
   "source": [
    "# pop method with index number for deleteing the selected element. pop only take 1 value\n",
    "name=[\"abhishek\",\"pankaj\",\"rahul\",\"rohit\",\"kunal\"]\n",
    "name.pop(2)\n",
    "print(name)"
   ]
  },
  {
   "cell_type": "code",
   "execution_count": 55,
   "id": "f6d350e3-0bc7-4938-b061-0ed6b274ef46",
   "metadata": {},
   "outputs": [
    {
     "name": "stdout",
     "output_type": "stream",
     "text": [
      "['abhishek', 'pankaj', 'rohit', 'kunal', 'rahul']\n",
      "['abhishek', 'pankaj', 'rohit', 'kunal']\n"
     ]
    }
   ],
   "source": [
    "#  remove method. only remove first match value. rahul in this case\n",
    "name=[\"abhishek\",\"pankaj\",\"rahul\",\"rohit\",\"kunal\",\"rahul\"]\n",
    "name.remove(\"rahul\")\n",
    "print(name)\n",
    "\n",
    "# to remove rahul every time, use while loop\n",
    "name2 = [\"abhishek\", \"pankaj\", \"rahul\", \"rohit\", \"kunal\", \"rahul\"]\n",
    "while \"rahul\" in name2:\n",
    "    name2.remove(\"rahul\")\n",
    "print(name2)"
   ]
  },
  {
   "cell_type": "code",
   "execution_count": 56,
   "id": "54c28b0c-71b9-471f-8b57-7ea75577cb78",
   "metadata": {},
   "outputs": [
    {
     "name": "stdout",
     "output_type": "stream",
     "text": [
      "['abhishek', 'kunal', 'pankaj', 'rahul', 'rohit']\n"
     ]
    }
   ],
   "source": [
    "# sort method\n",
    "name = [\"abhishek\", \"pankaj\", \"rahul\", \"rohit\", \"kunal\"]\n",
    "name.sort()\n",
    "print(name)"
   ]
  },
  {
   "cell_type": "code",
   "execution_count": 60,
   "id": "93a7b4f6-4e74-43c3-a81c-b8578fdfbf12",
   "metadata": {},
   "outputs": [
    {
     "name": "stdout",
     "output_type": "stream",
     "text": [
      "['kunal', 'rohit', 'rahul', 'pankaj', 'abhishek']\n",
      "['kunal', 'rohit', 'rahul', 'pankaj', 'abhishek']\n"
     ]
    }
   ],
   "source": [
    "# reverse list\n",
    "name = [\"abhishek\", \"pankaj\", \"rahul\", \"rohit\", \"kunal\"]\n",
    "name.reverse()\n",
    "print(name)\n",
    "\n",
    "# without using reverse. we can use slicing\n",
    "name2 = [\"abhishek\", \"pankaj\", \"rahul\", \"rohit\", \"kunal\"]\n",
    "print(name2[::-1])"
   ]
  },
  {
   "cell_type": "code",
   "execution_count": 61,
   "id": "7ec00ddd-152d-426d-ac37-4c40b8e1196d",
   "metadata": {},
   "outputs": [
    {
     "name": "stdout",
     "output_type": "stream",
     "text": [
      "['pankaj']\n",
      "['abhishek', 'pankaj', 'rahul', 'rohit']\n",
      "['abhishek', 'pankaj']\n",
      "['kunal', 'rohit', 'rahul', 'pankaj', 'abhishek']\n"
     ]
    }
   ],
   "source": [
    "# slicing. it return the range of character value.\n",
    "name = [\"abhishek\", \"pankaj\", \"rahul\", \"rohit\", \"kunal\"]\n",
    "print(name[1:2])\n",
    "print(name[0:4])\n",
    "print(name[0:-3])\n",
    "print(name[::-1])   # to reverse list without using reverse function"
   ]
  },
  {
   "cell_type": "code",
   "execution_count": 62,
   "id": "5186387e-d1b4-4bc3-ab2f-032b3bcc44aa",
   "metadata": {},
   "outputs": [
    {
     "name": "stdout",
     "output_type": "stream",
     "text": [
      "[]\n"
     ]
    }
   ],
   "source": [
    "# clear() method. to clear all\n",
    "name=[\"abhishek\",\"pankaj\",\"rahul\",\"rohit\",\"kunal\"]\n",
    "name.clear()\n",
    "print(name)"
   ]
  },
  {
   "cell_type": "code",
   "execution_count": 13,
   "id": "09eec679-6020-4239-8b48-f38979ab14b4",
   "metadata": {},
   "outputs": [
    {
     "data": {
      "text/plain": [
       "10"
      ]
     },
     "execution_count": 13,
     "metadata": {},
     "output_type": "execute_result"
    }
   ],
   "source": [
    "#  substring in the strng\n",
    "name=\"abhishek, pankaj, rahul, rohit\"\n",
    "name.find(\"pankaj\")"
   ]
  },
  {
   "cell_type": "code",
   "execution_count": 15,
   "id": "8e4836e7-852f-4b1a-b795-54221961aff5",
   "metadata": {},
   "outputs": [
    {
     "name": "stdout",
     "output_type": "stream",
     "text": [
      "['Abhishek', 'Uniyal']\n"
     ]
    }
   ],
   "source": [
    "#Split the substring into list\n",
    "name = \"Abhishek Uniyal\"\n",
    "split_string = (name.split())\n",
    "print(split_string)"
   ]
  },
  {
   "cell_type": "markdown",
   "id": "db7acba4-ce5a-4023-81e0-d135d14e3f8a",
   "metadata": {},
   "source": [
    "24 JULY (string and tuple)"
   ]
  },
  {
   "cell_type": "code",
   "execution_count": 7,
   "id": "1d120dd6-8ad3-4280-88f7-82d6dec4dd68",
   "metadata": {},
   "outputs": [
    {
     "name": "stdout",
     "output_type": "stream",
     "text": [
      "Match found!\n"
     ]
    }
   ],
   "source": [
    "# RegEx (Regular Expression) is a tool for matching and handling strings. (search, split, findall, sub)\n",
    "import re\n",
    "str = \"My name is Abhishek Uniyal\"\n",
    "\n",
    "# Define the pattern to search for. r is oprtinal here. r is use when we have pattern like r\"\\d\": Matches any digit.\n",
    "pattern = r\"Abhishek\"\n",
    "\n",
    "# Use the search() function to search for the pattern in the string\n",
    "result = re.search(pattern, str)\n",
    "\n",
    "# Check if a match was found\n",
    "if result:\n",
    "    print(\"Match found!\")\n",
    "else:\n",
    "    print(\"Match not found.\")"
   ]
  },
  {
   "cell_type": "code",
   "execution_count": 22,
   "id": "dd9da659-2529-48ef-ac4f-c67cc663b500",
   "metadata": {},
   "outputs": [
    {
     "name": "stdout",
     "output_type": "stream",
     "text": [
      "Phone number found: 1234567890\n"
     ]
    }
   ],
   "source": [
    "# using the \"\\d\" special sequence in a regular expression pattern with Python code:\n",
    "pattern = r\"\\d\\d\\d\\d\\d\\d\\d\\d\\d\\d\"  # Matches any ten consecutive digits\n",
    "text = \"My Phone number is 1234567890\"\n",
    "match = re.search(pattern, text)\n",
    "\n",
    "if match:\n",
    "    print(\"Phone number found:\", match.group())\n",
    "else:\n",
    "    print(\"No match\")"
   ]
  },
  {
   "cell_type": "code",
   "execution_count": 25,
   "id": "ca9c5e15-eafb-483d-aecf-59e4d62b2fb5",
   "metadata": {},
   "outputs": [
    {
     "name": "stdout",
     "output_type": "stream",
     "text": [
      "['as', 'as']\n"
     ]
    }
   ],
   "source": [
    "# findall. it finds all occurrences of a specified pattern within a string.\n",
    "text = \"Michael Jackson was a singer and known as the 'King of Pop'\"\n",
    "# Use the findall() function to find all occurrences of the \"as\" in the string\n",
    "result = re.findall(\"as\", text)\n",
    "\n",
    "print(result)"
   ]
  },
  {
   "cell_type": "code",
   "execution_count": 26,
   "id": "0162690e-5d33-4396-9fd2-c86cc74bd173",
   "metadata": {},
   "outputs": [
    {
     "name": "stdout",
     "output_type": "stream",
     "text": [
      "['Michael', 'was', 'a', 'singer', 'and', 'known', 'as', 'the', \"'King\", 'of', \"Pop'\"]\n"
     ]
    }
   ],
   "source": [
    "# Use the split function to split the string by the \"\\s\"\n",
    "text = \"Michael was a singer and known as the 'King of Pop'\"\n",
    "\n",
    "split_array = re.split(\"\\s\", text)\n",
    "\n",
    "# The split_array contains all the substrings, split by whitespace characters\n",
    "print(split_array) "
   ]
  },
  {
   "cell_type": "code",
   "execution_count": 29,
   "id": "c6253bb9-f674-46ab-8c95-e0832b727fa2",
   "metadata": {},
   "outputs": [
    {
     "name": "stdout",
     "output_type": "stream",
     "text": [
      "Michael was a singer and known as the 'legend'\n"
     ]
    }
   ],
   "source": [
    "# Define the regular expression pattern to search for\n",
    "text = \"Michael was a singer and known as the 'King of Pop'\"\n",
    "\n",
    "pattern = r\"King of Pop\"\n",
    "\n",
    "# Define the replacement string\n",
    "replacement = \"legend\"\n",
    "\n",
    "# Use the sub function to replace the pattern with the replacement string\n",
    "new_string = re.sub(pattern, replacement, text, flags=re.IGNORECASE)\n",
    "\n",
    "# The new_string contains the original string with the pattern replaced by the replacement string\n",
    "print(new_string) "
   ]
  },
  {
   "cell_type": "code",
   "execution_count": 72,
   "id": "3122666e-28de-45a8-b501-965ffd7cdd8e",
   "metadata": {},
   "outputs": [
    {
     "name": "stdout",
     "output_type": "stream",
     "text": [
      "3\n",
      "(3, (94, 34, 77))\n",
      "(94, 34, 77)\n",
      "34\n"
     ]
    }
   ],
   "source": [
    "# TUPLE. tuple are immutable. tuple do not support clear, append, sort, pop, insert, del, update, search\n",
    "\n",
    "rating=(2,5,3,(94,34,77),4)\n",
    "print(rating[2])\n",
    "print(rating[2:4])\n",
    "print(rating[3])\n",
    "print(rating[3][1])"
   ]
  },
  {
   "cell_type": "code",
   "execution_count": 13,
   "id": "5235896e-c4e5-45c4-94a9-55fadc1e97d9",
   "metadata": {},
   "outputs": [
    {
     "name": "stdout",
     "output_type": "stream",
     "text": [
      "3\n",
      "(1, 2, 3, 4, 5, 6)\n",
      "hi! hi! hi! hi! \n"
     ]
    },
    {
     "name": "stdin",
     "output_type": "stream",
     "text": [
      "enter number:  3\n"
     ]
    },
    {
     "name": "stdout",
     "output_type": "stream",
     "text": [
      "33333\n",
      "True\n",
      "3468['apple', 'banana', 'orange', 'mango']\n",
      "['apple', 'orange', 'mango']\n"
     ]
    }
   ],
   "source": [
    "# tuples\n",
    "t1=(1,2,3)\n",
    "print(len(t1))    # length\n",
    "\n",
    "t2=(1,2,3)\n",
    "t3=(4,5,6)\n",
    "print(t2+t3)      # concatenation\n",
    "\n",
    "t4=(\"hi! \")\n",
    "print(t4 *4)      #repitition\n",
    "\n",
    "n=input(\"enter number: \")   # for user generated integer value, treat number as string\n",
    "print( n * 5)\n",
    "\n",
    "t5=(5,4,3,6)\n",
    "print(3 in(t5))   # membership\n",
    "\n",
    "t6=(3,4,6,8)\n",
    "for x in t6:\n",
    "    print(x, end=\"\")      #iteration (loop)\n",
    "\n",
    "fruits = [\"apple\", \"banana\", \"orange\"] \n",
    "fruits.append(\"mango\")            # add value at end\n",
    "print(fruits)\n",
    "\n",
    "del fruits[1]              # delete value at index number 1\n",
    "print(fruits)"
   ]
  },
  {
   "cell_type": "markdown",
   "id": "3036a339-731c-4b4e-a0e3-6fe62b975c31",
   "metadata": {},
   "source": [
    "25 JULY (List)"
   ]
  },
  {
   "cell_type": "code",
   "execution_count": 20,
   "id": "07ef3eca-8dfa-49c2-aab3-28b2f19012ea",
   "metadata": {},
   "outputs": [
    {
     "name": "stdout",
     "output_type": "stream",
     "text": [
      "['abhishek', 'pankaj', 'rahul', 3, 6, 5]\n",
      "[3, 4, 5, 3, 4, 5]\n",
      "[2, 3, 4, 5]\n"
     ]
    }
   ],
   "source": [
    "# LIST. it is mutable (modify). all the method that i apply previosuly in string is applied in list\n",
    "\n",
    "# concatenation (+)\n",
    "name=[\"abhishek\", \"pankaj\", \"rahul\"]\n",
    "number=[3,6,5]\n",
    "print(name+number)\n",
    "\n",
    "# repeat (*)\n",
    "number2=[3,4,5]\n",
    "b=number2*2\n",
    "print(b)\n",
    "\n",
    "#  range (:)\n",
    "number3=[1,2,3,4,5,6,7,8,9]\n",
    "a=number3[1:5]\n",
    "print(a)"
   ]
  },
  {
   "cell_type": "code",
   "execution_count": null,
   "id": "4d416108-a2f9-48f6-99ba-5548a242a1d4",
   "metadata": {},
   "outputs": [],
   "source": []
  },
  {
   "cell_type": "code",
   "execution_count": 2,
   "id": "ce7db73b-fae5-4683-ae84-baffb83ec7bb",
   "metadata": {},
   "outputs": [
    {
     "name": "stdout",
     "output_type": "stream",
     "text": [
      "this line is here so the current cell is on top of screen, not at bottom\n"
     ]
    }
   ],
   "source": [
    "print(\"this line is here so the current cell is on top of screen, not at bottom\")\n",
    "\n",
    "\n",
    "\n",
    "\n",
    "\n",
    "\n",
    "\n",
    "\n",
    "\n",
    "\n",
    "\n",
    "\n"
   ]
  }
 ],
 "metadata": {
  "kernelspec": {
   "display_name": "Python 3 (ipykernel)",
   "language": "python",
   "name": "python3"
  },
  "language_info": {
   "codemirror_mode": {
    "name": "ipython",
    "version": 3
   },
   "file_extension": ".py",
   "mimetype": "text/x-python",
   "name": "python",
   "nbconvert_exporter": "python",
   "pygments_lexer": "ipython3",
   "version": "3.11.7"
  }
 },
 "nbformat": 4,
 "nbformat_minor": 5
}
